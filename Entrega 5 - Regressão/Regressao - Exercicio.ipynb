{
  "nbformat": 4,
  "nbformat_minor": 0,
  "metadata": {
    "celltoolbar": "Edit Metadata",
    "colab": {
      "name": "Regressao - Exercicio.ipynb",
      "provenance": [],
      "collapsed_sections": [],
      "toc_visible": true,
      "include_colab_link": true
    },
    "kernelspec": {
      "display_name": "Python 3",
      "language": "python",
      "name": "python3"
    },
    "language_info": {
      "codemirror_mode": {
        "name": "ipython",
        "version": 3
      },
      "file_extension": ".py",
      "mimetype": "text/x-python",
      "name": "python",
      "nbconvert_exporter": "python",
      "pygments_lexer": "ipython3",
      "version": "3.8.5"
    },
    "toc": {
      "base_numbering": 1,
      "nav_menu": {},
      "number_sections": true,
      "sideBar": true,
      "skip_h1_title": true,
      "title_cell": "Table of Contents",
      "title_sidebar": "Contents",
      "toc_cell": false,
      "toc_position": {
        "height": "calc(100% - 180px)",
        "left": "10px",
        "top": "150px",
        "width": "207px"
      },
      "toc_section_display": true,
      "toc_window_display": true
    },
    "varInspector": {
      "cols": {
        "lenName": 16,
        "lenType": 16,
        "lenVar": 40
      },
      "kernels_config": {
        "python": {
          "delete_cmd_postfix": "",
          "delete_cmd_prefix": "del ",
          "library": "var_list.py",
          "varRefreshCmd": "print(var_dic_list())"
        },
        "r": {
          "delete_cmd_postfix": ") ",
          "delete_cmd_prefix": "rm(",
          "library": "var_list.r",
          "varRefreshCmd": "cat(var_dic_list()) "
        }
      },
      "types_to_exclude": [
        "module",
        "function",
        "builtin_function_or_method",
        "instance",
        "_Feature"
      ],
      "window_display": false
    }
  },
  "cells": [
    {
      "cell_type": "markdown",
      "metadata": {
        "id": "view-in-github",
        "colab_type": "text"
      },
      "source": [
        "<a href=\"https://colab.research.google.com/github/wesleydecezere/programa_ds_fc/blob/master/5.%20Regress%C3%A3o/Entrega%205%20-%20Regress%C3%A3o/Regressao%20-%20Exercicio.ipynb\" target=\"_parent\"><img src=\"https://colab.research.google.com/assets/colab-badge.svg\" alt=\"Open In Colab\"/></a>"
      ]
    },
    {
      "cell_type": "markdown",
      "metadata": {
        "id": "gTh4frkWbKmm"
      },
      "source": [
        "# <center>Regressão - Exercício</center>\n",
        "___"
      ]
    },
    {
      "cell_type": "markdown",
      "metadata": {
        "id": "6ZTb_gkObKpE"
      },
      "source": [
        "<a id=\"exercicio\"></a>\n",
        "## 6. Exercícios\n",
        "\n",
        "Esse notebook contém os exercícios da aula de regressão. Siga as instruções para aplicar o que foi aprendido nessa aula para outra base de dados para tentar prever os preços de carros. Essa base de dados foi disponibilizada junto com o notebook.\n",
        "\n",
        "Vamos começasr lendo os dados."
      ]
    },
    {
      "cell_type": "code",
      "metadata": {
        "id": "quiT1EFyHNHO"
      },
      "source": [
        "import pandas as pd\n",
        "import numpy as np\n",
        "import math\n",
        "import matplotlib.pyplot as plt\n",
        "from sklearn.model_selection import train_test_split\n",
        "from sklearn.model_selection import GridSearchCV\n",
        "from sklearn.ensemble import RandomForestRegressor\n",
        "from sklearn.metrics import mean_squared_error\n",
        "import lightgbm as lgb"
      ],
      "execution_count": 1,
      "outputs": []
    },
    {
      "cell_type": "code",
      "metadata": {
        "colab": {
          "base_uri": "https://localhost:8080/"
        },
        "id": "YyOitx1Veiue",
        "outputId": "57c91c8f-d228-4575-da43-d9732dbd3a61"
      },
      "source": [
        "from google.colab import drive\n",
        "drive.mount('/content/drive')"
      ],
      "execution_count": 2,
      "outputs": [
        {
          "output_type": "stream",
          "text": [
            "Mounted at /content/drive\n"
          ],
          "name": "stdout"
        }
      ]
    },
    {
      "cell_type": "code",
      "metadata": {
        "colab": {
          "base_uri": "https://localhost:8080/",
          "height": 390
        },
        "id": "La9W9UKwbKpF",
        "outputId": "e828544e-90b8-439d-f1c2-86ee627122a7"
      },
      "source": [
        "cars_df = pd.read_csv(\"/content/drive/MyDrive/Programa Ciência de Dados/Entrega 5 - Regressão/data/OLX_Car_Data.csv\", encoding = 'unicode_escape')\n",
        "\n",
        "cars_df.describe(include='all')"
      ],
      "execution_count": 3,
      "outputs": [
        {
          "output_type": "execute_result",
          "data": {
            "text/html": [
              "<div>\n",
              "<style scoped>\n",
              "    .dataframe tbody tr th:only-of-type {\n",
              "        vertical-align: middle;\n",
              "    }\n",
              "\n",
              "    .dataframe tbody tr th {\n",
              "        vertical-align: top;\n",
              "    }\n",
              "\n",
              "    .dataframe thead th {\n",
              "        text-align: right;\n",
              "    }\n",
              "</style>\n",
              "<table border=\"1\" class=\"dataframe\">\n",
              "  <thead>\n",
              "    <tr style=\"text-align: right;\">\n",
              "      <th></th>\n",
              "      <th>Brand</th>\n",
              "      <th>Condition</th>\n",
              "      <th>Fuel</th>\n",
              "      <th>KMs Driven</th>\n",
              "      <th>Model</th>\n",
              "      <th>Price</th>\n",
              "      <th>Registered City</th>\n",
              "      <th>Transaction Type</th>\n",
              "      <th>Year</th>\n",
              "    </tr>\n",
              "  </thead>\n",
              "  <tbody>\n",
              "    <tr>\n",
              "      <th>count</th>\n",
              "      <td>22836</td>\n",
              "      <td>22837</td>\n",
              "      <td>22528</td>\n",
              "      <td>2.268700e+04</td>\n",
              "      <td>22525</td>\n",
              "      <td>2.497300e+04</td>\n",
              "      <td>20337</td>\n",
              "      <td>22528</td>\n",
              "      <td>22689.000000</td>\n",
              "    </tr>\n",
              "    <tr>\n",
              "      <th>unique</th>\n",
              "      <td>23</td>\n",
              "      <td>2</td>\n",
              "      <td>5</td>\n",
              "      <td>NaN</td>\n",
              "      <td>303</td>\n",
              "      <td>NaN</td>\n",
              "      <td>61</td>\n",
              "      <td>2</td>\n",
              "      <td>NaN</td>\n",
              "    </tr>\n",
              "    <tr>\n",
              "      <th>top</th>\n",
              "      <td>Suzuki</td>\n",
              "      <td>Used</td>\n",
              "      <td>Petrol</td>\n",
              "      <td>NaN</td>\n",
              "      <td>Cultus VXR</td>\n",
              "      <td>NaN</td>\n",
              "      <td>Karachi</td>\n",
              "      <td>Cash</td>\n",
              "      <td>NaN</td>\n",
              "    </tr>\n",
              "    <tr>\n",
              "      <th>freq</th>\n",
              "      <td>9773</td>\n",
              "      <td>18472</td>\n",
              "      <td>14309</td>\n",
              "      <td>NaN</td>\n",
              "      <td>1775</td>\n",
              "      <td>NaN</td>\n",
              "      <td>16599</td>\n",
              "      <td>21513</td>\n",
              "      <td>NaN</td>\n",
              "    </tr>\n",
              "    <tr>\n",
              "      <th>mean</th>\n",
              "      <td>NaN</td>\n",
              "      <td>NaN</td>\n",
              "      <td>NaN</td>\n",
              "      <td>1.278112e+05</td>\n",
              "      <td>NaN</td>\n",
              "      <td>9.128953e+05</td>\n",
              "      <td>NaN</td>\n",
              "      <td>NaN</td>\n",
              "      <td>2005.901626</td>\n",
              "    </tr>\n",
              "    <tr>\n",
              "      <th>std</th>\n",
              "      <td>NaN</td>\n",
              "      <td>NaN</td>\n",
              "      <td>NaN</td>\n",
              "      <td>5.996726e+05</td>\n",
              "      <td>NaN</td>\n",
              "      <td>1.537134e+06</td>\n",
              "      <td>NaN</td>\n",
              "      <td>NaN</td>\n",
              "      <td>9.563804</td>\n",
              "    </tr>\n",
              "    <tr>\n",
              "      <th>min</th>\n",
              "      <td>NaN</td>\n",
              "      <td>NaN</td>\n",
              "      <td>NaN</td>\n",
              "      <td>1.000000e+00</td>\n",
              "      <td>NaN</td>\n",
              "      <td>5.000000e+04</td>\n",
              "      <td>NaN</td>\n",
              "      <td>NaN</td>\n",
              "      <td>1915.000000</td>\n",
              "    </tr>\n",
              "    <tr>\n",
              "      <th>25%</th>\n",
              "      <td>NaN</td>\n",
              "      <td>NaN</td>\n",
              "      <td>NaN</td>\n",
              "      <td>1.600000e+04</td>\n",
              "      <td>NaN</td>\n",
              "      <td>3.800000e+05</td>\n",
              "      <td>NaN</td>\n",
              "      <td>NaN</td>\n",
              "      <td>2002.000000</td>\n",
              "    </tr>\n",
              "    <tr>\n",
              "      <th>50%</th>\n",
              "      <td>NaN</td>\n",
              "      <td>NaN</td>\n",
              "      <td>NaN</td>\n",
              "      <td>6.651000e+04</td>\n",
              "      <td>NaN</td>\n",
              "      <td>6.500000e+05</td>\n",
              "      <td>NaN</td>\n",
              "      <td>NaN</td>\n",
              "      <td>2008.000000</td>\n",
              "    </tr>\n",
              "    <tr>\n",
              "      <th>75%</th>\n",
              "      <td>NaN</td>\n",
              "      <td>NaN</td>\n",
              "      <td>NaN</td>\n",
              "      <td>1.000000e+05</td>\n",
              "      <td>NaN</td>\n",
              "      <td>1.145000e+06</td>\n",
              "      <td>NaN</td>\n",
              "      <td>NaN</td>\n",
              "      <td>2013.000000</td>\n",
              "    </tr>\n",
              "    <tr>\n",
              "      <th>max</th>\n",
              "      <td>NaN</td>\n",
              "      <td>NaN</td>\n",
              "      <td>NaN</td>\n",
              "      <td>1.000000e+07</td>\n",
              "      <td>NaN</td>\n",
              "      <td>8.765432e+07</td>\n",
              "      <td>NaN</td>\n",
              "      <td>NaN</td>\n",
              "      <td>2020.000000</td>\n",
              "    </tr>\n",
              "  </tbody>\n",
              "</table>\n",
              "</div>"
            ],
            "text/plain": [
              "         Brand Condition    Fuel  ...  Registered City Transaction Type          Year\n",
              "count    22836     22837   22528  ...            20337            22528  22689.000000\n",
              "unique      23         2       5  ...               61                2           NaN\n",
              "top     Suzuki      Used  Petrol  ...          Karachi             Cash           NaN\n",
              "freq      9773     18472   14309  ...            16599            21513           NaN\n",
              "mean       NaN       NaN     NaN  ...              NaN              NaN   2005.901626\n",
              "std        NaN       NaN     NaN  ...              NaN              NaN      9.563804\n",
              "min        NaN       NaN     NaN  ...              NaN              NaN   1915.000000\n",
              "25%        NaN       NaN     NaN  ...              NaN              NaN   2002.000000\n",
              "50%        NaN       NaN     NaN  ...              NaN              NaN   2008.000000\n",
              "75%        NaN       NaN     NaN  ...              NaN              NaN   2013.000000\n",
              "max        NaN       NaN     NaN  ...              NaN              NaN   2020.000000\n",
              "\n",
              "[11 rows x 9 columns]"
            ]
          },
          "metadata": {
            "tags": []
          },
          "execution_count": 3
        }
      ]
    },
    {
      "cell_type": "markdown",
      "metadata": {
        "id": "cOiFmnJfbKpK"
      },
      "source": [
        "Utilizando o método ```describe``` conseguimos ver algumas informações necessárias para fazer uma limpeza básica nos nossos dados. Veja abaixo."
      ]
    },
    {
      "cell_type": "code",
      "metadata": {
        "colab": {
          "base_uri": "https://localhost:8080/",
          "height": 363
        },
        "id": "VxzMk5VgbKpK",
        "outputId": "16564b46-4b78-4f0b-abc5-0fc315008842"
      },
      "source": [
        "# renomeando as colunas para remover os espaços\n",
        "cars_df.rename(columns = {'KMs Driven':'KMs_Driven', \n",
        "                          'Registered City':'Registered_City', \n",
        "                          'Transaction Type':'Transaction_Type'},\n",
        "               inplace = True)\n",
        "\n",
        "# Já que a coluna Model tem muitas categorias, vamos nomear todas com menos de 400 observações de 'Outros'\n",
        "models = ['Alto', 'Corolla GLI', 'Mehran VX', 'Mehran VXR', 'Vitz', 'Bolan', 'Cuore', 'Corolla XLI', 'Mira']\n",
        "cars_df.loc[~cars_df['Model'].isin(models),'Model'] = 'Outros'\n",
        "\n",
        "# removendo valores nulos\n",
        "cars_df.dropna(axis=0, inplace=True)\n",
        "\n",
        "# removendo outliers\n",
        "low = 0.05\n",
        "high = 0.95\n",
        "quant_df = cars_df.quantile([low, high])\n",
        "cars_df = cars_df[(cars_df.KMs_Driven < quant_df.loc[high, \"KMs_Driven\"]) & \n",
        "                  (cars_df.KMs_Driven > quant_df.loc[low, \"KMs_Driven\"]) &\n",
        "                  (cars_df.Price < quant_df.loc[high, \"Price\"]) & \n",
        "                  (cars_df.Price > quant_df.loc[low, \"Price\"]) &\n",
        "                  (cars_df.Year < quant_df.loc[high, \"Year\"]) & \n",
        "                  (cars_df.Year > quant_df.loc[low, \"Year\"])]\n",
        "\n",
        "# transformando as variáveis binárias\n",
        "cars_df['is_new'] = 1\n",
        "cars_df.loc[cars_df.Condition == 'Used', 'is_new'] = 0\n",
        "cars_df.drop(['Condition'], axis=1, inplace=True)\n",
        "\n",
        "cars_df['is_cash'] = 0\n",
        "cars_df.loc[cars_df.Transaction_Type=='Cash', 'is_cash'] = 1\n",
        "cars_df.drop('Transaction_Type', axis=1, inplace=True)\n",
        "\n",
        "# aplicando o One Hot Encoding\n",
        "cars_df = pd.concat([cars_df.drop(\"Brand\", axis=1), pd.get_dummies(cars_df.Brand, prefix='Brand')], axis=1)\n",
        "cars_df = pd.concat([cars_df.drop(\"Fuel\", axis=1), pd.get_dummies(cars_df.Fuel, prefix='Fuel')], axis=1)\n",
        "cars_df = pd.concat([cars_df.drop(\"Registered_City\", axis=1), pd.get_dummies(cars_df.Registered_City, prefix='RCity')], axis=1)\n",
        "cars_df = pd.concat([cars_df.drop(\"Model\", axis=1), pd.get_dummies(cars_df.Model, prefix='Model')], axis=1)\n",
        "\n",
        "cars_df.describe(include='all')"
      ],
      "execution_count": 4,
      "outputs": [
        {
          "output_type": "execute_result",
          "data": {
            "text/html": [
              "<div>\n",
              "<style scoped>\n",
              "    .dataframe tbody tr th:only-of-type {\n",
              "        vertical-align: middle;\n",
              "    }\n",
              "\n",
              "    .dataframe tbody tr th {\n",
              "        vertical-align: top;\n",
              "    }\n",
              "\n",
              "    .dataframe thead th {\n",
              "        text-align: right;\n",
              "    }\n",
              "</style>\n",
              "<table border=\"1\" class=\"dataframe\">\n",
              "  <thead>\n",
              "    <tr style=\"text-align: right;\">\n",
              "      <th></th>\n",
              "      <th>KMs_Driven</th>\n",
              "      <th>Price</th>\n",
              "      <th>Year</th>\n",
              "      <th>is_new</th>\n",
              "      <th>is_cash</th>\n",
              "      <th>Brand_Audi</th>\n",
              "      <th>Brand_BMW</th>\n",
              "      <th>Brand_Changan</th>\n",
              "      <th>Brand_Chevrolet</th>\n",
              "      <th>Brand_Classic &amp; Antiques</th>\n",
              "      <th>Brand_Daewoo</th>\n",
              "      <th>Brand_Daihatsu</th>\n",
              "      <th>Brand_FAW</th>\n",
              "      <th>Brand_Honda</th>\n",
              "      <th>Brand_Hyundai</th>\n",
              "      <th>Brand_KIA</th>\n",
              "      <th>Brand_Land Rover</th>\n",
              "      <th>Brand_Lexus</th>\n",
              "      <th>Brand_Mazda</th>\n",
              "      <th>Brand_Mercedes</th>\n",
              "      <th>Brand_Mitsubishi</th>\n",
              "      <th>Brand_Nissan</th>\n",
              "      <th>Brand_Other Brands</th>\n",
              "      <th>Brand_Porsche</th>\n",
              "      <th>Brand_Range Rover</th>\n",
              "      <th>Brand_Subaru</th>\n",
              "      <th>Brand_Suzuki</th>\n",
              "      <th>Brand_Toyota</th>\n",
              "      <th>Fuel_CNG</th>\n",
              "      <th>Fuel_Diesel</th>\n",
              "      <th>Fuel_Hybrid</th>\n",
              "      <th>Fuel_LPG</th>\n",
              "      <th>Fuel_Petrol</th>\n",
              "      <th>RCity_Abbottabad</th>\n",
              "      <th>RCity_Ali Masjid</th>\n",
              "      <th>RCity_Askoley</th>\n",
              "      <th>RCity_Attock</th>\n",
              "      <th>RCity_Badin</th>\n",
              "      <th>RCity_Bagh</th>\n",
              "      <th>RCity_Bahawalnagar</th>\n",
              "      <th>...</th>\n",
              "      <th>RCity_Kasur</th>\n",
              "      <th>RCity_Khairpur</th>\n",
              "      <th>RCity_Khanewal</th>\n",
              "      <th>RCity_Khanpur</th>\n",
              "      <th>RCity_Khaplu</th>\n",
              "      <th>RCity_Khushab</th>\n",
              "      <th>RCity_Kohat</th>\n",
              "      <th>RCity_Lahore</th>\n",
              "      <th>RCity_Larkana</th>\n",
              "      <th>RCity_Mandi Bahauddin</th>\n",
              "      <th>RCity_Mardan</th>\n",
              "      <th>RCity_Mirpur</th>\n",
              "      <th>RCity_Multan</th>\n",
              "      <th>RCity_Nawabshah</th>\n",
              "      <th>RCity_Nowshera</th>\n",
              "      <th>RCity_Okara</th>\n",
              "      <th>RCity_Pakpattan</th>\n",
              "      <th>RCity_Peshawar</th>\n",
              "      <th>RCity_Quetta</th>\n",
              "      <th>RCity_Rahimyar Khan</th>\n",
              "      <th>RCity_Rawalpindi</th>\n",
              "      <th>RCity_Sahiwal</th>\n",
              "      <th>RCity_Sargodha</th>\n",
              "      <th>RCity_Sheikhüpura</th>\n",
              "      <th>RCity_Sialkot</th>\n",
              "      <th>RCity_Sukkar</th>\n",
              "      <th>RCity_Sukkur</th>\n",
              "      <th>RCity_Tank</th>\n",
              "      <th>RCity_Vehari</th>\n",
              "      <th>RCity_Wah</th>\n",
              "      <th>Model_Alto</th>\n",
              "      <th>Model_Bolan</th>\n",
              "      <th>Model_Corolla GLI</th>\n",
              "      <th>Model_Corolla XLI</th>\n",
              "      <th>Model_Cuore</th>\n",
              "      <th>Model_Mehran VX</th>\n",
              "      <th>Model_Mehran VXR</th>\n",
              "      <th>Model_Mira</th>\n",
              "      <th>Model_Outros</th>\n",
              "      <th>Model_Vitz</th>\n",
              "    </tr>\n",
              "  </thead>\n",
              "  <tbody>\n",
              "    <tr>\n",
              "      <th>count</th>\n",
              "      <td>14498.000000</td>\n",
              "      <td>1.449800e+04</td>\n",
              "      <td>14498.000000</td>\n",
              "      <td>14498.000000</td>\n",
              "      <td>14498.000000</td>\n",
              "      <td>14498.000000</td>\n",
              "      <td>14498.000000</td>\n",
              "      <td>14498.000000</td>\n",
              "      <td>14498.000000</td>\n",
              "      <td>14498.000000</td>\n",
              "      <td>14498.000000</td>\n",
              "      <td>14498.000000</td>\n",
              "      <td>14498.000000</td>\n",
              "      <td>14498.000000</td>\n",
              "      <td>14498.000000</td>\n",
              "      <td>14498.000000</td>\n",
              "      <td>14498.000000</td>\n",
              "      <td>14498.000000</td>\n",
              "      <td>14498.000000</td>\n",
              "      <td>14498.000000</td>\n",
              "      <td>14498.000000</td>\n",
              "      <td>14498.000000</td>\n",
              "      <td>14498.000000</td>\n",
              "      <td>14498.000000</td>\n",
              "      <td>14498.000000</td>\n",
              "      <td>14498.000000</td>\n",
              "      <td>14498.000000</td>\n",
              "      <td>14498.000000</td>\n",
              "      <td>14498.000000</td>\n",
              "      <td>14498.000000</td>\n",
              "      <td>14498.000000</td>\n",
              "      <td>14498.000000</td>\n",
              "      <td>14498.000000</td>\n",
              "      <td>14498.000000</td>\n",
              "      <td>14498.000000</td>\n",
              "      <td>14498.000000</td>\n",
              "      <td>14498.000000</td>\n",
              "      <td>14498.000000</td>\n",
              "      <td>14498.000000</td>\n",
              "      <td>14498.000000</td>\n",
              "      <td>...</td>\n",
              "      <td>14498.000000</td>\n",
              "      <td>14498.000000</td>\n",
              "      <td>14498.000000</td>\n",
              "      <td>14498.000000</td>\n",
              "      <td>14498.000000</td>\n",
              "      <td>14498.000000</td>\n",
              "      <td>14498.000000</td>\n",
              "      <td>14498.000000</td>\n",
              "      <td>14498.000000</td>\n",
              "      <td>14498.000000</td>\n",
              "      <td>14498.000000</td>\n",
              "      <td>14498.000000</td>\n",
              "      <td>14498.000000</td>\n",
              "      <td>14498.000000</td>\n",
              "      <td>14498.000000</td>\n",
              "      <td>14498.000000</td>\n",
              "      <td>14498.000000</td>\n",
              "      <td>14498.000000</td>\n",
              "      <td>14498.000000</td>\n",
              "      <td>14498.000000</td>\n",
              "      <td>14498.000000</td>\n",
              "      <td>14498.000000</td>\n",
              "      <td>14498.000000</td>\n",
              "      <td>14498.000000</td>\n",
              "      <td>14498.000000</td>\n",
              "      <td>14498.000000</td>\n",
              "      <td>14498.000000</td>\n",
              "      <td>14498.000000</td>\n",
              "      <td>14498.000000</td>\n",
              "      <td>14498.000000</td>\n",
              "      <td>14498.000000</td>\n",
              "      <td>14498.000000</td>\n",
              "      <td>14498.000000</td>\n",
              "      <td>14498.000000</td>\n",
              "      <td>14498.000000</td>\n",
              "      <td>14498.000000</td>\n",
              "      <td>14498.000000</td>\n",
              "      <td>14498.000000</td>\n",
              "      <td>14498.000000</td>\n",
              "      <td>14498.000000</td>\n",
              "    </tr>\n",
              "    <tr>\n",
              "      <th>mean</th>\n",
              "      <td>76730.142847</td>\n",
              "      <td>7.807886e+05</td>\n",
              "      <td>2006.757622</td>\n",
              "      <td>0.139743</td>\n",
              "      <td>0.972824</td>\n",
              "      <td>0.000345</td>\n",
              "      <td>0.000828</td>\n",
              "      <td>0.000345</td>\n",
              "      <td>0.002621</td>\n",
              "      <td>0.000069</td>\n",
              "      <td>0.002966</td>\n",
              "      <td>0.095806</td>\n",
              "      <td>0.001586</td>\n",
              "      <td>0.155125</td>\n",
              "      <td>0.014278</td>\n",
              "      <td>0.005932</td>\n",
              "      <td>0.000069</td>\n",
              "      <td>0.000621</td>\n",
              "      <td>0.004414</td>\n",
              "      <td>0.002345</td>\n",
              "      <td>0.018899</td>\n",
              "      <td>0.026969</td>\n",
              "      <td>0.004001</td>\n",
              "      <td>0.000069</td>\n",
              "      <td>0.000138</td>\n",
              "      <td>0.000897</td>\n",
              "      <td>0.455097</td>\n",
              "      <td>0.206580</td>\n",
              "      <td>0.301214</td>\n",
              "      <td>0.009932</td>\n",
              "      <td>0.031729</td>\n",
              "      <td>0.000483</td>\n",
              "      <td>0.656642</td>\n",
              "      <td>0.000621</td>\n",
              "      <td>0.000207</td>\n",
              "      <td>0.000138</td>\n",
              "      <td>0.000276</td>\n",
              "      <td>0.000138</td>\n",
              "      <td>0.000207</td>\n",
              "      <td>0.000069</td>\n",
              "      <td>...</td>\n",
              "      <td>0.000276</td>\n",
              "      <td>0.000207</td>\n",
              "      <td>0.000276</td>\n",
              "      <td>0.000207</td>\n",
              "      <td>0.000069</td>\n",
              "      <td>0.000069</td>\n",
              "      <td>0.000207</td>\n",
              "      <td>0.104083</td>\n",
              "      <td>0.000138</td>\n",
              "      <td>0.000069</td>\n",
              "      <td>0.000276</td>\n",
              "      <td>0.000207</td>\n",
              "      <td>0.006208</td>\n",
              "      <td>0.000207</td>\n",
              "      <td>0.000207</td>\n",
              "      <td>0.000276</td>\n",
              "      <td>0.000069</td>\n",
              "      <td>0.002897</td>\n",
              "      <td>0.000759</td>\n",
              "      <td>0.000690</td>\n",
              "      <td>0.007656</td>\n",
              "      <td>0.000138</td>\n",
              "      <td>0.000414</td>\n",
              "      <td>0.000069</td>\n",
              "      <td>0.002000</td>\n",
              "      <td>0.000138</td>\n",
              "      <td>0.000276</td>\n",
              "      <td>0.000069</td>\n",
              "      <td>0.000207</td>\n",
              "      <td>0.000069</td>\n",
              "      <td>0.087529</td>\n",
              "      <td>0.031315</td>\n",
              "      <td>0.050697</td>\n",
              "      <td>0.029452</td>\n",
              "      <td>0.030211</td>\n",
              "      <td>0.049041</td>\n",
              "      <td>0.038626</td>\n",
              "      <td>0.028280</td>\n",
              "      <td>0.623327</td>\n",
              "      <td>0.031522</td>\n",
              "    </tr>\n",
              "    <tr>\n",
              "      <th>std</th>\n",
              "      <td>48129.383137</td>\n",
              "      <td>4.369079e+05</td>\n",
              "      <td>6.702141</td>\n",
              "      <td>0.346733</td>\n",
              "      <td>0.162602</td>\n",
              "      <td>0.018568</td>\n",
              "      <td>0.028759</td>\n",
              "      <td>0.018568</td>\n",
              "      <td>0.051131</td>\n",
              "      <td>0.008305</td>\n",
              "      <td>0.054381</td>\n",
              "      <td>0.294336</td>\n",
              "      <td>0.039800</td>\n",
              "      <td>0.362036</td>\n",
              "      <td>0.118638</td>\n",
              "      <td>0.076792</td>\n",
              "      <td>0.008305</td>\n",
              "      <td>0.024908</td>\n",
              "      <td>0.066296</td>\n",
              "      <td>0.048372</td>\n",
              "      <td>0.136174</td>\n",
              "      <td>0.161999</td>\n",
              "      <td>0.063125</td>\n",
              "      <td>0.008305</td>\n",
              "      <td>0.011745</td>\n",
              "      <td>0.029932</td>\n",
              "      <td>0.497997</td>\n",
              "      <td>0.404866</td>\n",
              "      <td>0.458801</td>\n",
              "      <td>0.099169</td>\n",
              "      <td>0.175282</td>\n",
              "      <td>0.021969</td>\n",
              "      <td>0.474846</td>\n",
              "      <td>0.024908</td>\n",
              "      <td>0.014384</td>\n",
              "      <td>0.011745</td>\n",
              "      <td>0.016609</td>\n",
              "      <td>0.011745</td>\n",
              "      <td>0.014384</td>\n",
              "      <td>0.008305</td>\n",
              "      <td>...</td>\n",
              "      <td>0.016609</td>\n",
              "      <td>0.014384</td>\n",
              "      <td>0.016609</td>\n",
              "      <td>0.014384</td>\n",
              "      <td>0.008305</td>\n",
              "      <td>0.008305</td>\n",
              "      <td>0.014384</td>\n",
              "      <td>0.305379</td>\n",
              "      <td>0.011745</td>\n",
              "      <td>0.008305</td>\n",
              "      <td>0.016609</td>\n",
              "      <td>0.014384</td>\n",
              "      <td>0.078547</td>\n",
              "      <td>0.014384</td>\n",
              "      <td>0.014384</td>\n",
              "      <td>0.016609</td>\n",
              "      <td>0.008305</td>\n",
              "      <td>0.053747</td>\n",
              "      <td>0.027535</td>\n",
              "      <td>0.026255</td>\n",
              "      <td>0.087167</td>\n",
              "      <td>0.011745</td>\n",
              "      <td>0.020340</td>\n",
              "      <td>0.008305</td>\n",
              "      <td>0.044681</td>\n",
              "      <td>0.011745</td>\n",
              "      <td>0.016609</td>\n",
              "      <td>0.008305</td>\n",
              "      <td>0.014384</td>\n",
              "      <td>0.008305</td>\n",
              "      <td>0.282619</td>\n",
              "      <td>0.174173</td>\n",
              "      <td>0.219385</td>\n",
              "      <td>0.169077</td>\n",
              "      <td>0.171174</td>\n",
              "      <td>0.215962</td>\n",
              "      <td>0.192709</td>\n",
              "      <td>0.165777</td>\n",
              "      <td>0.484568</td>\n",
              "      <td>0.174729</td>\n",
              "    </tr>\n",
              "    <tr>\n",
              "      <th>min</th>\n",
              "      <td>2.000000</td>\n",
              "      <td>1.550000e+05</td>\n",
              "      <td>1987.000000</td>\n",
              "      <td>0.000000</td>\n",
              "      <td>0.000000</td>\n",
              "      <td>0.000000</td>\n",
              "      <td>0.000000</td>\n",
              "      <td>0.000000</td>\n",
              "      <td>0.000000</td>\n",
              "      <td>0.000000</td>\n",
              "      <td>0.000000</td>\n",
              "      <td>0.000000</td>\n",
              "      <td>0.000000</td>\n",
              "      <td>0.000000</td>\n",
              "      <td>0.000000</td>\n",
              "      <td>0.000000</td>\n",
              "      <td>0.000000</td>\n",
              "      <td>0.000000</td>\n",
              "      <td>0.000000</td>\n",
              "      <td>0.000000</td>\n",
              "      <td>0.000000</td>\n",
              "      <td>0.000000</td>\n",
              "      <td>0.000000</td>\n",
              "      <td>0.000000</td>\n",
              "      <td>0.000000</td>\n",
              "      <td>0.000000</td>\n",
              "      <td>0.000000</td>\n",
              "      <td>0.000000</td>\n",
              "      <td>0.000000</td>\n",
              "      <td>0.000000</td>\n",
              "      <td>0.000000</td>\n",
              "      <td>0.000000</td>\n",
              "      <td>0.000000</td>\n",
              "      <td>0.000000</td>\n",
              "      <td>0.000000</td>\n",
              "      <td>0.000000</td>\n",
              "      <td>0.000000</td>\n",
              "      <td>0.000000</td>\n",
              "      <td>0.000000</td>\n",
              "      <td>0.000000</td>\n",
              "      <td>...</td>\n",
              "      <td>0.000000</td>\n",
              "      <td>0.000000</td>\n",
              "      <td>0.000000</td>\n",
              "      <td>0.000000</td>\n",
              "      <td>0.000000</td>\n",
              "      <td>0.000000</td>\n",
              "      <td>0.000000</td>\n",
              "      <td>0.000000</td>\n",
              "      <td>0.000000</td>\n",
              "      <td>0.000000</td>\n",
              "      <td>0.000000</td>\n",
              "      <td>0.000000</td>\n",
              "      <td>0.000000</td>\n",
              "      <td>0.000000</td>\n",
              "      <td>0.000000</td>\n",
              "      <td>0.000000</td>\n",
              "      <td>0.000000</td>\n",
              "      <td>0.000000</td>\n",
              "      <td>0.000000</td>\n",
              "      <td>0.000000</td>\n",
              "      <td>0.000000</td>\n",
              "      <td>0.000000</td>\n",
              "      <td>0.000000</td>\n",
              "      <td>0.000000</td>\n",
              "      <td>0.000000</td>\n",
              "      <td>0.000000</td>\n",
              "      <td>0.000000</td>\n",
              "      <td>0.000000</td>\n",
              "      <td>0.000000</td>\n",
              "      <td>0.000000</td>\n",
              "      <td>0.000000</td>\n",
              "      <td>0.000000</td>\n",
              "      <td>0.000000</td>\n",
              "      <td>0.000000</td>\n",
              "      <td>0.000000</td>\n",
              "      <td>0.000000</td>\n",
              "      <td>0.000000</td>\n",
              "      <td>0.000000</td>\n",
              "      <td>0.000000</td>\n",
              "      <td>0.000000</td>\n",
              "    </tr>\n",
              "    <tr>\n",
              "      <th>25%</th>\n",
              "      <td>44000.000000</td>\n",
              "      <td>4.450000e+05</td>\n",
              "      <td>2004.000000</td>\n",
              "      <td>0.000000</td>\n",
              "      <td>1.000000</td>\n",
              "      <td>0.000000</td>\n",
              "      <td>0.000000</td>\n",
              "      <td>0.000000</td>\n",
              "      <td>0.000000</td>\n",
              "      <td>0.000000</td>\n",
              "      <td>0.000000</td>\n",
              "      <td>0.000000</td>\n",
              "      <td>0.000000</td>\n",
              "      <td>0.000000</td>\n",
              "      <td>0.000000</td>\n",
              "      <td>0.000000</td>\n",
              "      <td>0.000000</td>\n",
              "      <td>0.000000</td>\n",
              "      <td>0.000000</td>\n",
              "      <td>0.000000</td>\n",
              "      <td>0.000000</td>\n",
              "      <td>0.000000</td>\n",
              "      <td>0.000000</td>\n",
              "      <td>0.000000</td>\n",
              "      <td>0.000000</td>\n",
              "      <td>0.000000</td>\n",
              "      <td>0.000000</td>\n",
              "      <td>0.000000</td>\n",
              "      <td>0.000000</td>\n",
              "      <td>0.000000</td>\n",
              "      <td>0.000000</td>\n",
              "      <td>0.000000</td>\n",
              "      <td>0.000000</td>\n",
              "      <td>0.000000</td>\n",
              "      <td>0.000000</td>\n",
              "      <td>0.000000</td>\n",
              "      <td>0.000000</td>\n",
              "      <td>0.000000</td>\n",
              "      <td>0.000000</td>\n",
              "      <td>0.000000</td>\n",
              "      <td>...</td>\n",
              "      <td>0.000000</td>\n",
              "      <td>0.000000</td>\n",
              "      <td>0.000000</td>\n",
              "      <td>0.000000</td>\n",
              "      <td>0.000000</td>\n",
              "      <td>0.000000</td>\n",
              "      <td>0.000000</td>\n",
              "      <td>0.000000</td>\n",
              "      <td>0.000000</td>\n",
              "      <td>0.000000</td>\n",
              "      <td>0.000000</td>\n",
              "      <td>0.000000</td>\n",
              "      <td>0.000000</td>\n",
              "      <td>0.000000</td>\n",
              "      <td>0.000000</td>\n",
              "      <td>0.000000</td>\n",
              "      <td>0.000000</td>\n",
              "      <td>0.000000</td>\n",
              "      <td>0.000000</td>\n",
              "      <td>0.000000</td>\n",
              "      <td>0.000000</td>\n",
              "      <td>0.000000</td>\n",
              "      <td>0.000000</td>\n",
              "      <td>0.000000</td>\n",
              "      <td>0.000000</td>\n",
              "      <td>0.000000</td>\n",
              "      <td>0.000000</td>\n",
              "      <td>0.000000</td>\n",
              "      <td>0.000000</td>\n",
              "      <td>0.000000</td>\n",
              "      <td>0.000000</td>\n",
              "      <td>0.000000</td>\n",
              "      <td>0.000000</td>\n",
              "      <td>0.000000</td>\n",
              "      <td>0.000000</td>\n",
              "      <td>0.000000</td>\n",
              "      <td>0.000000</td>\n",
              "      <td>0.000000</td>\n",
              "      <td>0.000000</td>\n",
              "      <td>0.000000</td>\n",
              "    </tr>\n",
              "    <tr>\n",
              "      <th>50%</th>\n",
              "      <td>77000.000000</td>\n",
              "      <td>6.800000e+05</td>\n",
              "      <td>2008.000000</td>\n",
              "      <td>0.000000</td>\n",
              "      <td>1.000000</td>\n",
              "      <td>0.000000</td>\n",
              "      <td>0.000000</td>\n",
              "      <td>0.000000</td>\n",
              "      <td>0.000000</td>\n",
              "      <td>0.000000</td>\n",
              "      <td>0.000000</td>\n",
              "      <td>0.000000</td>\n",
              "      <td>0.000000</td>\n",
              "      <td>0.000000</td>\n",
              "      <td>0.000000</td>\n",
              "      <td>0.000000</td>\n",
              "      <td>0.000000</td>\n",
              "      <td>0.000000</td>\n",
              "      <td>0.000000</td>\n",
              "      <td>0.000000</td>\n",
              "      <td>0.000000</td>\n",
              "      <td>0.000000</td>\n",
              "      <td>0.000000</td>\n",
              "      <td>0.000000</td>\n",
              "      <td>0.000000</td>\n",
              "      <td>0.000000</td>\n",
              "      <td>0.000000</td>\n",
              "      <td>0.000000</td>\n",
              "      <td>0.000000</td>\n",
              "      <td>0.000000</td>\n",
              "      <td>0.000000</td>\n",
              "      <td>0.000000</td>\n",
              "      <td>1.000000</td>\n",
              "      <td>0.000000</td>\n",
              "      <td>0.000000</td>\n",
              "      <td>0.000000</td>\n",
              "      <td>0.000000</td>\n",
              "      <td>0.000000</td>\n",
              "      <td>0.000000</td>\n",
              "      <td>0.000000</td>\n",
              "      <td>...</td>\n",
              "      <td>0.000000</td>\n",
              "      <td>0.000000</td>\n",
              "      <td>0.000000</td>\n",
              "      <td>0.000000</td>\n",
              "      <td>0.000000</td>\n",
              "      <td>0.000000</td>\n",
              "      <td>0.000000</td>\n",
              "      <td>0.000000</td>\n",
              "      <td>0.000000</td>\n",
              "      <td>0.000000</td>\n",
              "      <td>0.000000</td>\n",
              "      <td>0.000000</td>\n",
              "      <td>0.000000</td>\n",
              "      <td>0.000000</td>\n",
              "      <td>0.000000</td>\n",
              "      <td>0.000000</td>\n",
              "      <td>0.000000</td>\n",
              "      <td>0.000000</td>\n",
              "      <td>0.000000</td>\n",
              "      <td>0.000000</td>\n",
              "      <td>0.000000</td>\n",
              "      <td>0.000000</td>\n",
              "      <td>0.000000</td>\n",
              "      <td>0.000000</td>\n",
              "      <td>0.000000</td>\n",
              "      <td>0.000000</td>\n",
              "      <td>0.000000</td>\n",
              "      <td>0.000000</td>\n",
              "      <td>0.000000</td>\n",
              "      <td>0.000000</td>\n",
              "      <td>0.000000</td>\n",
              "      <td>0.000000</td>\n",
              "      <td>0.000000</td>\n",
              "      <td>0.000000</td>\n",
              "      <td>0.000000</td>\n",
              "      <td>0.000000</td>\n",
              "      <td>0.000000</td>\n",
              "      <td>0.000000</td>\n",
              "      <td>1.000000</td>\n",
              "      <td>0.000000</td>\n",
              "    </tr>\n",
              "    <tr>\n",
              "      <th>75%</th>\n",
              "      <td>100000.000000</td>\n",
              "      <td>1.060000e+06</td>\n",
              "      <td>2012.000000</td>\n",
              "      <td>0.000000</td>\n",
              "      <td>1.000000</td>\n",
              "      <td>0.000000</td>\n",
              "      <td>0.000000</td>\n",
              "      <td>0.000000</td>\n",
              "      <td>0.000000</td>\n",
              "      <td>0.000000</td>\n",
              "      <td>0.000000</td>\n",
              "      <td>0.000000</td>\n",
              "      <td>0.000000</td>\n",
              "      <td>0.000000</td>\n",
              "      <td>0.000000</td>\n",
              "      <td>0.000000</td>\n",
              "      <td>0.000000</td>\n",
              "      <td>0.000000</td>\n",
              "      <td>0.000000</td>\n",
              "      <td>0.000000</td>\n",
              "      <td>0.000000</td>\n",
              "      <td>0.000000</td>\n",
              "      <td>0.000000</td>\n",
              "      <td>0.000000</td>\n",
              "      <td>0.000000</td>\n",
              "      <td>0.000000</td>\n",
              "      <td>1.000000</td>\n",
              "      <td>0.000000</td>\n",
              "      <td>1.000000</td>\n",
              "      <td>0.000000</td>\n",
              "      <td>0.000000</td>\n",
              "      <td>0.000000</td>\n",
              "      <td>1.000000</td>\n",
              "      <td>0.000000</td>\n",
              "      <td>0.000000</td>\n",
              "      <td>0.000000</td>\n",
              "      <td>0.000000</td>\n",
              "      <td>0.000000</td>\n",
              "      <td>0.000000</td>\n",
              "      <td>0.000000</td>\n",
              "      <td>...</td>\n",
              "      <td>0.000000</td>\n",
              "      <td>0.000000</td>\n",
              "      <td>0.000000</td>\n",
              "      <td>0.000000</td>\n",
              "      <td>0.000000</td>\n",
              "      <td>0.000000</td>\n",
              "      <td>0.000000</td>\n",
              "      <td>0.000000</td>\n",
              "      <td>0.000000</td>\n",
              "      <td>0.000000</td>\n",
              "      <td>0.000000</td>\n",
              "      <td>0.000000</td>\n",
              "      <td>0.000000</td>\n",
              "      <td>0.000000</td>\n",
              "      <td>0.000000</td>\n",
              "      <td>0.000000</td>\n",
              "      <td>0.000000</td>\n",
              "      <td>0.000000</td>\n",
              "      <td>0.000000</td>\n",
              "      <td>0.000000</td>\n",
              "      <td>0.000000</td>\n",
              "      <td>0.000000</td>\n",
              "      <td>0.000000</td>\n",
              "      <td>0.000000</td>\n",
              "      <td>0.000000</td>\n",
              "      <td>0.000000</td>\n",
              "      <td>0.000000</td>\n",
              "      <td>0.000000</td>\n",
              "      <td>0.000000</td>\n",
              "      <td>0.000000</td>\n",
              "      <td>0.000000</td>\n",
              "      <td>0.000000</td>\n",
              "      <td>0.000000</td>\n",
              "      <td>0.000000</td>\n",
              "      <td>0.000000</td>\n",
              "      <td>0.000000</td>\n",
              "      <td>0.000000</td>\n",
              "      <td>0.000000</td>\n",
              "      <td>1.000000</td>\n",
              "      <td>0.000000</td>\n",
              "    </tr>\n",
              "    <tr>\n",
              "      <th>max</th>\n",
              "      <td>222211.000000</td>\n",
              "      <td>2.055000e+06</td>\n",
              "      <td>2016.000000</td>\n",
              "      <td>1.000000</td>\n",
              "      <td>1.000000</td>\n",
              "      <td>1.000000</td>\n",
              "      <td>1.000000</td>\n",
              "      <td>1.000000</td>\n",
              "      <td>1.000000</td>\n",
              "      <td>1.000000</td>\n",
              "      <td>1.000000</td>\n",
              "      <td>1.000000</td>\n",
              "      <td>1.000000</td>\n",
              "      <td>1.000000</td>\n",
              "      <td>1.000000</td>\n",
              "      <td>1.000000</td>\n",
              "      <td>1.000000</td>\n",
              "      <td>1.000000</td>\n",
              "      <td>1.000000</td>\n",
              "      <td>1.000000</td>\n",
              "      <td>1.000000</td>\n",
              "      <td>1.000000</td>\n",
              "      <td>1.000000</td>\n",
              "      <td>1.000000</td>\n",
              "      <td>1.000000</td>\n",
              "      <td>1.000000</td>\n",
              "      <td>1.000000</td>\n",
              "      <td>1.000000</td>\n",
              "      <td>1.000000</td>\n",
              "      <td>1.000000</td>\n",
              "      <td>1.000000</td>\n",
              "      <td>1.000000</td>\n",
              "      <td>1.000000</td>\n",
              "      <td>1.000000</td>\n",
              "      <td>1.000000</td>\n",
              "      <td>1.000000</td>\n",
              "      <td>1.000000</td>\n",
              "      <td>1.000000</td>\n",
              "      <td>1.000000</td>\n",
              "      <td>1.000000</td>\n",
              "      <td>...</td>\n",
              "      <td>1.000000</td>\n",
              "      <td>1.000000</td>\n",
              "      <td>1.000000</td>\n",
              "      <td>1.000000</td>\n",
              "      <td>1.000000</td>\n",
              "      <td>1.000000</td>\n",
              "      <td>1.000000</td>\n",
              "      <td>1.000000</td>\n",
              "      <td>1.000000</td>\n",
              "      <td>1.000000</td>\n",
              "      <td>1.000000</td>\n",
              "      <td>1.000000</td>\n",
              "      <td>1.000000</td>\n",
              "      <td>1.000000</td>\n",
              "      <td>1.000000</td>\n",
              "      <td>1.000000</td>\n",
              "      <td>1.000000</td>\n",
              "      <td>1.000000</td>\n",
              "      <td>1.000000</td>\n",
              "      <td>1.000000</td>\n",
              "      <td>1.000000</td>\n",
              "      <td>1.000000</td>\n",
              "      <td>1.000000</td>\n",
              "      <td>1.000000</td>\n",
              "      <td>1.000000</td>\n",
              "      <td>1.000000</td>\n",
              "      <td>1.000000</td>\n",
              "      <td>1.000000</td>\n",
              "      <td>1.000000</td>\n",
              "      <td>1.000000</td>\n",
              "      <td>1.000000</td>\n",
              "      <td>1.000000</td>\n",
              "      <td>1.000000</td>\n",
              "      <td>1.000000</td>\n",
              "      <td>1.000000</td>\n",
              "      <td>1.000000</td>\n",
              "      <td>1.000000</td>\n",
              "      <td>1.000000</td>\n",
              "      <td>1.000000</td>\n",
              "      <td>1.000000</td>\n",
              "    </tr>\n",
              "  </tbody>\n",
              "</table>\n",
              "<p>8 rows × 97 columns</p>\n",
              "</div>"
            ],
            "text/plain": [
              "          KMs_Driven         Price  ...  Model_Outros    Model_Vitz\n",
              "count   14498.000000  1.449800e+04  ...  14498.000000  14498.000000\n",
              "mean    76730.142847  7.807886e+05  ...      0.623327      0.031522\n",
              "std     48129.383137  4.369079e+05  ...      0.484568      0.174729\n",
              "min         2.000000  1.550000e+05  ...      0.000000      0.000000\n",
              "25%     44000.000000  4.450000e+05  ...      0.000000      0.000000\n",
              "50%     77000.000000  6.800000e+05  ...      1.000000      0.000000\n",
              "75%    100000.000000  1.060000e+06  ...      1.000000      0.000000\n",
              "max    222211.000000  2.055000e+06  ...      1.000000      1.000000\n",
              "\n",
              "[8 rows x 97 columns]"
            ]
          },
          "metadata": {
            "tags": []
          },
          "execution_count": 4
        }
      ]
    },
    {
      "cell_type": "code",
      "metadata": {
        "colab": {
          "base_uri": "https://localhost:8080/"
        },
        "id": "cxdwDWukbKpM",
        "outputId": "150d786e-f2c7-4d4c-d76a-fa9ac4dc0f3c"
      },
      "source": [
        "y, X = cars_df.Price, cars_df.drop('Price', axis=1)\n",
        "\n",
        "print(\"X\", X.shape)\n",
        "print(\"y\", y.shape)"
      ],
      "execution_count": 5,
      "outputs": [
        {
          "output_type": "stream",
          "text": [
            "X (14498, 96)\n",
            "y (14498,)\n"
          ],
          "name": "stdout"
        }
      ]
    },
    {
      "cell_type": "code",
      "metadata": {
        "colab": {
          "base_uri": "https://localhost:8080/"
        },
        "id": "HayLh69ebKpP",
        "scrolled": true,
        "outputId": "7e9916ed-b2f3-479f-e31d-a56304a768ff"
      },
      "source": [
        "seed = 1\n",
        "\n",
        "# separando treino e teste\n",
        "X_training, X_test, y_training, y_test = train_test_split(X, y, random_state=seed, test_size=0.25) #, stratify=y)\n",
        "print(\"Test set X\", X_test.shape)\n",
        "print(\"Test set y\", y_test.shape)\n",
        "\n",
        "# separando treino e validação\n",
        "X_train, X_val, y_train, y_val = train_test_split(X_training, y_training, random_state=seed,\n",
        "                                                  test_size=0.33) #, stratify=y_training)\n",
        "\n",
        "print(\"Train set X\", X_train.shape)\n",
        "print(\"Train set y\", y_train.shape)\n",
        "print(\"Validation set X\", X_val.shape)\n",
        "print(\"Validation set y\", y_val.shape)"
      ],
      "execution_count": 6,
      "outputs": [
        {
          "output_type": "stream",
          "text": [
            "Test set X (3625, 96)\n",
            "Test set y (3625,)\n",
            "Train set X (7284, 96)\n",
            "Train set y (7284,)\n",
            "Validation set X (3589, 96)\n",
            "Validation set y (3589,)\n"
          ],
          "name": "stdout"
        }
      ]
    },
    {
      "cell_type": "code",
      "metadata": {
        "id": "ZOLZxkf5k7uu"
      },
      "source": [
        "seed = 10"
      ],
      "execution_count": 7,
      "outputs": []
    },
    {
      "cell_type": "markdown",
      "metadata": {
        "id": "G5YWY7RfbKpU"
      },
      "source": [
        "#### Exercício 1\n",
        "\n",
        "**Substitua as lacunas** para treinar um modelo de *random forest* com validação cruzada e *grid search*. O *grid search* deve variar, pelo menos, os parâmetros *n_estimators* e *max_depth*, mas você pode incluir outros. Após o treino, crie o *dataframe* ```cv_results``` com os resultados de cada iteração e o dicionário ```cv_best_params``` com os valores da melhor combinação de parâmetros."
      ]
    },
    {
      "cell_type": "code",
      "metadata": {
        "colab": {
          "base_uri": "https://localhost:8080/"
        },
        "id": "Ky0nFCGLz_Hq",
        "outputId": "2adee694-9f21-4381-a1b0-a95a95650493"
      },
      "source": [
        "# Random Forest com validação cruzada e Grid Search\n",
        "\n",
        "# definindo os valores possíveis dos parâmetros a serem testados\n",
        "params = {'n_estimators': [5, 50, 100, 500],\n",
        "          'max_depth': [2, 5, 10, 50],\n",
        "          'max_features': range(2, 97, 20),\n",
        "          #'min_samples_split': [2, 8, 15, 30],\n",
        "          }\n",
        "\n",
        "\"\"\"\n",
        "params = {'n_estimators': [5, 50, 100, 500],\n",
        "          'max_features': [2, 5, 9, 13],\n",
        "          'max_depth': [2, 5, 10, 50],\n",
        "          'min_samples_split': [2, 8, 15, 30],}\n",
        "\"\"\"\n",
        "\n",
        "# criando o objeto do modelo com RandomForestRegressor\n",
        "rf_model_cv_gs = RandomForestRegressor(random_state=seed)\n",
        "\n",
        "# criando o objeto do grid search com GridSearchCV\n",
        "grid_search = GridSearchCV(rf_model_cv_gs, param_grid=params, return_train_score=True, scoring='neg_root_mean_squared_error')\n",
        "\n",
        "# treinando o modelo com o grid search\n",
        "grid_search.fit(X_training, y_training)\n",
        "\n",
        "# pegando os resultados da validação cruzada (cv_results)\n",
        "cv_results = pd.DataFrame(grid_search.cv_results_)\n",
        "\n",
        "# pegando e imprimindo a melhor combinação de hiperparâmetros\n",
        "cv_best_params = grid_search.best_params_\n",
        "print('\\n Best hyperparameters:')\n",
        "print(cv_best_params)"
      ],
      "execution_count": 8,
      "outputs": [
        {
          "output_type": "stream",
          "text": [
            "\n",
            " Best hyperparameters:\n",
            "{'max_depth': 10, 'max_features': 62, 'n_estimators': 500}\n"
          ],
          "name": "stdout"
        }
      ]
    },
    {
      "cell_type": "markdown",
      "metadata": {
        "id": "xoUuVKOE1MdZ"
      },
      "source": [
        "#### Exercício 2\n",
        "\n",
        "**Substitua as lacunas** para treinar o modelo final de *random forest* com os melhores parâmetros obtidos no *grid search* do exercício anterior."
      ]
    },
    {
      "cell_type": "code",
      "metadata": {
        "colab": {
          "base_uri": "https://localhost:8080/"
        },
        "id": "kl1YtSsKbKpV",
        "scrolled": false,
        "outputId": "49bc3ba7-ebb5-4eae-caaa-2d78dbaa2fa2"
      },
      "source": [
        "# imprimindo o score médio nas bases de treino\n",
        "print(\"Average Score on train set: {:.3f} +/- {:.3f}\".format(cv_results[cv_results.rank_test_score == 1].mean_train_score.values[0],\n",
        "                                                                     cv_results[cv_results.rank_test_score == 1].std_train_score.values[0])) \n",
        "# imprimindo o score médio nas bases de validação\n",
        "print(\"Average Score on validation set: {:.3f} +/- {:.3f}\".format(cv_results[cv_results.rank_test_score == 1].mean_test_score.values[0],\n",
        "                                                                     cv_results[cv_results.rank_test_score == 1].std_test_score.values[0])) \n",
        "\n",
        "# configurando o modelo com a melhor combinação de hiperparâmetros\n",
        "rf_model_cv_gs.set_params(n_estimators = cv_best_params['n_estimators'],\n",
        "                          max_depth = cv_best_params['max_depth'],\n",
        "                          #______\n",
        "                          )\n",
        "\n",
        "# treinando um modelo com a melhor combinação de hiperparâmetros\n",
        "rf_model_cv_gs.fit(X_training, y_training)\n",
        "best_model_params = rf_model_cv_gs.get_params()"
      ],
      "execution_count": 9,
      "outputs": [
        {
          "output_type": "stream",
          "text": [
            "Average Score on train set: -141691.638 +/- 527.989\n",
            "Average Score on validation set: -171432.324 +/- 4094.312\n"
          ],
          "name": "stdout"
        }
      ]
    },
    {
      "cell_type": "markdown",
      "metadata": {
        "id": "ORZjy1W63W-9"
      },
      "source": [
        "#### Exercício 3\n",
        "\n",
        "**Substitua as lacunas** para obter um *dataframe* com a importância de cada variável do modelo de *random forest*."
      ]
    },
    {
      "cell_type": "code",
      "metadata": {
        "colab": {
          "base_uri": "https://localhost:8080/",
          "height": 295
        },
        "id": "QKwOpM1wbKpa",
        "outputId": "306baa25-6512-4648-a7bf-4ac998ba8f48"
      },
      "source": [
        "# desenhando o gráfico de impoartância de variáveis\n",
        "features = X_training.columns\n",
        "importances = rf_model_cv_gs.feature_importances_\n",
        "indices = np.argsort(importances)\n",
        "\n",
        "feature_importances_df = pd.DataFrame({'features': features,\n",
        "                                       'importances': importances})\n",
        "\n",
        "plt.title('Feature Importances')\n",
        "plt.barh(range(len(importances[indices][-15:])), importances[indices][-15:], color='b', align='center')\n",
        "plt.yticks(range(len(importances[indices][-15:])), [features[i] for i in indices[-15:]])\n",
        "plt.xlabel('Relative Importance')\n",
        "plt.show()"
      ],
      "execution_count": 10,
      "outputs": [
        {
          "output_type": "display_data",
          "data": {
            "image/png": "[encoded data removed]",
            "text/plain": [
              "<Figure size 432x288 with 1 Axes>"
            ]
          },
          "metadata": {
            "tags": [],
            "needs_background": "light"
          }
        }
      ]
    },
    {
      "cell_type": "markdown",
      "metadata": {
        "id": "LhsZo64LHNHU"
      },
      "source": [
        "#### Exercício 4: RMSE RF\n",
        "\n",
        "**Substitua as lacunas** para calcular o RMSE do modelo de *random forest* final na base de teste."
      ]
    },
    {
      "cell_type": "code",
      "metadata": {
        "colab": {
          "base_uri": "https://localhost:8080/"
        },
        "id": "DVvyM-PeHNHV",
        "outputId": "11579440-e71e-424a-ab8e-97192ff762b2"
      },
      "source": [
        "y_test_pred_rf = rf_model_cv_gs.predict(X_test)\n",
        "rmse_test_rf = math.sqrt(mean_squared_error(y_test, y_test_pred_rf))\n",
        "print(rmse_test_rf)"
      ],
      "execution_count": 11,
      "outputs": [
        {
          "output_type": "stream",
          "text": [
            "168827.30937945715\n"
          ],
          "name": "stdout"
        }
      ]
    },
    {
      "cell_type": "markdown",
      "metadata": {
        "id": "-ljTj09XbKpc"
      },
      "source": [
        "#### Exercício 5\n",
        "\n",
        "**Substitua as lacunas** para treinar um modelo de *Light GBM* com validação cruzada e *grid search*. O *grid search* deve variar, pelo menos, os parâmetros *learning_rate* e *n_estimators*, mas você pode incluir outros. Após o treino, crie o *dataframe* ```cv_results``` com os resultados de cada iteração e o dicionário ```cv_best_params``` com os valores da melhor combinação de parâmetros."
      ]
    },
    {
      "cell_type": "code",
      "metadata": {
        "colab": {
          "base_uri": "https://localhost:8080/"
        },
        "id": "6f4c8q32bKpd",
        "scrolled": true,
        "outputId": "ae9dd3ef-d1c8-4d9b-90fa-fa69070fb989"
      },
      "source": [
        "# Light GBM com validação cruzada e Grid Search\n",
        "\n",
        "# definindo os valores possíveis dos parâmetros a serem testados\n",
        "# params = {'max_depth': [10, 50, 100],\n",
        "#           'learning_rate': [0.01, 0.03, 0.1, 0.5],\n",
        "#           'num_iterations': [100, 200, 500],\n",
        "#           'min_data_in_leaf': [20, 50],\n",
        "#           'min_gain_to_split': [0., 1, 5]}\n",
        "params = {'learning_rate': [0.01, 0.03, 0.1, 0.5],\n",
        "          'n_estimators': [100, 200, 500],\n",
        "          'min_data_in_leaf': [20, 50],\n",
        "          'min_gain_to_split': [0., 1, 5],\n",
        "          }\n",
        "\n",
        "# criando o objeto do modelo com XGBClassifier\n",
        "lgb_model_cv_gs = lgb.LGBMRegressor(random_state = seed)\n",
        "\n",
        "# criando o objeto do grid search com GridSearchCV\n",
        "grid_search = GridSearchCV(lgb_model_cv_gs, param_grid=params, return_train_score=True, scoring='neg_root_mean_squared_error')\n",
        "\n",
        "# treinando o modelo com o grid search\n",
        "grid_search.fit(X_training, y_training)\n",
        "\n",
        "# pegando os resultados da validação cruzada (cv_results)\n",
        "cv_results = pd.DataFrame(grid_search.cv_results_)\n",
        "\n",
        "# pegando e imprimindo a melhor combinação de hiperparâmetros\n",
        "cv_best_params = grid_search.best_params_\n",
        "print('\\n Best hyperparameters:')\n",
        "print(cv_best_params)"
      ],
      "execution_count": 12,
      "outputs": [
        {
          "output_type": "stream",
          "text": [
            "\n",
            " Best hyperparameters:\n",
            "{'learning_rate': 0.1, 'min_data_in_leaf': 20, 'min_gain_to_split': 0.0, 'n_estimators': 200}\n"
          ],
          "name": "stdout"
        }
      ]
    },
    {
      "cell_type": "markdown",
      "metadata": {
        "id": "Hni7HUd14BBg"
      },
      "source": [
        "#### Exercício 6\n",
        "\n",
        "**Substitua as lacunas** para treinar o modelo final de *light GBM* com os melhores parâmetros obtidos no *grid search* do exercício anterior."
      ]
    },
    {
      "cell_type": "code",
      "metadata": {
        "colab": {
          "base_uri": "https://localhost:8080/"
        },
        "id": "op7r1CM6346h",
        "outputId": "79ef8b9c-4806-41b6-f52d-075264d638c4"
      },
      "source": [
        "# imprimindo o score médio nas bases de treino\n",
        "print(\"Average Score on train set: {:.3f} +/- {:.3f}\".format(cv_results[cv_results.rank_test_score == 1].mean_train_score.values[0],\n",
        "                                                                     cv_results[cv_results.rank_test_score == 1].std_train_score.values[0]))\n",
        "\n",
        "# imprimindo o score médio nas bases de validação\n",
        "print(\"Average Score on validation set: {:.3f} +/- {:.3f}\".format(cv_results[cv_results.rank_test_score == 1].mean_test_score.values[0],\n",
        "                                                                     cv_results[cv_results.rank_test_score == 1].std_test_score.values[0]))\n",
        "\n",
        "# configurando o modelo com a melhor combinação de hiperparâmetros\n",
        "lgb_model_cv_gs.set_params(learning_rate = cv_best_params['learning_rate'],\n",
        "                           n_estimators = cv_best_params['n_estimators'],\n",
        "                           )#______)\n",
        "\n",
        "# treinando um modelo com a melhor combinação de hiperparâmetros\n",
        "lgb_model_cv_gs.fit(X_training, y_training)\n",
        "best_model_params = lgb_model_cv_gs.get_params()"
      ],
      "execution_count": 13,
      "outputs": [
        {
          "output_type": "stream",
          "text": [
            "Average Score on train set: -142703.881 +/- 1144.614\n",
            "Average Score on validation set: -172085.194 +/- 4916.096\n"
          ],
          "name": "stdout"
        }
      ]
    },
    {
      "cell_type": "markdown",
      "metadata": {
        "id": "gdhCQ7SYbKph"
      },
      "source": [
        "#### Exercício 7\n",
        "\n",
        "**Substitua as lacunas** para obter um *dataframe* com a importância de cada variável do modelo de *light GBM*."
      ]
    },
    {
      "cell_type": "code",
      "metadata": {
        "colab": {
          "base_uri": "https://localhost:8080/",
          "height": 295
        },
        "id": "ehKrQQ7xbKpi",
        "outputId": "41e47107-9424-4916-f88b-ae13acd7983f"
      },
      "source": [
        "# desenhando o gráfico de impoartância de variáveis\n",
        "features = X_training.columns\n",
        "importances = lgb_model_cv_gs.feature_importances_\n",
        "indices = np.argsort(importances)\n",
        "\n",
        "feature_importances_df = pd.DataFrame({'features': features,\n",
        "                                       'importances': importances})\n",
        "\n",
        "plt.title('Feature Importances')\n",
        "plt.barh(range(len(importances[indices][-15:])), importances[indices][-15:], color='b', align='center')\n",
        "plt.yticks(range(len(importances[indices][-15:])), [features[i] for i in indices[-15:]])\n",
        "plt.xlabel('Relative Importance')\n",
        "plt.show()"
      ],
      "execution_count": 14,
      "outputs": [
        {
          "output_type": "display_data",
          "data": {
            "image/png": "[encoded data removed]",
            "text/plain": [
              "<Figure size 432x288 with 1 Axes>"
            ]
          },
          "metadata": {
            "tags": [],
            "needs_background": "light"
          }
        }
      ]
    },
    {
      "cell_type": "markdown",
      "metadata": {
        "id": "UAiQT7z1HNHX"
      },
      "source": [
        "#### Exercício 8: RMSE LGB\n",
        "\n",
        "**Substitua as lacunas** para calcular o RMSE do modelo de *light GBM* final na base de teste."
      ]
    },
    {
      "cell_type": "code",
      "metadata": {
        "colab": {
          "base_uri": "https://localhost:8080/"
        },
        "id": "URuUzkA_HNHY",
        "outputId": "d60c2382-478c-4f4f-964a-6d25b699cf48"
      },
      "source": [
        "y_test_pred_lgb = lgb_model_cv_gs.predict(X_test)\n",
        "rmse_test_lgb = math.sqrt(mean_squared_error(y_test, y_test_pred_lgb))\n",
        "print(rmse_test_lgb)"
      ],
      "execution_count": 15,
      "outputs": [
        {
          "output_type": "stream",
          "text": [
            "166200.30337272538\n"
          ],
          "name": "stdout"
        }
      ]
    },
    {
      "cell_type": "markdown",
      "metadata": {
        "id": "aVpe_IBpbKpq"
      },
      "source": [
        "Os resultados dos modelos criados até aqui fazem sentido para você?\n",
        "\n",
        "Vamos desenhar gráficos para comparar as duas previsões como fizamos com os dados de **boston**, e usá-los para responder as demais perguntas:"
      ]
    },
    {
      "cell_type": "code",
      "metadata": {
        "colab": {
          "base_uri": "https://localhost:8080/",
          "height": 1000
        },
        "id": "sRUpxmzZbKpr",
        "outputId": "be70a01a-0aff-454a-ef9c-50e4dac522cb"
      },
      "source": [
        "# Desenhando o gráfico de valores previstos por valores reais para ambos os modelos\n",
        "\n",
        "plt.figure(figsize=(16,10))\n",
        "plt.title('Pakistan car prices - Predicted vs Real',fontsize=20)\n",
        "df = pd.DataFrame({'real':y_val,'Random Forest':rf_model_cv_gs.predict(X_val),\n",
        "                   'LGBM':lgb_model_cv_gs.predict(X_val)})\n",
        "df = df.sample(200)\n",
        "df.sort_values(by=['real'],ascending=True,inplace=True)\n",
        "df = df.reset_index(drop=True)\n",
        "plt.plot(df)\n",
        "plt.legend(['Real price','Predicted RF price','Predicted LGBM price'],fontsize=20)\n",
        "plt.ylabel('$ Price',fontsize=20)\n",
        "plt.xlabel('Observations ordered by price',fontsize=20)\n",
        "plt.show()\n",
        "\n",
        "plt.figure(figsize=(16,10))\n",
        "plt.title('Pakistan car prices - Predicted vs Real',fontsize=20)\n",
        "plt.scatter(x=df['real'],y=df['Random Forest'],c='y')\n",
        "plt.scatter(x=df['real'],y=df['LGBM'],c='g')\n",
        "plt.plot([0,1750000],[0,1750000],'k--')\n",
        "# plt.axis([0,1750000,0,1750000])\n",
        "plt.legend(['Real price','Predicted RF price','Predicted LGBM price'],fontsize=20)\n",
        "plt.xlabel('Real price',fontsize=20)\n",
        "plt.ylabel('Predicted price',fontsize=20)\n",
        "plt.yticks(range(0,int(2e+06),int(0.21e+06)))\n",
        "plt.show()"
      ],
      "execution_count": 54,
      "outputs": [
        {
          "output_type": "display_data",
          "data": {
            "image/png": "[encoded data removed]",
            "text/plain": [
              "<Figure size 1152x720 with 1 Axes>"
            ]
          },
          "metadata": {
            "tags": [],
            "needs_background": "light"
          }
        },
        {
          "output_type": "display_data",
          "data": {
            "image/png": "[encoded data removed]",
            "text/plain": [
              "<Figure size 1152x720 with 1 Axes>"
            ]
          },
          "metadata": {
            "tags": [],
            "needs_background": "light"
          }
        }
      ]
    },
    {
      "cell_type": "markdown",
      "metadata": {
        "id": "hIsLsboObKpx"
      },
      "source": [
        "#### Exercício 9\n",
        "*(Resposta aberta, não contabilizara pontos, o objetivo é refletir sobre a questão/tópico)*\n",
        "\n",
        "Qual modelo parece ter menos *over-fitting*? Explique"
      ]
    },
    {
      "cell_type": "markdown",
      "metadata": {
        "id": "3OkT51Hlw0Cc"
      },
      "source": [
        "Como os GridSearch utilizaram a métrica Negative RMSE para avaliar os melhores parâmetros de cada modelo, definindo `scoring = neg_root_mean_squared_error`, não é possível analisar o **$R^2$ médio** os conjuntos de treino e validação. Portanto, podemos avaliar o overfit somente pelos valores obtidos para o Negative RMSE médio, nos exercícios 2 e 6, conforme segue.\n",
        "\n",
        "Random Forest\n",
        "* Average Score on train set: -141691.638 +/- 527.989\n",
        "* Average Score on validation set: -171432.324 +/- 4094.312\n",
        "\n",
        "Light GBM\n",
        "* Average Score on train set: -142703.881 +/- 1144.614\n",
        "* Average Score on validation set: -172085.194 +/- 4916.096"
      ]
    },
    {
      "cell_type": "markdown",
      "metadata": {
        "id": "zhXCh72SL8ir"
      },
      "source": [
        "Percebemos que o RMSE médio ficou muito próximo para ambos os modelos: uma diferença de 516.243, que representa menos de 0.5% dos valores absolutos.\n",
        "\n",
        "Mesmo assim, pode-se notar que o RF é aquele que apresenta o menor RMSE e menor desvio padrão, para ambos os conjuntos, de treino e validação, indicando que ele está mais fiel aos dados de teste que outro modelo. Portanto, se algum deles apresenta over-fit, o que tem menos é o Light GBM."
      ]
    },
    {
      "cell_type": "markdown",
      "metadata": {
        "id": "Cy87yOZWMvcs"
      },
      "source": [
        "#### Exercício 10\n",
        "*(Resposta aberta, não contabilizara pontos, o objetivo é refletir sobre a questão/tópico)*\n",
        "\n",
        "Qual modelo faz a melhor previsão dos preços dos carros em cada faixa de preço?"
      ]
    },
    {
      "cell_type": "code",
      "metadata": {
        "id": "OSIPovKS8h66",
        "colab": {
          "base_uri": "https://localhost:8080/",
          "height": 327
        },
        "outputId": "e69efed3-2a26-435b-9a47-e0f1f8dbbe5d"
      },
      "source": [
        "# calcular uma métrica de avaliação para cada faixa de preço, em ambos os modelos\n",
        "# utilizar conjunto de validação (o mesmo utilizado no gráfico de comparação dos modelos, no exercício 8)\n",
        "\n",
        "from sklearn.metrics import (explained_variance_score, \n",
        "                             mean_absolute_error, \n",
        "                             mean_squared_error, \n",
        "                             mean_squared_log_error,\n",
        "                             r2_score)\n",
        "\n",
        "y_val_pred_rf = rf_model_cv_gs.predict(X_val)\n",
        "y_val_pred_lgb = lgb_model_cv_gs.predict(X_val)\n",
        "\n",
        "# estabelecer as faixas\n",
        "intervals = np.sort(pd.cut((y_val) / 1e+05, np.arange(0,23,2)).unique())\n",
        "(intervals)\n",
        "\n",
        "# juntar target (y_val) e predictions (y_val_pred_rf e y_val_pred_lgb) num dataframe\n",
        "y_val_preds = pd.DataFrame({\n",
        "    'y_val': y_val.values, \n",
        "    'y_val_pred_rf': y_val_pred_rf,\n",
        "    'y_val_pred_lgb': y_val_pred_lgb\n",
        "    })\n",
        "\n",
        "# ordenar por y_val e converter escala valores para e+05\n",
        "(y_val_preds.sort_values(by='y_val', inplace=True))\n",
        "y_val_preds = (y_val_preds.apply(lambda x: x / 1e+05))\n",
        "\n",
        "# guardando as melhores metricas em um dicionario\n",
        "best = {\n",
        "    'Random Forest': list(),\n",
        "    'Light GBM': list()\n",
        "} \n",
        "\n",
        "# para todos os intervalos\n",
        "for interval in intervals:\n",
        "  # selecinar as amostras, do dataframe criado, nas quais y_val está contida na faixa avaliada\n",
        "  # (desta forma, talvez algumas amostras de y_val_pred_ estejam fora da faixa avaliada)\n",
        "  sel = (y_val_preds['y_val'].apply(lambda x: x in interval))\n",
        "  samples = y_val_preds[sel]\n",
        "  \n",
        "  # calcular a metrica, dos dois modelos, para as amostras selecionadas\n",
        "  r2_rf = (r2_score(samples['y_val'], samples['y_val_pred_rf']))\n",
        "  r2_lgb = (r2_score(samples['y_val'], samples['y_val_pred_lgb']))\n",
        "\n",
        "  # atribuir 1 ao modelo com melhor métrica e 0 ao pior\n",
        "  best['Random Forest'].append(1 if r2_rf > r2_lgb else 0)\n",
        "  best['Light GBM'].append(1 if r2_lgb > r2_rf else 0)\n",
        "\n",
        "# exibir gráfico de barras\n",
        "best_df = pd.DataFrame(best, index=intervals)\n",
        "best_df.plot.bar()\n",
        "plt.yticks(ticks=[0], labels=[''])\n",
        "plt.xlabel('Interval')\n",
        "plt.ylabel('Best metric')\n",
        "plt.title('Best metrics by interval', fontsize=15)\n",
        "plt.show() "
      ],
      "execution_count": 55,
      "outputs": [
        {
          "output_type": "display_data",
          "data": {
            "image/png": "[encoded data removed]",
            "text/plain": [
              "<Figure size 432x288 with 1 Axes>"
            ]
          },
          "metadata": {
            "tags": [],
            "needs_background": "light"
          }
        }
      ]
    },
    {
      "cell_type": "markdown",
      "metadata": {
        "id": "gltdiJ8PCE__"
      },
      "source": [
        "Dividindo os preços de carros em 10 faixas sequenciais e sem interseção, percebe-se que o **Random Forest** performa melhor que o Light GBM somente no intervalo $$(2,6] \\cup (12,14] \\times 10^5$$ (centenas de milhar), o que corresponde à 3 das 10 faixas. Já o **Light GBM** performa melhor no intervalo $$(0,2] \\cup (6,12] \\cup (14,22] \\times 10^5$$ (centenas de milhar), o que corresponde às outras 7 das 10 faixas. "
      ]
    },
    {
      "cell_type": "markdown",
      "metadata": {
        "id": "OoCEJhofM24B"
      },
      "source": [
        "#### Exercício 11\n",
        "*(Resposta aberta, não contabilizara pontos, o objetivo é refletir sobre a questão/tópico)*\n",
        "\n",
        "Qual modelo vocês utilizaria afinal? Explique"
      ]
    },
    {
      "cell_type": "code",
      "metadata": {
        "colab": {
          "base_uri": "https://localhost:8080/"
        },
        "id": "JRVaRUwO9rFE",
        "outputId": "e30cafc8-2a1e-4272-915e-386774ac57c6"
      },
      "source": [
        "### Avaliando outras metricas para os conjuntos de treino e validação\n",
        "y_train_pred_rf = rf_model_cv_gs.predict(X_train)\n",
        "y_train_pred_lgb = lgb_model_cv_gs.predict(X_train)\n",
        "\n",
        "# mean_absolute_error\n",
        "print('MAE: RF (train, test)')\n",
        "print(mean_absolute_error(y_train, y_train_pred_rf))\n",
        "print(mean_absolute_error(y_val, y_val_pred_rf))\n",
        "\n",
        "print('\\nMAE: LGBM')\n",
        "print(mean_absolute_error(y_train, y_train_pred_lgb))\n",
        "print(mean_absolute_error(y_val, y_val_pred_lgb))\n",
        "\n",
        "# mean_squared_error\n",
        "print('\\nRMSE: RF (train, test)')\n",
        "print(mean_squared_error(y_train, y_train_pred_rf, squared=False))\n",
        "print(mean_squared_error(y_val, y_val_pred_rf, squared=False))\n",
        "\n",
        "print('\\nRMSE: LGBM')\n",
        "print(mean_squared_error(y_train, y_train_pred_lgb, squared=False))\n",
        "print(mean_squared_error(y_val, y_val_pred_lgb, squared=False))\n",
        "\n",
        "# r2_score\n",
        "print('\\nR2: RF')\n",
        "print(r2_score(y_train, y_train_pred_rf))\n",
        "print(r2_score(y_val, y_val_pred_rf))\n",
        "\n",
        "print('\\nR2: LGBM')\n",
        "print(r2_score(y_train, y_train_pred_lgb))\n",
        "print(r2_score(y_val, y_val_pred_lgb))"
      ],
      "execution_count": 43,
      "outputs": [
        {
          "output_type": "stream",
          "text": [
            "MAE: RF (train, test)\n",
            "94000.9330081492\n",
            "89944.47140972744\n",
            "\n",
            "MAE: LGBM\n",
            "91459.66358647948\n",
            "86818.62733772765\n",
            "\n",
            "RMSE: RF (train, test)\n",
            "148024.40060966843\n",
            "142535.28088487696\n",
            "\n",
            "RMSE: LGBM\n",
            "147809.31799578737\n",
            "140053.39575361923\n",
            "\n",
            "R2: RF\n",
            "0.8846999065376802\n",
            "0.893907530250934\n",
            "\n",
            "R2: LGBM\n",
            "0.8850347301020293\n",
            "0.8975700185056686\n"
          ],
          "name": "stdout"
        }
      ]
    },
    {
      "cell_type": "markdown",
      "metadata": {
        "id": "TRD6qUJI6VMF"
      },
      "source": [
        "Baseado em todas as métricas analisadas, percebe-se que os resultados obtidos pelos dois modelos é bastante semelhante. Contudo, o Light GBM é o que apresenta erros menores. \n",
        "\n",
        "Além disso, no gráfico de Feature Importance do Light GBM (exercício 7), podemos notar que as duas variáveis apontadas como mais relevantes para decisão são *KMs_Driven* e *Year*. Já no do Random Forest (exercício 3), a *Year* está como a feature mais importante, mas a *KMs_Driven* aparece como sétima colocada. Dessa forma, o resultado do Light GBM faz muito mais sentido, pois sabe-se que a quilometragem de um carro diz muito sobre seu estado de conservação e, portanto, influencia diretamente no preço de revenda.\n",
        "\n",
        "Portanto, tendo em vista que o Light GBM é o que apresenta menor overfit, menores erros e o qual tem resultados mais coerentes com o contexto do negócio, este seria o modelo escolhido para a aplicação."
      ]
    }
  ]
}