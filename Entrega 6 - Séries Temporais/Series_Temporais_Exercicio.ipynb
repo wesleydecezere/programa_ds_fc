{
  "nbformat": 4,
  "nbformat_minor": 0,
  "metadata": {
    "accelerator": "GPU",
    "colab": {
      "name": "Series_Temporais_Exercicio.ipynb",
      "provenance": [],
      "collapsed_sections": [],
      "toc_visible": true,
      "include_colab_link": true
    },
    "kernelspec": {
      "display_name": "Python 3",
      "language": "python",
      "name": "python3"
    },
    "language_info": {
      "codemirror_mode": {
        "name": "ipython",
        "version": 3
      },
      "file_extension": ".py",
      "mimetype": "text/x-python",
      "name": "python",
      "nbconvert_exporter": "python",
      "pygments_lexer": "ipython3",
      "version": "3.7.3-final"
    },
    "toc": {
      "base_numbering": 1,
      "nav_menu": {},
      "number_sections": true,
      "sideBar": true,
      "skip_h1_title": true,
      "title_cell": "Table of Contents",
      "title_sidebar": "Contents",
      "toc_cell": false,
      "toc_position": {
        "height": "calc(100% - 180px)",
        "left": "10px",
        "top": "150px",
        "width": "207px"
      },
      "toc_section_display": true,
      "toc_window_display": true
    },
    "varInspector": {
      "cols": {
        "lenName": 16,
        "lenType": 16,
        "lenVar": 40
      },
      "kernels_config": {
        "python": {
          "delete_cmd_postfix": "",
          "delete_cmd_prefix": "del ",
          "library": "var_list.py",
          "varRefreshCmd": "print(var_dic_list())"
        },
        "r": {
          "delete_cmd_postfix": ") ",
          "delete_cmd_prefix": "rm(",
          "library": "var_list.r",
          "varRefreshCmd": "cat(var_dic_list()) "
        }
      },
      "types_to_exclude": [
        "module",
        "function",
        "builtin_function_or_method",
        "instance",
        "_Feature"
      ],
      "window_display": false
    }
  },
  "cells": [
    {
      "cell_type": "markdown",
      "metadata": {
        "id": "view-in-github",
        "colab_type": "text"
      },
      "source": [
        "<a href=\"https://colab.research.google.com/github/wesleydecezere/programa_ds_fc/blob/master/Entrega%206%20-%20S%C3%A9ries%20Temporais/Series_Temporais_Exercicio.ipynb\" target=\"_parent\"><img src=\"https://colab.research.google.com/assets/colab-badge.svg\" alt=\"Open In Colab\"/></a>"
      ]
    },
    {
      "cell_type": "markdown",
      "metadata": {
        "id": "yU3OiZ77lIqq"
      },
      "source": [
        "# <center>Séries temporais - Exercício</center>\n",
        "___"
      ]
    },
    {
      "cell_type": "markdown",
      "metadata": {
        "id": "Hci8zeHNfi70"
      },
      "source": [
        "Um dos grandes desafios das empresas é a previsão de vendas. Um bom modelo de previsão das vendas da empresa permite um melhor planejamento de gastos das empresas e da produção, permite uma estimação de lucros e até mesmo auxilia a empresa a determinar metas, avaliar o seu desempenho e ter uma melhor visão de futuro, ajudando na atração de possíveis investidores.\n",
        "\n",
        "Esse notebook contém o exercício prático da aula de séries temporais. O *dataset* que utilizaremos e foi disponibilizado na pasta de dados da aula vem originalmente de um desafio de recrutamento do Walmart - que pode ser acessado [aqui](https://www.kaggle.com/c/walmart-recruiting-store-sales-forecasting/data). Ele contém vendas anônimas por departamento para 45 lojas Walmart, bem como variáveis de apoio.\n",
        "\n",
        "Assim, o exercício proposto aqui é de **prever as vendas semanais das lojas da Walmart**. Para isso, sugerimos você utilizar o modelo de machine learning *Random Forest* que vimos na aula, mas você pode também experimentar outros modelos que aprendemos.\n",
        "\n",
        "Após todo o conhecimento que você adquiriu ao longo da trilha, você já está preparado para fazer um projeto sozinho. Assim, diferentemente dos outros exercícios, deixaremos o desafio para você estruturar o seu próprio código e modelo. Caso tenha dificuldade ou não saiba por onde começar, te recomendamos consultar os exemplos feitos ao longo das aulas para aplicar no exercício, e sinta-se livre para mandar suas dúvidas no grupo.\n",
        "\n",
        "Bom, agora é com você!"
      ]
    },
    {
      "cell_type": "code",
      "metadata": {
        "colab": {
          "base_uri": "https://localhost:8080/"
        },
        "id": "z7sV87oubhV8",
        "outputId": "b74a3826-df1d-46ba-e80e-dce2ea2a112d"
      },
      "source": [
        "from google.colab import drive\n",
        "drive.mount('/content/drive')"
      ],
      "execution_count": 1,
      "outputs": [
        {
          "output_type": "stream",
          "text": [
            "Drive already mounted at /content/drive; to attempt to forcibly remount, call drive.mount(\"/content/drive\", force_remount=True).\n"
          ],
          "name": "stdout"
        }
      ]
    },
    {
      "cell_type": "code",
      "metadata": {
        "colab": {
          "base_uri": "https://localhost:8080/",
          "height": 220
        },
        "id": "U4FSOilqfsL2",
        "outputId": "e2bc1034-e5e1-4804-c0da-2611e69f033f"
      },
      "source": [
        "# Importando as bibliotecas principais utilizadas\n",
        "import pandas as pd\n",
        "import numpy as np\n",
        "import matplotlib.pyplot as plt\n",
        "\n",
        "# Importando o dataset\n",
        "walmart = pd.read_csv(\"/content/drive/MyDrive/Programa Ciência de Dados/Entrega 6 - Séries Temporais/data/walmart_sales.csv\")\n",
        "\n",
        "# Mostrando o formato e as primeiras linhas do dataset\n",
        "print(walmart.shape)\n",
        "walmart.head()"
      ],
      "execution_count": 2,
      "outputs": [
        {
          "output_type": "stream",
          "text": [
            "(282451, 16)\n"
          ],
          "name": "stdout"
        },
        {
          "output_type": "execute_result",
          "data": {
            "text/html": [
              "<div>\n",
              "<style scoped>\n",
              "    .dataframe tbody tr th:only-of-type {\n",
              "        vertical-align: middle;\n",
              "    }\n",
              "\n",
              "    .dataframe tbody tr th {\n",
              "        vertical-align: top;\n",
              "    }\n",
              "\n",
              "    .dataframe thead th {\n",
              "        text-align: right;\n",
              "    }\n",
              "</style>\n",
              "<table border=\"1\" class=\"dataframe\">\n",
              "  <thead>\n",
              "    <tr style=\"text-align: right;\">\n",
              "      <th></th>\n",
              "      <th>Store</th>\n",
              "      <th>Dept</th>\n",
              "      <th>Date</th>\n",
              "      <th>Weekly_Sales</th>\n",
              "      <th>IsHoliday</th>\n",
              "      <th>Temperature</th>\n",
              "      <th>Fuel_Price</th>\n",
              "      <th>MarkDown1</th>\n",
              "      <th>MarkDown2</th>\n",
              "      <th>MarkDown3</th>\n",
              "      <th>MarkDown4</th>\n",
              "      <th>MarkDown5</th>\n",
              "      <th>CPI</th>\n",
              "      <th>Unemployment</th>\n",
              "      <th>Type</th>\n",
              "      <th>Size</th>\n",
              "    </tr>\n",
              "  </thead>\n",
              "  <tbody>\n",
              "    <tr>\n",
              "      <th>0</th>\n",
              "      <td>26</td>\n",
              "      <td>92</td>\n",
              "      <td>2011-08-26</td>\n",
              "      <td>87235.57</td>\n",
              "      <td>False</td>\n",
              "      <td>61.10</td>\n",
              "      <td>3.796</td>\n",
              "      <td>NaN</td>\n",
              "      <td>NaN</td>\n",
              "      <td>NaN</td>\n",
              "      <td>NaN</td>\n",
              "      <td>NaN</td>\n",
              "      <td>136.213613</td>\n",
              "      <td>7.767</td>\n",
              "      <td>A</td>\n",
              "      <td>152513</td>\n",
              "    </tr>\n",
              "    <tr>\n",
              "      <th>1</th>\n",
              "      <td>34</td>\n",
              "      <td>22</td>\n",
              "      <td>2011-03-25</td>\n",
              "      <td>5945.97</td>\n",
              "      <td>False</td>\n",
              "      <td>53.11</td>\n",
              "      <td>3.480</td>\n",
              "      <td>NaN</td>\n",
              "      <td>NaN</td>\n",
              "      <td>NaN</td>\n",
              "      <td>NaN</td>\n",
              "      <td>NaN</td>\n",
              "      <td>128.616064</td>\n",
              "      <td>10.398</td>\n",
              "      <td>A</td>\n",
              "      <td>158114</td>\n",
              "    </tr>\n",
              "    <tr>\n",
              "      <th>2</th>\n",
              "      <td>21</td>\n",
              "      <td>28</td>\n",
              "      <td>2010-12-03</td>\n",
              "      <td>1219.89</td>\n",
              "      <td>False</td>\n",
              "      <td>50.43</td>\n",
              "      <td>2.708</td>\n",
              "      <td>NaN</td>\n",
              "      <td>NaN</td>\n",
              "      <td>NaN</td>\n",
              "      <td>NaN</td>\n",
              "      <td>NaN</td>\n",
              "      <td>211.265543</td>\n",
              "      <td>8.163</td>\n",
              "      <td>B</td>\n",
              "      <td>140167</td>\n",
              "    </tr>\n",
              "    <tr>\n",
              "      <th>3</th>\n",
              "      <td>8</td>\n",
              "      <td>9</td>\n",
              "      <td>2010-09-17</td>\n",
              "      <td>11972.71</td>\n",
              "      <td>False</td>\n",
              "      <td>75.32</td>\n",
              "      <td>2.582</td>\n",
              "      <td>NaN</td>\n",
              "      <td>NaN</td>\n",
              "      <td>NaN</td>\n",
              "      <td>NaN</td>\n",
              "      <td>NaN</td>\n",
              "      <td>214.878556</td>\n",
              "      <td>6.315</td>\n",
              "      <td>A</td>\n",
              "      <td>155078</td>\n",
              "    </tr>\n",
              "    <tr>\n",
              "      <th>4</th>\n",
              "      <td>19</td>\n",
              "      <td>55</td>\n",
              "      <td>2012-05-18</td>\n",
              "      <td>8271.82</td>\n",
              "      <td>False</td>\n",
              "      <td>58.81</td>\n",
              "      <td>4.029</td>\n",
              "      <td>12613.98</td>\n",
              "      <td>NaN</td>\n",
              "      <td>11.5</td>\n",
              "      <td>1705.28</td>\n",
              "      <td>3600.79</td>\n",
              "      <td>138.106581</td>\n",
              "      <td>8.150</td>\n",
              "      <td>A</td>\n",
              "      <td>203819</td>\n",
              "    </tr>\n",
              "  </tbody>\n",
              "</table>\n",
              "</div>"
            ],
            "text/plain": [
              "   Store  Dept        Date  Weekly_Sales  ...         CPI  Unemployment  Type    Size\n",
              "0     26    92  2011-08-26      87235.57  ...  136.213613         7.767     A  152513\n",
              "1     34    22  2011-03-25       5945.97  ...  128.616064        10.398     A  158114\n",
              "2     21    28  2010-12-03       1219.89  ...  211.265543         8.163     B  140167\n",
              "3      8     9  2010-09-17      11972.71  ...  214.878556         6.315     A  155078\n",
              "4     19    55  2012-05-18       8271.82  ...  138.106581         8.150     A  203819\n",
              "\n",
              "[5 rows x 16 columns]"
            ]
          },
          "metadata": {
            "tags": []
          },
          "execution_count": 2
        }
      ]
    },
    {
      "cell_type": "markdown",
      "metadata": {
        "id": "EN6W3p8GKH1s"
      },
      "source": [
        "#### Exploração dos dados"
      ]
    },
    {
      "cell_type": "markdown",
      "metadata": {
        "id": "cfvDZZuNi-kT"
      },
      "source": [
        "##### Departamentos por loja\n",
        "* O número de departamentos é diferente de uma loja para outra: a maioria tem entre 70 e 80 departamentos, mas algumas tem em cerca de 60. \n"
      ]
    },
    {
      "cell_type": "code",
      "metadata": {
        "colab": {
          "base_uri": "https://localhost:8080/"
        },
        "id": "5R5crkzxbVoc",
        "outputId": "e20d2e8b-8cac-4d7c-c91b-a7ee8dcb4683"
      },
      "source": [
        "walmart_store = np.sort(walmart.Store.unique())\n",
        "walmart_store"
      ],
      "execution_count": 3,
      "outputs": [
        {
          "output_type": "execute_result",
          "data": {
            "text/plain": [
              "array([ 1,  2,  3,  4,  5,  6,  7,  8,  9, 10, 11, 12, 13, 14, 15, 16, 17,\n",
              "       18, 19, 20, 21, 22, 23, 24, 25, 26, 27, 28, 29, 30, 31, 32, 33, 34,\n",
              "       35, 36, 37, 38, 39, 40, 41, 42, 43, 44, 45])"
            ]
          },
          "metadata": {
            "tags": []
          },
          "execution_count": 3
        }
      ]
    },
    {
      "cell_type": "code",
      "metadata": {
        "colab": {
          "base_uri": "https://localhost:8080/",
          "height": 278
        },
        "id": "ZI6yZeV-cceM",
        "outputId": "c2d24f76-6506-468c-e1b5-6a81ea2ff6a7"
      },
      "source": [
        "dept_qtd = list()\n",
        "\n",
        "for idx, store in enumerate(walmart_store): \n",
        "   dept_qtd.append(walmart[walmart.Store == store].Dept.unique().size)\n",
        "\n",
        "c = plt.bar(walmart_store, dept_qtd)\n",
        "plt.ylabel('Number of departamets')\n",
        "plt.xlabel('Store')\n",
        "plt.xticks(range(1,46,2))\n",
        "plt.grid(True)\n",
        "plt.show()"
      ],
      "execution_count": 4,
      "outputs": [
        {
          "output_type": "display_data",
          "data": {
            "image/png": "[encoded data removed]",
            "text/plain": [
              "<Figure size 432x288 with 1 Axes>"
            ]
          },
          "metadata": {
            "tags": [],
            "needs_background": "light"
          }
        }
      ]
    },
    {
      "cell_type": "markdown",
      "metadata": {
        "id": "4jNQ6a27oQGV"
      },
      "source": [
        "##### Quantidade de amostras por departamento e loja\n",
        "* Em uma mesma loja, os departamentos tem números de amostras bem diferentes: enquanto alguns departamentos tem mais de 100 amostras, outros tem apenas 3.\n",
        "* Em um mesmo departamento de lojas diferentes, também não há uma regularidade no número de amostras: o departamento 96 da loja 1 tem cerca de 80, enquanto o mesmo departamento da loja 45 tem exatas 2 amostras. "
      ]
    },
    {
      "cell_type": "code",
      "metadata": {
        "colab": {
          "base_uri": "https://localhost:8080/",
          "height": 353
        },
        "id": "ciq3wcNyiURO",
        "outputId": "275f5ed6-62c8-4b33-f87c-66daadcb8be3"
      },
      "source": [
        "walmart[walmart.Store == 1].groupby('Dept')['Date'].count().plot.bar(figsize=(15,5))"
      ],
      "execution_count": 5,
      "outputs": [
        {
          "output_type": "execute_result",
          "data": {
            "text/plain": [
              "<matplotlib.axes._subplots.AxesSubplot at 0x7fcba9c2e290>"
            ]
          },
          "metadata": {
            "tags": []
          },
          "execution_count": 5
        },
        {
          "output_type": "display_data",
          "data": {
            "image/png": "[encoded data removed]",
            "text/plain": [
              "<Figure size 1080x360 with 1 Axes>"
            ]
          },
          "metadata": {
            "tags": [],
            "needs_background": "light"
          }
        }
      ]
    },
    {
      "cell_type": "code",
      "metadata": {
        "colab": {
          "base_uri": "https://localhost:8080/",
          "height": 353
        },
        "id": "okzoz79gkBlG",
        "outputId": "679a77de-1bc1-4699-b9b7-e029d670ef55"
      },
      "source": [
        "walmart[walmart.Store == 45].groupby('Dept')['Date'].count().plot.bar(figsize=(15,5))"
      ],
      "execution_count": 6,
      "outputs": [
        {
          "output_type": "execute_result",
          "data": {
            "text/plain": [
              "<matplotlib.axes._subplots.AxesSubplot at 0x7fcba9a09c10>"
            ]
          },
          "metadata": {
            "tags": []
          },
          "execution_count": 6
        },
        {
          "output_type": "display_data",
          "data": {
            "image/png": "[encoded data removed]",
            "text/plain": [
              "<Figure size 1080x360 with 1 Axes>"
            ]
          },
          "metadata": {
            "tags": [],
            "needs_background": "light"
          }
        }
      ]
    },
    {
      "cell_type": "markdown",
      "metadata": {
        "id": "6WWzpQagVM0p"
      },
      "source": [
        "##### Características iguais nos departamentos\n",
        "\n",
        "Em uma mesma data, todos os departamentos de uma mesma loja apresentam as mesmas características (inclusive as de promoção, MarkDown1-5).\n"
      ]
    },
    {
      "cell_type": "code",
      "metadata": {
        "colab": {
          "base_uri": "https://localhost:8080/",
          "height": 202
        },
        "id": "hLCb3roscDg_",
        "outputId": "a248ac02-7bf7-4e08-ee49-894c650f0336"
      },
      "source": [
        "walmart_store1_2010_02_2016 = walmart[(walmart.Store == 1) & (walmart.Date == '2010-12-31')]\n",
        "walmart_store1_2010_02_2016.head()"
      ],
      "execution_count": 7,
      "outputs": [
        {
          "output_type": "execute_result",
          "data": {
            "text/html": [
              "<div>\n",
              "<style scoped>\n",
              "    .dataframe tbody tr th:only-of-type {\n",
              "        vertical-align: middle;\n",
              "    }\n",
              "\n",
              "    .dataframe tbody tr th {\n",
              "        vertical-align: top;\n",
              "    }\n",
              "\n",
              "    .dataframe thead th {\n",
              "        text-align: right;\n",
              "    }\n",
              "</style>\n",
              "<table border=\"1\" class=\"dataframe\">\n",
              "  <thead>\n",
              "    <tr style=\"text-align: right;\">\n",
              "      <th></th>\n",
              "      <th>Store</th>\n",
              "      <th>Dept</th>\n",
              "      <th>Date</th>\n",
              "      <th>Weekly_Sales</th>\n",
              "      <th>IsHoliday</th>\n",
              "      <th>Temperature</th>\n",
              "      <th>Fuel_Price</th>\n",
              "      <th>MarkDown1</th>\n",
              "      <th>MarkDown2</th>\n",
              "      <th>MarkDown3</th>\n",
              "      <th>MarkDown4</th>\n",
              "      <th>MarkDown5</th>\n",
              "      <th>CPI</th>\n",
              "      <th>Unemployment</th>\n",
              "      <th>Type</th>\n",
              "      <th>Size</th>\n",
              "    </tr>\n",
              "  </thead>\n",
              "  <tbody>\n",
              "    <tr>\n",
              "      <th>4229</th>\n",
              "      <td>1</td>\n",
              "      <td>48</td>\n",
              "      <td>2010-12-31</td>\n",
              "      <td>434.00</td>\n",
              "      <td>True</td>\n",
              "      <td>48.43</td>\n",
              "      <td>2.943</td>\n",
              "      <td>NaN</td>\n",
              "      <td>NaN</td>\n",
              "      <td>NaN</td>\n",
              "      <td>NaN</td>\n",
              "      <td>NaN</td>\n",
              "      <td>211.404932</td>\n",
              "      <td>7.838</td>\n",
              "      <td>A</td>\n",
              "      <td>151315</td>\n",
              "    </tr>\n",
              "    <tr>\n",
              "      <th>6711</th>\n",
              "      <td>1</td>\n",
              "      <td>30</td>\n",
              "      <td>2010-12-31</td>\n",
              "      <td>2454.30</td>\n",
              "      <td>True</td>\n",
              "      <td>48.43</td>\n",
              "      <td>2.943</td>\n",
              "      <td>NaN</td>\n",
              "      <td>NaN</td>\n",
              "      <td>NaN</td>\n",
              "      <td>NaN</td>\n",
              "      <td>NaN</td>\n",
              "      <td>211.404932</td>\n",
              "      <td>7.838</td>\n",
              "      <td>A</td>\n",
              "      <td>151315</td>\n",
              "    </tr>\n",
              "    <tr>\n",
              "      <th>11898</th>\n",
              "      <td>1</td>\n",
              "      <td>40</td>\n",
              "      <td>2010-12-31</td>\n",
              "      <td>58568.16</td>\n",
              "      <td>True</td>\n",
              "      <td>48.43</td>\n",
              "      <td>2.943</td>\n",
              "      <td>NaN</td>\n",
              "      <td>NaN</td>\n",
              "      <td>NaN</td>\n",
              "      <td>NaN</td>\n",
              "      <td>NaN</td>\n",
              "      <td>211.404932</td>\n",
              "      <td>7.838</td>\n",
              "      <td>A</td>\n",
              "      <td>151315</td>\n",
              "    </tr>\n",
              "    <tr>\n",
              "      <th>20304</th>\n",
              "      <td>1</td>\n",
              "      <td>16</td>\n",
              "      <td>2010-12-31</td>\n",
              "      <td>4987.81</td>\n",
              "      <td>True</td>\n",
              "      <td>48.43</td>\n",
              "      <td>2.943</td>\n",
              "      <td>NaN</td>\n",
              "      <td>NaN</td>\n",
              "      <td>NaN</td>\n",
              "      <td>NaN</td>\n",
              "      <td>NaN</td>\n",
              "      <td>211.404932</td>\n",
              "      <td>7.838</td>\n",
              "      <td>A</td>\n",
              "      <td>151315</td>\n",
              "    </tr>\n",
              "    <tr>\n",
              "      <th>29355</th>\n",
              "      <td>1</td>\n",
              "      <td>79</td>\n",
              "      <td>2010-12-31</td>\n",
              "      <td>24738.86</td>\n",
              "      <td>True</td>\n",
              "      <td>48.43</td>\n",
              "      <td>2.943</td>\n",
              "      <td>NaN</td>\n",
              "      <td>NaN</td>\n",
              "      <td>NaN</td>\n",
              "      <td>NaN</td>\n",
              "      <td>NaN</td>\n",
              "      <td>211.404932</td>\n",
              "      <td>7.838</td>\n",
              "      <td>A</td>\n",
              "      <td>151315</td>\n",
              "    </tr>\n",
              "  </tbody>\n",
              "</table>\n",
              "</div>"
            ],
            "text/plain": [
              "       Store  Dept        Date  ...  Unemployment  Type    Size\n",
              "4229       1    48  2010-12-31  ...         7.838     A  151315\n",
              "6711       1    30  2010-12-31  ...         7.838     A  151315\n",
              "11898      1    40  2010-12-31  ...         7.838     A  151315\n",
              "20304      1    16  2010-12-31  ...         7.838     A  151315\n",
              "29355      1    79  2010-12-31  ...         7.838     A  151315\n",
              "\n",
              "[5 rows x 16 columns]"
            ]
          },
          "metadata": {
            "tags": []
          },
          "execution_count": 7
        }
      ]
    },
    {
      "cell_type": "code",
      "metadata": {
        "colab": {
          "base_uri": "https://localhost:8080/"
        },
        "id": "U1LOjs-OgmvT",
        "outputId": "f289fb48-a15a-42a3-e604-0b375a1e1ec0"
      },
      "source": [
        "walmart_store1_2010_02_2016.nunique()"
      ],
      "execution_count": 8,
      "outputs": [
        {
          "output_type": "execute_result",
          "data": {
            "text/plain": [
              "Store            1\n",
              "Dept            52\n",
              "Date             1\n",
              "Weekly_Sales    52\n",
              "IsHoliday        1\n",
              "Temperature      1\n",
              "Fuel_Price       1\n",
              "MarkDown1        0\n",
              "MarkDown2        0\n",
              "MarkDown3        0\n",
              "MarkDown4        0\n",
              "MarkDown5        0\n",
              "CPI              1\n",
              "Unemployment     1\n",
              "Type             1\n",
              "Size             1\n",
              "dtype: int64"
            ]
          },
          "metadata": {
            "tags": []
          },
          "execution_count": 8
        }
      ]
    },
    {
      "cell_type": "markdown",
      "metadata": {
        "id": "L5ce-ofxG7FS"
      },
      "source": [
        "Portanto, dado uma data qualquer, nenhuma das características disponíveis influencia realmente o número de vendas semanais entre os departamentos de uma mesma loja. Nesta data, essas características podem influenciar somentes o volume de vendas entre lojas diferentes, mas não necessariamente. \n",
        "\n",
        "Isso me leva a pensar que nenhuma das características é boa para auxiliar na previsão de vendas semanais entre os departamentos de uma mesma loja. Algumas podem ser úteis, contudo, para avaliar as vendas entre departamentos de lojas diferentes."
      ]
    },
    {
      "cell_type": "markdown",
      "metadata": {
        "id": "SnmB9HTtjnIi"
      },
      "source": [
        "## Exercício 1: Pré-processamento de dados e criação de Features\n",
        "\n"
      ]
    },
    {
      "cell_type": "markdown",
      "metadata": {
        "id": "nHoMpjbVKZwJ"
      },
      "source": [
        "#### Limpeza dos dados"
      ]
    },
    {
      "cell_type": "code",
      "metadata": {
        "colab": {
          "base_uri": "https://localhost:8080/"
        },
        "id": "s53M8eHbD6OM",
        "outputId": "b7da2a6b-32c6-4556-de64-2806d22bdb81"
      },
      "source": [
        "walmart.info()"
      ],
      "execution_count": 9,
      "outputs": [
        {
          "output_type": "stream",
          "text": [
            "<class 'pandas.core.frame.DataFrame'>\n",
            "RangeIndex: 282451 entries, 0 to 282450\n",
            "Data columns (total 16 columns):\n",
            " #   Column        Non-Null Count   Dtype  \n",
            "---  ------        --------------   -----  \n",
            " 0   Store         282451 non-null  int64  \n",
            " 1   Dept          282451 non-null  int64  \n",
            " 2   Date          282451 non-null  object \n",
            " 3   Weekly_Sales  282451 non-null  float64\n",
            " 4   IsHoliday     282451 non-null  bool   \n",
            " 5   Temperature   282451 non-null  float64\n",
            " 6   Fuel_Price    282451 non-null  float64\n",
            " 7   MarkDown1     100520 non-null  float64\n",
            " 8   MarkDown2     74232 non-null   float64\n",
            " 9   MarkDown3     91521 non-null   float64\n",
            " 10  MarkDown4     90031 non-null   float64\n",
            " 11  MarkDown5     101029 non-null  float64\n",
            " 12  CPI           282451 non-null  float64\n",
            " 13  Unemployment  282451 non-null  float64\n",
            " 14  Type          282451 non-null  object \n",
            " 15  Size          282451 non-null  int64  \n",
            "dtypes: bool(1), float64(10), int64(3), object(2)\n",
            "memory usage: 32.6+ MB\n"
          ],
          "name": "stdout"
        }
      ]
    },
    {
      "cell_type": "markdown",
      "metadata": {
        "id": "eSZkG1esKgV3"
      },
      "source": [
        "##### Tratamento de nulos"
      ]
    },
    {
      "cell_type": "code",
      "metadata": {
        "colab": {
          "base_uri": "https://localhost:8080/"
        },
        "id": "dogI9Mb03aUQ",
        "outputId": "cd64c796-d3c7-4232-826a-7b97030dbbd4"
      },
      "source": [
        "walmart_markdown = walmart.loc[:, 'MarkDown1':'MarkDown5']\n",
        "\n",
        "print('Procentagem de nulos')\n",
        "\n",
        "for markdown in walmart_markdown.columns:\n",
        "  md = walmart_markdown[markdown]\n",
        "  print(markdown, ':', md.isna().sum() / md.size * 100)"
      ],
      "execution_count": 10,
      "outputs": [
        {
          "output_type": "stream",
          "text": [
            "Procentagem de nulos\n",
            "MarkDown1 : 64.41152624703047\n",
            "MarkDown2 : 73.71862730172667\n",
            "MarkDown3 : 67.59756559544842\n",
            "MarkDown4 : 68.12509072370074\n",
            "MarkDown5 : 64.2313179985201\n"
          ],
          "name": "stdout"
        }
      ]
    },
    {
      "cell_type": "markdown",
      "metadata": {
        "id": "OhYq5JyY3M__"
      },
      "source": [
        "Em todas as features de promoção, há mais de 60% de registros nulos. \n",
        "\n",
        "Conforme consta na descrição do dataset do Kaggle, os registros só estão disponíveis a partir de Nov 2011 e não não estão disponíveis para todas as lojas a todo momento."
      ]
    },
    {
      "cell_type": "code",
      "metadata": {
        "colab": {
          "base_uri": "https://localhost:8080/"
        },
        "id": "6TFdtyAVgF7A",
        "outputId": "ed3ef990-b7ab-4bc3-a5f8-ef8c0addf4e6"
      },
      "source": [
        "walmart.isna().sum()"
      ],
      "execution_count": 11,
      "outputs": [
        {
          "output_type": "execute_result",
          "data": {
            "text/plain": [
              "Store                0\n",
              "Dept                 0\n",
              "Date                 0\n",
              "Weekly_Sales         0\n",
              "IsHoliday            0\n",
              "Temperature          0\n",
              "Fuel_Price           0\n",
              "MarkDown1       181931\n",
              "MarkDown2       208219\n",
              "MarkDown3       190930\n",
              "MarkDown4       192420\n",
              "MarkDown5       181422\n",
              "CPI                  0\n",
              "Unemployment         0\n",
              "Type                 0\n",
              "Size                 0\n",
              "dtype: int64"
            ]
          },
          "metadata": {
            "tags": []
          },
          "execution_count": 11
        }
      ]
    },
    {
      "cell_type": "code",
      "metadata": {
        "colab": {
          "base_uri": "https://localhost:8080/"
        },
        "id": "kXZy2NS-CAlL",
        "outputId": "fbdef2bd-30e9-4e83-8a63-f71d6d8e1e94"
      },
      "source": [
        "walmart_treated = walmart.fillna(0)\n",
        "walmart_treated.isna().sum()"
      ],
      "execution_count": 12,
      "outputs": [
        {
          "output_type": "execute_result",
          "data": {
            "text/plain": [
              "Store           0\n",
              "Dept            0\n",
              "Date            0\n",
              "Weekly_Sales    0\n",
              "IsHoliday       0\n",
              "Temperature     0\n",
              "Fuel_Price      0\n",
              "MarkDown1       0\n",
              "MarkDown2       0\n",
              "MarkDown3       0\n",
              "MarkDown4       0\n",
              "MarkDown5       0\n",
              "CPI             0\n",
              "Unemployment    0\n",
              "Type            0\n",
              "Size            0\n",
              "dtype: int64"
            ]
          },
          "metadata": {
            "tags": []
          },
          "execution_count": 12
        }
      ]
    },
    {
      "cell_type": "markdown",
      "metadata": {
        "id": "6gMULIZDC1JQ"
      },
      "source": [
        "##### Conversões pertinentes (Data as datetime)\n"
      ]
    },
    {
      "cell_type": "markdown",
      "metadata": {
        "id": "gxYwG4YJ81cI"
      },
      "source": [
        "A variável `Date` é do tipo `object`. Portanto, cabe convertê-la para `datetime`"
      ]
    },
    {
      "cell_type": "code",
      "metadata": {
        "id": "IGqVvzPVC4eS"
      },
      "source": [
        "walmart_treated['Date'] = pd.to_datetime(walmart_treated.Date)"
      ],
      "execution_count": 13,
      "outputs": []
    },
    {
      "cell_type": "code",
      "metadata": {
        "colab": {
          "base_uri": "https://localhost:8080/"
        },
        "id": "l0EyWbuRC3o_",
        "outputId": "519764e1-720f-4fe4-9f0e-60c60274e363"
      },
      "source": [
        "walmart_treated[['Date']].info()"
      ],
      "execution_count": 14,
      "outputs": [
        {
          "output_type": "stream",
          "text": [
            "<class 'pandas.core.frame.DataFrame'>\n",
            "RangeIndex: 282451 entries, 0 to 282450\n",
            "Data columns (total 1 columns):\n",
            " #   Column  Non-Null Count   Dtype         \n",
            "---  ------  --------------   -----         \n",
            " 0   Date    282451 non-null  datetime64[ns]\n",
            "dtypes: datetime64[ns](1)\n",
            "memory usage: 2.2 MB\n"
          ],
          "name": "stdout"
        }
      ]
    },
    {
      "cell_type": "markdown",
      "metadata": {
        "id": "lVrFjMwaC67j"
      },
      "source": [
        "\n",
        "\n",
        "##### Ordenação temporal das amostras (data como índice)"
      ]
    },
    {
      "cell_type": "code",
      "metadata": {
        "id": "jd_9vKRK9U1P"
      },
      "source": [
        "walmart_treated = walmart_treated.sort_values(by='Date')"
      ],
      "execution_count": 15,
      "outputs": []
    },
    {
      "cell_type": "markdown",
      "metadata": {
        "id": "XVHqfUMIKcV_"
      },
      "source": [
        "### Criação de features\n",
        "\n"
      ]
    },
    {
      "cell_type": "markdown",
      "metadata": {
        "id": "9LC2hHLEDyQs"
      },
      "source": [
        "#### Informação temporal"
      ]
    },
    {
      "cell_type": "markdown",
      "metadata": {
        "id": "DcdOncyf7jC9"
      },
      "source": [
        "Os registros vão de 05/fev/2010 até 01/nov/2012, com frequência semanal. Como uma datetime não diz muita coisa para o modelo, devemos converter a Date para algum formato útil."
      ]
    },
    {
      "cell_type": "code",
      "metadata": {
        "colab": {
          "base_uri": "https://localhost:8080/",
          "height": 414
        },
        "id": "AfKBBjLsC-b5",
        "outputId": "8c72dea5-db6c-460b-804c-23b9a88a5d4f"
      },
      "source": [
        "walmart_treated.Date.dt.isocalendar()"
      ],
      "execution_count": 16,
      "outputs": [
        {
          "output_type": "execute_result",
          "data": {
            "text/html": [
              "<div>\n",
              "<style scoped>\n",
              "    .dataframe tbody tr th:only-of-type {\n",
              "        vertical-align: middle;\n",
              "    }\n",
              "\n",
              "    .dataframe tbody tr th {\n",
              "        vertical-align: top;\n",
              "    }\n",
              "\n",
              "    .dataframe thead th {\n",
              "        text-align: right;\n",
              "    }\n",
              "</style>\n",
              "<table border=\"1\" class=\"dataframe\">\n",
              "  <thead>\n",
              "    <tr style=\"text-align: right;\">\n",
              "      <th></th>\n",
              "      <th>year</th>\n",
              "      <th>week</th>\n",
              "      <th>day</th>\n",
              "    </tr>\n",
              "  </thead>\n",
              "  <tbody>\n",
              "    <tr>\n",
              "      <th>80235</th>\n",
              "      <td>2010</td>\n",
              "      <td>5</td>\n",
              "      <td>5</td>\n",
              "    </tr>\n",
              "    <tr>\n",
              "      <th>8583</th>\n",
              "      <td>2010</td>\n",
              "      <td>5</td>\n",
              "      <td>5</td>\n",
              "    </tr>\n",
              "    <tr>\n",
              "      <th>110078</th>\n",
              "      <td>2010</td>\n",
              "      <td>5</td>\n",
              "      <td>5</td>\n",
              "    </tr>\n",
              "    <tr>\n",
              "      <th>199024</th>\n",
              "      <td>2010</td>\n",
              "      <td>5</td>\n",
              "      <td>5</td>\n",
              "    </tr>\n",
              "    <tr>\n",
              "      <th>199085</th>\n",
              "      <td>2010</td>\n",
              "      <td>5</td>\n",
              "      <td>5</td>\n",
              "    </tr>\n",
              "    <tr>\n",
              "      <th>...</th>\n",
              "      <td>...</td>\n",
              "      <td>...</td>\n",
              "      <td>...</td>\n",
              "    </tr>\n",
              "    <tr>\n",
              "      <th>130856</th>\n",
              "      <td>2012</td>\n",
              "      <td>43</td>\n",
              "      <td>5</td>\n",
              "    </tr>\n",
              "    <tr>\n",
              "      <th>130877</th>\n",
              "      <td>2012</td>\n",
              "      <td>43</td>\n",
              "      <td>5</td>\n",
              "    </tr>\n",
              "    <tr>\n",
              "      <th>183165</th>\n",
              "      <td>2012</td>\n",
              "      <td>43</td>\n",
              "      <td>5</td>\n",
              "    </tr>\n",
              "    <tr>\n",
              "      <th>146438</th>\n",
              "      <td>2012</td>\n",
              "      <td>43</td>\n",
              "      <td>5</td>\n",
              "    </tr>\n",
              "    <tr>\n",
              "      <th>63056</th>\n",
              "      <td>2012</td>\n",
              "      <td>43</td>\n",
              "      <td>5</td>\n",
              "    </tr>\n",
              "  </tbody>\n",
              "</table>\n",
              "<p>282451 rows × 3 columns</p>\n",
              "</div>"
            ],
            "text/plain": [
              "        year  week  day\n",
              "80235   2010     5    5\n",
              "8583    2010     5    5\n",
              "110078  2010     5    5\n",
              "199024  2010     5    5\n",
              "199085  2010     5    5\n",
              "...      ...   ...  ...\n",
              "130856  2012    43    5\n",
              "130877  2012    43    5\n",
              "183165  2012    43    5\n",
              "146438  2012    43    5\n",
              "63056   2012    43    5\n",
              "\n",
              "[282451 rows x 3 columns]"
            ]
          },
          "metadata": {
            "tags": []
          },
          "execution_count": 16
        }
      ]
    },
    {
      "cell_type": "markdown",
      "metadata": {
        "id": "ePcqt-1tDPXN"
      },
      "source": [
        "A contagem de vendas semanais é fechada sempre na sexta-feira (5º dia útil da semana). Portanto, o dia das datas não nos traz informação útil. Cabe manter no dataset somentre o ano e a semana de cada registro."
      ]
    },
    {
      "cell_type": "code",
      "metadata": {
        "id": "XamuIhlQ-J3Z"
      },
      "source": [
        "walmart_treated['week'] = walmart_treated.Date.dt.isocalendar().week\n",
        "walmart_treated['year'] = walmart_treated.Date.dt.isocalendar().year\n",
        "\n",
        "walmart_treated.drop('Date', axis=1, inplace=True)"
      ],
      "execution_count": 17,
      "outputs": []
    },
    {
      "cell_type": "code",
      "metadata": {
        "colab": {
          "base_uri": "https://localhost:8080/",
          "height": 110
        },
        "id": "ARmQaNcYCagx",
        "outputId": "ca966d18-ee80-4e3f-f626-3dc578e34711"
      },
      "source": [
        "walmart_treated.head(2)"
      ],
      "execution_count": 18,
      "outputs": [
        {
          "output_type": "execute_result",
          "data": {
            "text/html": [
              "<div>\n",
              "<style scoped>\n",
              "    .dataframe tbody tr th:only-of-type {\n",
              "        vertical-align: middle;\n",
              "    }\n",
              "\n",
              "    .dataframe tbody tr th {\n",
              "        vertical-align: top;\n",
              "    }\n",
              "\n",
              "    .dataframe thead th {\n",
              "        text-align: right;\n",
              "    }\n",
              "</style>\n",
              "<table border=\"1\" class=\"dataframe\">\n",
              "  <thead>\n",
              "    <tr style=\"text-align: right;\">\n",
              "      <th></th>\n",
              "      <th>Store</th>\n",
              "      <th>Dept</th>\n",
              "      <th>Weekly_Sales</th>\n",
              "      <th>IsHoliday</th>\n",
              "      <th>Temperature</th>\n",
              "      <th>Fuel_Price</th>\n",
              "      <th>MarkDown1</th>\n",
              "      <th>MarkDown2</th>\n",
              "      <th>MarkDown3</th>\n",
              "      <th>MarkDown4</th>\n",
              "      <th>MarkDown5</th>\n",
              "      <th>CPI</th>\n",
              "      <th>Unemployment</th>\n",
              "      <th>Type</th>\n",
              "      <th>Size</th>\n",
              "      <th>week</th>\n",
              "      <th>year</th>\n",
              "    </tr>\n",
              "  </thead>\n",
              "  <tbody>\n",
              "    <tr>\n",
              "      <th>80235</th>\n",
              "      <td>20</td>\n",
              "      <td>44</td>\n",
              "      <td>10130.02</td>\n",
              "      <td>False</td>\n",
              "      <td>25.92</td>\n",
              "      <td>2.784</td>\n",
              "      <td>0.0</td>\n",
              "      <td>0.0</td>\n",
              "      <td>0.0</td>\n",
              "      <td>0.0</td>\n",
              "      <td>0.0</td>\n",
              "      <td>204.247194</td>\n",
              "      <td>8.187</td>\n",
              "      <td>A</td>\n",
              "      <td>203742</td>\n",
              "      <td>5</td>\n",
              "      <td>2010</td>\n",
              "    </tr>\n",
              "    <tr>\n",
              "      <th>8583</th>\n",
              "      <td>14</td>\n",
              "      <td>31</td>\n",
              "      <td>3798.40</td>\n",
              "      <td>False</td>\n",
              "      <td>27.31</td>\n",
              "      <td>2.784</td>\n",
              "      <td>0.0</td>\n",
              "      <td>0.0</td>\n",
              "      <td>0.0</td>\n",
              "      <td>0.0</td>\n",
              "      <td>0.0</td>\n",
              "      <td>181.871190</td>\n",
              "      <td>8.992</td>\n",
              "      <td>A</td>\n",
              "      <td>200898</td>\n",
              "      <td>5</td>\n",
              "      <td>2010</td>\n",
              "    </tr>\n",
              "  </tbody>\n",
              "</table>\n",
              "</div>"
            ],
            "text/plain": [
              "       Store  Dept  Weekly_Sales  IsHoliday  ...  Type    Size  week  year\n",
              "80235     20    44      10130.02      False  ...     A  203742     5  2010\n",
              "8583      14    31       3798.40      False  ...     A  200898     5  2010\n",
              "\n",
              "[2 rows x 17 columns]"
            ]
          },
          "metadata": {
            "tags": []
          },
          "execution_count": 18
        }
      ]
    },
    {
      "cell_type": "code",
      "metadata": {
        "colab": {
          "base_uri": "https://localhost:8080/",
          "height": 110
        },
        "id": "pk3tnf3fDkrr",
        "outputId": "9a86ef0d-8aa7-4123-8cf3-669f552f216c"
      },
      "source": [
        "walmart_treated.tail(2)"
      ],
      "execution_count": 19,
      "outputs": [
        {
          "output_type": "execute_result",
          "data": {
            "text/html": [
              "<div>\n",
              "<style scoped>\n",
              "    .dataframe tbody tr th:only-of-type {\n",
              "        vertical-align: middle;\n",
              "    }\n",
              "\n",
              "    .dataframe tbody tr th {\n",
              "        vertical-align: top;\n",
              "    }\n",
              "\n",
              "    .dataframe thead th {\n",
              "        text-align: right;\n",
              "    }\n",
              "</style>\n",
              "<table border=\"1\" class=\"dataframe\">\n",
              "  <thead>\n",
              "    <tr style=\"text-align: right;\">\n",
              "      <th></th>\n",
              "      <th>Store</th>\n",
              "      <th>Dept</th>\n",
              "      <th>Weekly_Sales</th>\n",
              "      <th>IsHoliday</th>\n",
              "      <th>Temperature</th>\n",
              "      <th>Fuel_Price</th>\n",
              "      <th>MarkDown1</th>\n",
              "      <th>MarkDown2</th>\n",
              "      <th>MarkDown3</th>\n",
              "      <th>MarkDown4</th>\n",
              "      <th>MarkDown5</th>\n",
              "      <th>CPI</th>\n",
              "      <th>Unemployment</th>\n",
              "      <th>Type</th>\n",
              "      <th>Size</th>\n",
              "      <th>week</th>\n",
              "      <th>year</th>\n",
              "    </tr>\n",
              "  </thead>\n",
              "  <tbody>\n",
              "    <tr>\n",
              "      <th>146438</th>\n",
              "      <td>7</td>\n",
              "      <td>9</td>\n",
              "      <td>21331.39</td>\n",
              "      <td>False</td>\n",
              "      <td>42.53</td>\n",
              "      <td>3.686</td>\n",
              "      <td>2818.42</td>\n",
              "      <td>24.03</td>\n",
              "      <td>2.97</td>\n",
              "      <td>343.26</td>\n",
              "      <td>1064.56</td>\n",
              "      <td>199.219532</td>\n",
              "      <td>7.557</td>\n",
              "      <td>B</td>\n",
              "      <td>70713</td>\n",
              "      <td>43</td>\n",
              "      <td>2012</td>\n",
              "    </tr>\n",
              "    <tr>\n",
              "      <th>63056</th>\n",
              "      <td>35</td>\n",
              "      <td>31</td>\n",
              "      <td>3621.67</td>\n",
              "      <td>False</td>\n",
              "      <td>58.99</td>\n",
              "      <td>3.882</td>\n",
              "      <td>6221.06</td>\n",
              "      <td>42.48</td>\n",
              "      <td>103.00</td>\n",
              "      <td>273.90</td>\n",
              "      <td>996.79</td>\n",
              "      <td>142.762411</td>\n",
              "      <td>8.665</td>\n",
              "      <td>B</td>\n",
              "      <td>103681</td>\n",
              "      <td>43</td>\n",
              "      <td>2012</td>\n",
              "    </tr>\n",
              "  </tbody>\n",
              "</table>\n",
              "</div>"
            ],
            "text/plain": [
              "        Store  Dept  Weekly_Sales  IsHoliday  ...  Type    Size  week  year\n",
              "146438      7     9      21331.39      False  ...     B   70713    43  2012\n",
              "63056      35    31       3621.67      False  ...     B  103681    43  2012\n",
              "\n",
              "[2 rows x 17 columns]"
            ]
          },
          "metadata": {
            "tags": []
          },
          "execution_count": 19
        }
      ]
    },
    {
      "cell_type": "markdown",
      "metadata": {
        "id": "mgAdJy6lD6a1"
      },
      "source": [
        "#### Variáveis dummy"
      ]
    },
    {
      "cell_type": "markdown",
      "metadata": {
        "id": "s3HY2PAUD-0Y"
      },
      "source": [
        "Como temos uma variável categórica multiclasse, a Type, devemos criar variáveis dummy para cada categoria, visando utilizá-las no Random Forest."
      ]
    },
    {
      "cell_type": "code",
      "metadata": {
        "colab": {
          "base_uri": "https://localhost:8080/",
          "height": 110
        },
        "id": "tUSD7haWD96E",
        "outputId": "1315c271-bf8f-4507-d778-3662ebf4525a"
      },
      "source": [
        "walmart_treated = pd.get_dummies(walmart_treated)\n",
        "walmart_treated.head(2)"
      ],
      "execution_count": 20,
      "outputs": [
        {
          "output_type": "execute_result",
          "data": {
            "text/html": [
              "<div>\n",
              "<style scoped>\n",
              "    .dataframe tbody tr th:only-of-type {\n",
              "        vertical-align: middle;\n",
              "    }\n",
              "\n",
              "    .dataframe tbody tr th {\n",
              "        vertical-align: top;\n",
              "    }\n",
              "\n",
              "    .dataframe thead th {\n",
              "        text-align: right;\n",
              "    }\n",
              "</style>\n",
              "<table border=\"1\" class=\"dataframe\">\n",
              "  <thead>\n",
              "    <tr style=\"text-align: right;\">\n",
              "      <th></th>\n",
              "      <th>Store</th>\n",
              "      <th>Dept</th>\n",
              "      <th>Weekly_Sales</th>\n",
              "      <th>IsHoliday</th>\n",
              "      <th>Temperature</th>\n",
              "      <th>Fuel_Price</th>\n",
              "      <th>MarkDown1</th>\n",
              "      <th>MarkDown2</th>\n",
              "      <th>MarkDown3</th>\n",
              "      <th>MarkDown4</th>\n",
              "      <th>MarkDown5</th>\n",
              "      <th>CPI</th>\n",
              "      <th>Unemployment</th>\n",
              "      <th>Size</th>\n",
              "      <th>week</th>\n",
              "      <th>year</th>\n",
              "      <th>Type_A</th>\n",
              "      <th>Type_B</th>\n",
              "      <th>Type_C</th>\n",
              "    </tr>\n",
              "  </thead>\n",
              "  <tbody>\n",
              "    <tr>\n",
              "      <th>80235</th>\n",
              "      <td>20</td>\n",
              "      <td>44</td>\n",
              "      <td>10130.02</td>\n",
              "      <td>False</td>\n",
              "      <td>25.92</td>\n",
              "      <td>2.784</td>\n",
              "      <td>0.0</td>\n",
              "      <td>0.0</td>\n",
              "      <td>0.0</td>\n",
              "      <td>0.0</td>\n",
              "      <td>0.0</td>\n",
              "      <td>204.247194</td>\n",
              "      <td>8.187</td>\n",
              "      <td>203742</td>\n",
              "      <td>5</td>\n",
              "      <td>2010</td>\n",
              "      <td>1</td>\n",
              "      <td>0</td>\n",
              "      <td>0</td>\n",
              "    </tr>\n",
              "    <tr>\n",
              "      <th>8583</th>\n",
              "      <td>14</td>\n",
              "      <td>31</td>\n",
              "      <td>3798.40</td>\n",
              "      <td>False</td>\n",
              "      <td>27.31</td>\n",
              "      <td>2.784</td>\n",
              "      <td>0.0</td>\n",
              "      <td>0.0</td>\n",
              "      <td>0.0</td>\n",
              "      <td>0.0</td>\n",
              "      <td>0.0</td>\n",
              "      <td>181.871190</td>\n",
              "      <td>8.992</td>\n",
              "      <td>200898</td>\n",
              "      <td>5</td>\n",
              "      <td>2010</td>\n",
              "      <td>1</td>\n",
              "      <td>0</td>\n",
              "      <td>0</td>\n",
              "    </tr>\n",
              "  </tbody>\n",
              "</table>\n",
              "</div>"
            ],
            "text/plain": [
              "       Store  Dept  Weekly_Sales  IsHoliday  ...  year  Type_A  Type_B  Type_C\n",
              "80235     20    44      10130.02      False  ...  2010       1       0       0\n",
              "8583      14    31       3798.40      False  ...  2010       1       0       0\n",
              "\n",
              "[2 rows x 19 columns]"
            ]
          },
          "metadata": {
            "tags": []
          },
          "execution_count": 20
        }
      ]
    },
    {
      "cell_type": "markdown",
      "metadata": {
        "id": "co7GMUhEjrcs"
      },
      "source": [
        "## Exercício 2: Separação dos conjuntos de treino e teste"
      ]
    },
    {
      "cell_type": "markdown",
      "metadata": {
        "id": "cpoIW4miNa5l"
      },
      "source": [
        "* Split que não embaralhe os dados (`shuffle = False`)\n",
        "* Expanding Windows para a validação cruzada (se não demorar uma eternidae, pois temos mais de 282 mil registros)"
      ]
    },
    {
      "cell_type": "markdown",
      "metadata": {
        "id": "cfZynPA3GLQ7"
      },
      "source": [
        "Primeiramente, temos que separar o target das features."
      ]
    },
    {
      "cell_type": "code",
      "metadata": {
        "colab": {
          "base_uri": "https://localhost:8080/"
        },
        "id": "XX6FGZBZGVrx",
        "outputId": "698fd6a5-e691-4cbb-8e5c-a1eac707a93b"
      },
      "source": [
        "X = walmart_treated.drop('Weekly_Sales', axis=1)\n",
        "y = walmart_treated['Weekly_Sales']\n",
        "\n",
        "print(X.shape)\n",
        "print(y.shape)"
      ],
      "execution_count": 21,
      "outputs": [
        {
          "output_type": "stream",
          "text": [
            "(282451, 18)\n",
            "(282451,)\n"
          ],
          "name": "stdout"
        }
      ]
    },
    {
      "cell_type": "markdown",
      "metadata": {
        "id": "xuS8AtOPH1iT"
      },
      "source": [
        "Na sequência, fazemos o split de treino e teste, sem embaralhar as amostras."
      ]
    },
    {
      "cell_type": "code",
      "metadata": {
        "colab": {
          "base_uri": "https://localhost:8080/"
        },
        "id": "m4jn-wtdH-bp",
        "outputId": "a58315de-d2c9-4921-c516-adaa38c0cde1"
      },
      "source": [
        "from sklearn.model_selection import train_test_split\n",
        "\n",
        "X_training, X_test, y_training, y_test = train_test_split(X, y, \n",
        "                                                          test_size = 0.25, \n",
        "                                                          shuffle = False)\n",
        "\n",
        "print(\"Train set X\", X_training.shape)\n",
        "print(\"Train set y\", y_training.shape)\n",
        "print(\"Test set X\", X_test.shape)\n",
        "print(\"Test set y\", y_test.shape)"
      ],
      "execution_count": 22,
      "outputs": [
        {
          "output_type": "stream",
          "text": [
            "Train set X (211838, 18)\n",
            "Train set y (211838,)\n",
            "Test set X (70613, 18)\n",
            "Test set y (70613,)\n"
          ],
          "name": "stdout"
        }
      ]
    },
    {
      "cell_type": "code",
      "metadata": {
        "colab": {
          "base_uri": "https://localhost:8080/"
        },
        "id": "rhtl0rMyKhaX",
        "outputId": "1e6996a4-3dcf-4f09-ece6-6cdaa053e24f"
      },
      "source": [
        "X_train, X_val, y_train, y_val = train_test_split(X, y, \n",
        "                                                          test_size = 0.33, \n",
        "                                                          shuffle = False)\n",
        "\n",
        "print(\"Train set X\", X_train.shape)\n",
        "print(\"Train set y\", y_train.shape)\n",
        "print(\"Validation set X\", X_val.shape)\n",
        "print(\"Validation set y\", y_val.shape)"
      ],
      "execution_count": 23,
      "outputs": [
        {
          "output_type": "stream",
          "text": [
            "Train set X (189242, 18)\n",
            "Train set y (189242,)\n",
            "Validation set X (93209, 18)\n",
            "Validation set y (93209,)\n"
          ],
          "name": "stdout"
        }
      ]
    },
    {
      "cell_type": "markdown",
      "metadata": {
        "id": "oFsXRhX0IYtS"
      },
      "source": [
        "Por fim, definimos uma Expanding Windows para utilização na validação cruzada."
      ]
    },
    {
      "cell_type": "code",
      "metadata": {
        "id": "et39RrvXIXss"
      },
      "source": [
        "from sklearn.model_selection import TimeSeriesSplit\n",
        "\n",
        "cv = TimeSeriesSplit(n_splits=10)"
      ],
      "execution_count": 24,
      "outputs": []
    },
    {
      "cell_type": "markdown",
      "metadata": {
        "id": "Q89TeGinjwbN"
      },
      "source": [
        "## Exercício 3: Construção do modelo e análise dos resultados"
      ]
    },
    {
      "cell_type": "code",
      "metadata": {
        "id": "KUGb8Bg4KLXl"
      },
      "source": [
        "# Importando as bibliotecas que vamos utilizar no modelo\n",
        "from sklearn.ensemble import RandomForestRegressor\n",
        "from sklearn.datasets import make_regression\n",
        "from sklearn.metrics import mean_absolute_error, r2_score\n",
        "from sklearn.model_selection import GridSearchCV"
      ],
      "execution_count": 25,
      "outputs": []
    },
    {
      "cell_type": "markdown",
      "metadata": {
        "id": "8r9faiahZDfW"
      },
      "source": [
        "#### Hiperparâmetros padrão"
      ]
    },
    {
      "cell_type": "markdown",
      "metadata": {
        "id": "VCDBsGo_kSd0"
      },
      "source": [
        "Valor padrão dos hiperparâmetros selecionados\n",
        "* `n_estimators`: 100\n",
        "* `max_depth`: None\n",
        "* `min_samples_split`: 2\n",
        "* `min_samples_leaf`: 1 \n",
        "* `max_features`: 'auto'"
      ]
    },
    {
      "cell_type": "code",
      "metadata": {
        "id": "Q-H9yTOZt1uG"
      },
      "source": [
        "SEED = 42"
      ],
      "execution_count": 26,
      "outputs": []
    },
    {
      "cell_type": "code",
      "metadata": {
        "id": "JydmHWHPLHOt"
      },
      "source": [
        "# criando o objeto do modelo com RandomForestRegressor\n",
        "rf_model_1 = RandomForestRegressor(random_state = SEED, n_jobs=-1)\n",
        "\n",
        "# treinando o modelo com os dados de treino\n",
        "rf_model_1.fit(X_train, y_train)\n",
        "\n",
        "# prevendo com o modelo nos dados de validação\n",
        "y_pred = rf_model_1.predict(X_val)"
      ],
      "execution_count": null,
      "outputs": []
    },
    {
      "cell_type": "code",
      "metadata": {
        "id": "V5_jeg06LQcI",
        "colab": {
          "base_uri": "https://localhost:8080/",
          "height": 335
        },
        "outputId": "de4ed235-96a9-4de1-ab7e-c0d5b19471c2"
      },
      "source": [
        "# calculando e imprimindo algumas métricas\n",
        "print(\"Score on training set: {:.3f}\".format(rf_model_1.score(X_train, y_train)))\n",
        "print(\"Score on validation set: {:.3f}\".format(rf_model_1.score(X_val, y_val)))\n",
        "y = [rf_model_1.score(X_train, y_train), \n",
        "     rf_model_1.score(X_val, y_val)]\n",
        "x = [\"Train Score\", \"Validation Score\"]\n",
        "width = 1/2\n",
        "plt.bar(x, y, width, color=\"gray\") \n",
        "print(\"Mean absolute error (MAE): {:.3f}\".format(mean_absolute_error(y_val, y_pred)))\n",
        "print(\"R² Score: {:.3f}\".format(r2_score(y_val, y_pred)))"
      ],
      "execution_count": 28,
      "outputs": [
        {
          "output_type": "stream",
          "text": [
            "Score on training set: 0.995\n",
            "Score on validation set: 0.945\n",
            "Mean absolute error (MAE): 2420.472\n",
            "R² Score: 0.945\n"
          ],
          "name": "stdout"
        },
        {
          "output_type": "display_data",
          "data": {
            "image/png": "[encoded data removed]",
            "text/plain": [
              "<Figure size 432x288 with 1 Axes>"
            ]
          },
          "metadata": {
            "tags": [],
            "needs_background": "light"
          }
        }
      ]
    },
    {
      "cell_type": "markdown",
      "metadata": {
        "id": "SIEkDmDKrYrE"
      },
      "source": [
        "Como podemos ver, os resultados apresentados pelo modelo ficaram muito bons: um $R^2$ de 0.995 para os dados de treino e 0.945 para os de teste. Para o set de validação, obtivemos um MAE de 2420.472.\n",
        "\n",
        "Parece que temos um certo overfit do dataset de treino. Por isso, faremos validação cruzada para avaliar o resultado."
      ]
    },
    {
      "cell_type": "code",
      "metadata": {
        "id": "RE_qLpeTfMv7",
        "colab": {
          "base_uri": "https://localhost:8080/",
          "height": 294
        },
        "outputId": "9c64b5b6-7c10-4b52-a2c8-8458e39bab76"
      },
      "source": [
        "features = X.columns\n",
        "importances = rf_model_1.feature_importances_\n",
        "indices = np.argsort(importances)\n",
        "\n",
        "plt.title('Feature Importances')\n",
        "plt.barh(range(len(indices)), importances[indices], color='b', align='center')\n",
        "plt.yticks(range(len(indices)), [features[i] for i in indices])\n",
        "plt.xlabel('Relative Importance')\n",
        "plt.show()"
      ],
      "execution_count": 29,
      "outputs": [
        {
          "output_type": "display_data",
          "data": {
            "image/png": "[encoded data removed]",
            "text/plain": [
              "<Figure size 432x288 with 1 Axes>"
            ]
          },
          "metadata": {
            "tags": [],
            "needs_background": "light"
          }
        }
      ]
    },
    {
      "cell_type": "markdown",
      "metadata": {
        "id": "4ymhH7tH8TnN"
      },
      "source": [
        "Como podemos ver no gráfico de feature importance, as variáveis mais relevantes para a decisão foram Dept e Size."
      ]
    },
    {
      "cell_type": "markdown",
      "metadata": {
        "id": "UeuAfc4B9DW0"
      },
      "source": [
        "#### Cross Validation: Expanding Windows"
      ]
    },
    {
      "cell_type": "code",
      "metadata": {
        "id": "CX9P0-WW-owY",
        "colab": {
          "base_uri": "https://localhost:8080/",
          "height": 317
        },
        "outputId": "104af647-9b87-49ad-cd13-3a233582629f"
      },
      "source": [
        "# Random Forest com validação cruzada\n",
        "\n",
        "# importando a função de grid search do sklearn\n",
        "from sklearn.model_selection import GridSearchCV\n",
        "import pandas as pd\n",
        "\n",
        "# definindo os valores possíveis dos parâmetros a serem testados\n",
        "params = {}\n",
        "\n",
        "# criando o objeto do modelo com RandomForestRegressor\n",
        "rf_model_cv = RandomForestRegressor(random_state = SEED)\n",
        "\n",
        "# criando o objeto do grid search com GridSearchCV\n",
        "grid_search = GridSearchCV(rf_model_cv, \n",
        "                           param_grid = params, \n",
        "                           return_train_score = True, \n",
        "                           cv = cv)\n",
        "\n",
        "# treinando o modelo com o grid search\n",
        "grid_search.fit(X_training, y_training)\n",
        "\n",
        "# pegando os resultados da validação cruzada (cv_results)\n",
        "cv_results = pd.DataFrame(grid_search.cv_results_)\n",
        "\n",
        "# imprimindo o score médio nas bases de treino\n",
        "print(\"Average Score on train set: {:.3f} +/- {:.3f}\".format(cv_results[cv_results.rank_test_score == 1].mean_train_score.values[0],\n",
        "                                                                     cv_results[cv_results.rank_test_score == 1].std_train_score.values[0]))\n",
        "# imprimindo o score médio nas bases de validação\n",
        "print(\"Average Score on validation set: {:.3f} +/- {:.3f}\".format(cv_results[cv_results.rank_test_score == 1].mean_test_score.values[0],\n",
        "                                                                     cv_results[cv_results.rank_test_score == 1].std_test_score.values[0]))\n",
        "\n",
        "y = [cv_results[cv_results.rank_test_score == 1].mean_train_score.values[0], \n",
        "     cv_results[cv_results.rank_test_score == 1].mean_test_score.values[0]]\n",
        "x = [\"Train Score\", \"Validation Score\"]\n",
        "width = 1/2\n",
        "plt.bar(x, y, width, color=\"blue\")  "
      ],
      "execution_count": 30,
      "outputs": [
        {
          "output_type": "stream",
          "text": [
            "Average Score on train set: 0.996 +/- 0.001\n",
            "Average Score on validation set: 0.915 +/- 0.087\n"
          ],
          "name": "stdout"
        },
        {
          "output_type": "execute_result",
          "data": {
            "text/plain": [
              "<BarContainer object of 2 artists>"
            ]
          },
          "metadata": {
            "tags": []
          },
          "execution_count": 30
        },
        {
          "output_type": "display_data",
          "data": {
            "image/png": "[encoded data removed]",
            "text/plain": [
              "<Figure size 432x288 with 1 Axes>"
            ]
          },
          "metadata": {
            "tags": [],
            "needs_background": "light"
          }
        }
      ]
    },
    {
      "cell_type": "markdown",
      "metadata": {
        "id": "IehZVLvFMpKi"
      },
      "source": [
        "Claramente estamos com overfit, pois, ao utilizar diferentes dados para validação, obtivemos um resultado consideravelmente pior: $R^2$ caiu de 0.945 para 0.915.\n",
        "\n",
        "Portanto, cabe uma investigação dos melhores hiperparâmetros com o GridSearch."
      ]
    },
    {
      "cell_type": "markdown",
      "metadata": {
        "id": "Yi1U_qLgeskw"
      },
      "source": [
        "#### GridSearch"
      ]
    },
    {
      "cell_type": "code",
      "metadata": {
        "id": "XbKJ5JN2yk3y",
        "colab": {
          "base_uri": "https://localhost:8080/",
          "height": 371
        },
        "outputId": "03dbc72e-4432-49fc-de41-88a2997c37d2"
      },
      "source": [
        "# Random Forest com Validação Cruzada e Grid Search para Séries temporais\n",
        "\n",
        "# define os valores possíveis para os parâmetros a serem testados\n",
        "params = {'n_estimators': [20, 50, 100],\n",
        "          #'max_depth': [50, 100, 200, 500],\n",
        "          'max_features': [12, 13, 14],\n",
        "          'min_samples_split': [2, 3, 4, 5],\n",
        "          #'min_samples_leaf': [1, 2, 3]\n",
        "          }\n",
        "\n",
        "# cria modelo\n",
        "rf_model_cv_gs = RandomForestRegressor(random_state=SEED, n_jobs=-1)\n",
        "\n",
        "# objeto para grid search com GridSearchCV\n",
        "grid_search = GridSearchCV(rf_model_cv_gs, \n",
        "                           param_grid = params, \n",
        "                           return_train_score = True, \n",
        "                           cv = cv)\n",
        "\n",
        "# treina modelo com Grid Search\n",
        "grid_search.fit(X_training, y_training)\n",
        "\n",
        "# imprime melhor combinação de hiperparâmetros\n",
        "print('\\n Best hyperparameters:')\n",
        "print(grid_search.best_params_)\n",
        "\n",
        "# resultados do cv\n",
        "cv_results = pd.DataFrame(grid_search.cv_results_)\n",
        "\n",
        "# print score médio nos sets de treino\n",
        "print(\"Pontuação média nos dados de treino: {:.3f} +/- {:.3f}\".format(cv_results[cv_results.rank_test_score == 1].mean_train_score.values[0],\n",
        "                                                                     cv_results[cv_results.rank_test_score == 1].std_train_score.values[0]))\n",
        "# print score médio nos sets de validação\n",
        "print(\"Pontuação média nos dados de validação: {:.3f} +/- {:.3f}\".format(cv_results[cv_results.rank_test_score == 1].mean_test_score.values[0],\n",
        "                                                                     cv_results[cv_results.rank_test_score == 1].std_test_score.values[0])) \n",
        "\n",
        "y = [cv_results[cv_results.rank_test_score == 1].mean_train_score.values[0], \n",
        "     cv_results[cv_results.rank_test_score == 1].mean_test_score.values[0]]\n",
        "x = [\"Train Score\", \"Test Score\"]\n",
        "width = 1/2\n",
        "plt.bar(x, y, width, color=\"blue\")  "
      ],
      "execution_count": 31,
      "outputs": [
        {
          "output_type": "stream",
          "text": [
            "\n",
            " Best hyperparameters:\n",
            "{'max_features': 14, 'min_samples_split': 4, 'n_estimators': 50}\n",
            "Pontuação média nos dados de treino: 0.993 +/- 0.002\n",
            "Pontuação média nos dados de validação: 0.919 +/- 0.085\n"
          ],
          "name": "stdout"
        },
        {
          "output_type": "execute_result",
          "data": {
            "text/plain": [
              "<BarContainer object of 2 artists>"
            ]
          },
          "metadata": {
            "tags": []
          },
          "execution_count": 31
        },
        {
          "output_type": "display_data",
          "data": {
            "image/png": "[encoded data removed]",
            "text/plain": [
              "<Figure size 432x288 with 1 Axes>"
            ]
          },
          "metadata": {
            "tags": [],
            "needs_background": "light"
          }
        }
      ]
    },
    {
      "cell_type": "markdown",
      "metadata": {
        "id": "NClt-flZyuwB"
      },
      "source": [
        "Após alguns longos GridSearch, constata-se que os melhores hiperparâmetros são:\n",
        "* `n_estimators`: 50\n",
        "* `max_depth`: None\n",
        "* `min_samples_split`: 4\n",
        "* `min_samples_leaf`: 1 \n",
        "* `max_features`: 14\n",
        "\n",
        "Por isso, vamos treinar o modelo com a combinação encontrada.\n"
      ]
    },
    {
      "cell_type": "code",
      "metadata": {
        "id": "jmyLSwey_dNg",
        "colab": {
          "base_uri": "https://localhost:8080/"
        },
        "outputId": "0b7b13ee-8def-4eb6-c5c6-36e87bf377c8"
      },
      "source": [
        "# seta melhor opção baseada nos hiperparâmetros\n",
        "# utiliza as melhores opções de hiperparâmetros encontrados\n",
        "#rf_model_cv_gs = RandomForestRegressor(random_state=SEED)\n",
        "\n",
        "rf_model_cv_gs.set_params(n_estimators = grid_search.best_params_['n_estimators'],\n",
        "                          max_features = grid_search.best_params_['max_features'],\n",
        "                          min_samples_split = grid_search.best_params_['min_samples_split'],\n",
        "                          )\n",
        "\n",
        "#rf_model_cv_gs.set_params(n_estimators = 50,\n",
        "#                          max_features = 14,\n",
        "#                          min_samples_split = 4,\n",
        "#                          )\n",
        "\n",
        "# treina modelo com todos os dados de treino disponíveis e com os melhores hiperparâmetros encontrados\n",
        "rf_model_cv_gs.fit(X_training, y_training)"
      ],
      "execution_count": 32,
      "outputs": [
        {
          "output_type": "execute_result",
          "data": {
            "text/plain": [
              "RandomForestRegressor(bootstrap=True, ccp_alpha=0.0, criterion='mse',\n",
              "                      max_depth=None, max_features=14, max_leaf_nodes=None,\n",
              "                      max_samples=None, min_impurity_decrease=0.0,\n",
              "                      min_impurity_split=None, min_samples_leaf=1,\n",
              "                      min_samples_split=4, min_weight_fraction_leaf=0.0,\n",
              "                      n_estimators=50, n_jobs=-1, oob_score=False,\n",
              "                      random_state=42, verbose=0, warm_start=False)"
            ]
          },
          "metadata": {
            "tags": []
          },
          "execution_count": 32
        }
      ]
    },
    {
      "cell_type": "markdown",
      "metadata": {
        "id": "7IsedIjU8ifY"
      },
      "source": [
        "#### Resultados"
      ]
    },
    {
      "cell_type": "code",
      "metadata": {
        "id": "Rct9KpGWOsXf"
      },
      "source": [
        "# prevendo os valores no dataset de teste\n",
        "y_pred_test = rf_model_cv_gs.predict(X_test)"
      ],
      "execution_count": 33,
      "outputs": []
    },
    {
      "cell_type": "code",
      "metadata": {
        "id": "QBACP8n0OxO8",
        "colab": {
          "base_uri": "https://localhost:8080/"
        },
        "outputId": "c37aa4c2-0132-42a1-c76b-0a6e0c963335"
      },
      "source": [
        "print(\"Score on validation set: {:.3f}\".format(rf_model_cv_gs.score(X_test, y_test)))\n",
        "print(\"Mean absolute error (MAE): {:.3f}\".format(mean_absolute_error(y_test, y_pred_test)))\n",
        "print(\"R² Score: {:.3f}\".format(r2_score(y_test, y_pred_test)))"
      ],
      "execution_count": 34,
      "outputs": [
        {
          "output_type": "stream",
          "text": [
            "Score on validation set: 0.965\n",
            "Mean absolute error (MAE): 2056.159\n",
            "R² Score: 0.965\n"
          ],
          "name": "stdout"
        }
      ]
    },
    {
      "cell_type": "markdown",
      "metadata": {
        "id": "9nWzf66uyrZZ"
      },
      "source": [
        "Anteriormente, na validação cruzada com os melhores hiperparâmetros do GridSearch, obtivemos $R^2$ médio de 0,993 e 0,919 nos sets de treino e validação, respectivamente. Estes valores formam um pouco melhores que os obtidos com os hiperparâmetros padrão.\n",
        "\n",
        "Agora, para o dataset de treino, conseguimos resultados muito bons: $R^2$ de 0,965 e MAE de 2056,159, a qual tinha ficado em 2420.472 para o modelo com hiperparâmetros padrão e sem validação cruzada."
      ]
    },
    {
      "cell_type": "code",
      "metadata": {
        "id": "4GEuIFpSVU4Y",
        "colab": {
          "base_uri": "https://localhost:8080/",
          "height": 526
        },
        "outputId": "edc74c13-8566-4d37-9820-350ab89b06c4"
      },
      "source": [
        "# Desenhando o gráfico de valores previstos por valores reais\n",
        "plt.figure(figsize=(18,8))\n",
        "plt.title('Walmart weakly sales - Predicted vs Real',fontsize=20)\n",
        "\n",
        "df = pd.DataFrame({'real':y_test,'RF':y_pred_test})\n",
        "df = df.reset_index(drop=True)\n",
        "\n",
        "\n",
        "plt.plot(df.iloc[-100:])\n",
        "plt.legend(['Real weekly sales','RF Predicted weekly sales'],fontsize=20)\n",
        "plt.ylabel('Weekly sales',fontsize=20)\n",
        "plt.xlabel('Samples ordered by date',fontsize=20)\n",
        "plt.show()"
      ],
      "execution_count": 35,
      "outputs": [
        {
          "output_type": "display_data",
          "data": {
            "image/png": "[encoded data removed]",
            "text/plain": [
              "<Figure size 1296x576 with 1 Axes>"
            ]
          },
          "metadata": {
            "tags": [],
            "needs_background": "light"
          }
        }
      ]
    },
    {
      "cell_type": "markdown",
      "metadata": {
        "id": "qQ5yxAO309R9"
      },
      "source": [
        "No grafico acima, para as 100 últmas amostras do dataset de teste, podemos ver como os valores previstos pelo modelo (em larajna) se comprortam em relação as valores reais (em azul)."
      ]
    },
    {
      "cell_type": "code",
      "metadata": {
        "colab": {
          "base_uri": "https://localhost:8080/",
          "height": 294
        },
        "id": "u__Q519f8gQc",
        "outputId": "f7e76247-dd52-4cb2-d424-df3d457ea0e1"
      },
      "source": [
        "features = X.columns\n",
        "importances = rf_model_cv_gs.feature_importances_\n",
        "indices = np.argsort(importances)\n",
        "\n",
        "plt.title('Feature Importances')\n",
        "plt.barh(range(len(indices)), importances[indices], color='b', align='center')\n",
        "plt.yticks(range(len(indices)), [features[i] for i in indices])\n",
        "plt.xlabel('Relative Importance')\n",
        "plt.show()"
      ],
      "execution_count": 36,
      "outputs": [
        {
          "output_type": "display_data",
          "data": {
            "image/png": "[encoded data removed]",
            "text/plain": [
              "<Figure size 432x288 with 1 Axes>"
            ]
          },
          "metadata": {
            "tags": [],
            "needs_background": "light"
          }
        }
      ]
    },
    {
      "cell_type": "markdown",
      "metadata": {
        "id": "7rUGRxy31Xtr"
      },
      "source": [
        "No gráfico de feature importance, percebemos que a variável Dept teve uma importância ligeiramente maior, enquanto a Size teve importância ligeiramente menor, em relação ao modelo com hiperparâmetros padrão. Mesmo assim, ambas ainda foram as variáveis mais importantes para a decisão."
      ]
    }
  ]
}