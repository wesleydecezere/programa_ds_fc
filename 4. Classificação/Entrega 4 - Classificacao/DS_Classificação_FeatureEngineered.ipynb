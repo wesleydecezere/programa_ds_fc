{
  "nbformat": 4,
  "nbformat_minor": 0,
  "metadata": {
    "celltoolbar": "Edit Metadata",
    "colab": {
      "name": "DS_Classificação-FeatureEngineered.ipynb",
      "provenance": [],
      "collapsed_sections": [
        "_6JFzme_a-j_",
        "AdipCyGSa-kB",
        "VPf-21UBa-mi",
        "_tpDir97a-mj",
        "Y85oq_OZa-mk",
        "ncjXP4HYa-mt",
        "XALKaGTva-nO",
        "ulv_F84Ka-nU",
        "rSLw97iMa-n_",
        "ukmp7epea-oK"
      ],
      "toc_visible": true,
      "include_colab_link": true
    },
    "kernelspec": {
      "display_name": "Python 3",
      "language": "python",
      "name": "python3"
    },
    "language_info": {
      "codemirror_mode": {
        "name": "ipython",
        "version": 3
      },
      "file_extension": ".py",
      "mimetype": "text/x-python",
      "name": "python",
      "nbconvert_exporter": "python",
      "pygments_lexer": "ipython3",
      "version": "3.7.6"
    },
    "toc": {
      "base_numbering": 1,
      "nav_menu": {},
      "number_sections": true,
      "sideBar": true,
      "skip_h1_title": true,
      "title_cell": "Table of Contents",
      "title_sidebar": "Contents",
      "toc_cell": false,
      "toc_position": {
        "height": "calc(100% - 180px)",
        "left": "10px",
        "top": "150px",
        "width": "207px"
      },
      "toc_section_display": true,
      "toc_window_display": true
    },
    "varInspector": {
      "cols": {
        "lenName": 16,
        "lenType": 16,
        "lenVar": 40
      },
      "kernels_config": {
        "python": {
          "delete_cmd_postfix": "",
          "delete_cmd_prefix": "del ",
          "library": "var_list.py",
          "varRefreshCmd": "print(var_dic_list())"
        },
        "r": {
          "delete_cmd_postfix": ") ",
          "delete_cmd_prefix": "rm(",
          "library": "var_list.r",
          "varRefreshCmd": "cat(var_dic_list()) "
        }
      },
      "types_to_exclude": [
        "module",
        "function",
        "builtin_function_or_method",
        "instance",
        "_Feature"
      ],
      "window_display": false
    }
  },
  "cells": [
    {
      "cell_type": "markdown",
      "metadata": {
        "id": "view-in-github",
        "colab_type": "text"
      },
      "source": [
        "<a href=\"https://colab.research.google.com/github/wesleydecezere/programa_ds_fc/blob/master/4.%20Classifica%C3%A7%C3%A3o/Entrega%204%20-%20Classificacao/DS_Classifica%C3%A7%C3%A3o_FeatureEngineered.ipynb\" target=\"_parent\"><img src=\"https://colab.research.google.com/assets/colab-badge.svg\" alt=\"Open In Colab\"/></a>"
      ]
    },
    {
      "cell_type": "markdown",
      "metadata": {
        "id": "hN9TRGlsa-jg"
      },
      "source": [
        "# <center>Classificação</center>\n",
        "___"
      ]
    },
    {
      "cell_type": "markdown",
      "metadata": {
        "id": "M09Fg6BXa-ji"
      },
      "source": [
        "## Conteúdo\n",
        "1. [Recaptulação](#recap) <br>\n",
        "2. [Definição do Problema](#problem_def) <br>\n",
        "3. [Análise Inicial](#initial_analysis) <br>\n",
        "4. [Split Treino e Teste](#split) <br>\n",
        "5. [Modelagem](#modeling) <br>\n",
        "6. [Avaliação dos Modelos](#eval) <br>\n",
        "7. [Classificação Multiclasse](#multiclass) <br>\n",
        "[Dig Deeper](#digdeeper)"
      ]
    },
    {
      "cell_type": "markdown",
      "metadata": {
        "id": "GAlCwOpFa-jl"
      },
      "source": [
        "<a id=\"recap\"></a>\n",
        "## 1. Recaptulação"
      ]
    },
    {
      "cell_type": "markdown",
      "metadata": {
        "id": "Y6AmACPCa-jm"
      },
      "source": [
        "Nas aulas anteriores, discutimos o que é Aprendizado de Máquina e como ele pode ser utilizado para resolver diferentes problemas, dando uma visão geral das diferentes classes de algoritmos, quais problemas cada um trata e as principais métricas para avaliá-los.\n",
        "\n",
        "Nesta aula, focaremos em uma abordagem mais prática de como implementar e usar esses algoritimos em Python. Mais especificamente, exploraremos os principais algoritmos de classificação utilizados na indústria, como implementá-los usando a biblioteca ```scikit-learn```, como avaliá-los e selecionar o melhor para o problema em questão.\n",
        "\n",
        "> **Relembrando**: **Classificação** é uma técnica de aprendizado de máquina supervisionado que usa um conhecimento adquirido de dados de treino para classificar novas observações dentre um conjunto finito de possíveis classes. Embora hajam mais variações, a classificação é separada usalmente entre dois tipos distintos: classificação binária, cujo objetivo é identificar amostras em duas classes distintas, e classificação multiclasse, em que há duas ou mais classes mutualmente excludentes."
      ]
    },
    {
      "cell_type": "markdown",
      "metadata": {
        "id": "2iScVU1Ua-jn"
      },
      "source": [
        "<a id=\"problem_def\"></a>\n",
        "## 2. Definição do Problema"
      ]
    },
    {
      "cell_type": "markdown",
      "metadata": {
        "id": "hHEEa-kia-jo"
      },
      "source": [
        "Uma grande aplicação de técnicas de classificação é ajudar no diagnóstico médico. O [uso de aprendizado de máquina no prognóstico de câncer e previsão](https://www.sciencedirect.com/science/article/pii/S2001037014000464) está virando crucial para abordar esse problema, visto que permite iniciar o tratamento apropriado o mais cedo possível e consequentemente aumentar a chance de sobrevivência do paciente.\n",
        "\n",
        "Neste capítulo, vamos usar um dataset real incluso no ```scikit-learn```. O conjunto de dados público de câncer de mama de Wisconsin possui registros de medidas clínicas desses tumores. Eles são rotulados como tumores benignos e malignos e a tarefa consiste em aprender a **prever qual o seu tipo baseado nas medidas do tecido**.\n",
        "\n",
        "Nós vamos construir e avaliar alguns modelos para esta tarefa, que consiste em uma classificação binária (apenas duas classes). Note, entretanto, que as técnicas discutidas a seguir podem facilmente ser extendidas para outros problemas de classificação binária ou então multiclasse.\n",
        "\n",
        "Vamos começar importando o dataset e verificar sua descrição!"
      ]
    },
    {
      "cell_type": "code",
      "metadata": {
        "colab": {
          "base_uri": "https://localhost:8080/"
        },
        "id": "WKYhrQ87a-jp",
        "outputId": "51885569-c87a-4df7-ed76-d93142005c77"
      },
      "source": [
        "from sklearn.datasets import load_breast_cancer\n",
        "cancer = load_breast_cancer()\n",
        "\n",
        "X, y = cancer.data, cancer.target\n",
        "\n",
        "print(\"X\", X.shape)\n",
        "print(\"y\", y.shape)"
      ],
      "execution_count": 1,
      "outputs": [
        {
          "output_type": "stream",
          "text": [
            "X (569, 30)\n",
            "y (569,)\n"
          ],
          "name": "stdout"
        }
      ]
    },
    {
      "cell_type": "markdown",
      "metadata": {
        "id": "87hgUFlga-jw"
      },
      "source": [
        "Datasets inclusos na biblioteca ```scikit-learn``` consistem em objetos *Bunch*, que contém os dados propriamente ditos mais diferentes informações adicionais sobre o conjunto de dados. Eles são similares a dicionários com o benefício adicional que você pode acessar seus valores usando uma sintaxe com pontos (dataset.label ao invés de dataset\\['label'\\]).\n",
        "\n",
        "Para ver todas as informações em um objeto *Bunch*, utilize o método ```.keys()```.\n"
      ]
    },
    {
      "cell_type": "code",
      "metadata": {
        "id": "HDZENNOYa-jx",
        "scrolled": false,
        "colab": {
          "base_uri": "https://localhost:8080/"
        },
        "outputId": "96c6e4ce-2f93-496f-85a2-078f9c434c6b"
      },
      "source": [
        "# Printar a descrição do dataset\n",
        "print(cancer.DESCR)"
      ],
      "execution_count": 2,
      "outputs": [
        {
          "output_type": "stream",
          "text": [
            ".. _breast_cancer_dataset:\n",
            "\n",
            "Breast cancer wisconsin (diagnostic) dataset\n",
            "--------------------------------------------\n",
            "\n",
            "**Data Set Characteristics:**\n",
            "\n",
            "    :Number of Instances: 569\n",
            "\n",
            "    :Number of Attributes: 30 numeric, predictive attributes and the class\n",
            "\n",
            "    :Attribute Information:\n",
            "        - radius (mean of distances from center to points on the perimeter)\n",
            "        - texture (standard deviation of gray-scale values)\n",
            "        - perimeter\n",
            "        - area\n",
            "        - smoothness (local variation in radius lengths)\n",
            "        - compactness (perimeter^2 / area - 1.0)\n",
            "        - concavity (severity of concave portions of the contour)\n",
            "        - concave points (number of concave portions of the contour)\n",
            "        - symmetry \n",
            "        - fractal dimension (\"coastline approximation\" - 1)\n",
            "\n",
            "        The mean, standard error, and \"worst\" or largest (mean of the three\n",
            "        largest values) of these features were computed for each image,\n",
            "        resulting in 30 features.  For instance, field 3 is Mean Radius, field\n",
            "        13 is Radius SE, field 23 is Worst Radius.\n",
            "\n",
            "        - class:\n",
            "                - WDBC-Malignant\n",
            "                - WDBC-Benign\n",
            "\n",
            "    :Summary Statistics:\n",
            "\n",
            "    ===================================== ====== ======\n",
            "                                           Min    Max\n",
            "    ===================================== ====== ======\n",
            "    radius (mean):                        6.981  28.11\n",
            "    texture (mean):                       9.71   39.28\n",
            "    perimeter (mean):                     43.79  188.5\n",
            "    area (mean):                          143.5  2501.0\n",
            "    smoothness (mean):                    0.053  0.163\n",
            "    compactness (mean):                   0.019  0.345\n",
            "    concavity (mean):                     0.0    0.427\n",
            "    concave points (mean):                0.0    0.201\n",
            "    symmetry (mean):                      0.106  0.304\n",
            "    fractal dimension (mean):             0.05   0.097\n",
            "    radius (standard error):              0.112  2.873\n",
            "    texture (standard error):             0.36   4.885\n",
            "    perimeter (standard error):           0.757  21.98\n",
            "    area (standard error):                6.802  542.2\n",
            "    smoothness (standard error):          0.002  0.031\n",
            "    compactness (standard error):         0.002  0.135\n",
            "    concavity (standard error):           0.0    0.396\n",
            "    concave points (standard error):      0.0    0.053\n",
            "    symmetry (standard error):            0.008  0.079\n",
            "    fractal dimension (standard error):   0.001  0.03\n",
            "    radius (worst):                       7.93   36.04\n",
            "    texture (worst):                      12.02  49.54\n",
            "    perimeter (worst):                    50.41  251.2\n",
            "    area (worst):                         185.2  4254.0\n",
            "    smoothness (worst):                   0.071  0.223\n",
            "    compactness (worst):                  0.027  1.058\n",
            "    concavity (worst):                    0.0    1.252\n",
            "    concave points (worst):               0.0    0.291\n",
            "    symmetry (worst):                     0.156  0.664\n",
            "    fractal dimension (worst):            0.055  0.208\n",
            "    ===================================== ====== ======\n",
            "\n",
            "    :Missing Attribute Values: None\n",
            "\n",
            "    :Class Distribution: 212 - Malignant, 357 - Benign\n",
            "\n",
            "    :Creator:  Dr. William H. Wolberg, W. Nick Street, Olvi L. Mangasarian\n",
            "\n",
            "    :Donor: Nick Street\n",
            "\n",
            "    :Date: November, 1995\n",
            "\n",
            "This is a copy of UCI ML Breast Cancer Wisconsin (Diagnostic) datasets.\n",
            "https://goo.gl/U2Uwz2\n",
            "\n",
            "Features are computed from a digitized image of a fine needle\n",
            "aspirate (FNA) of a breast mass.  They describe\n",
            "characteristics of the cell nuclei present in the image.\n",
            "\n",
            "Separating plane described above was obtained using\n",
            "Multisurface Method-Tree (MSM-T) [K. P. Bennett, \"Decision Tree\n",
            "Construction Via Linear Programming.\" Proceedings of the 4th\n",
            "Midwest Artificial Intelligence and Cognitive Science Society,\n",
            "pp. 97-101, 1992], a classification method which uses linear\n",
            "programming to construct a decision tree.  Relevant features\n",
            "were selected using an exhaustive search in the space of 1-4\n",
            "features and 1-3 separating planes.\n",
            "\n",
            "The actual linear program used to obtain the separating plane\n",
            "in the 3-dimensional space is that described in:\n",
            "[K. P. Bennett and O. L. Mangasarian: \"Robust Linear\n",
            "Programming Discrimination of Two Linearly Inseparable Sets\",\n",
            "Optimization Methods and Software 1, 1992, 23-34].\n",
            "\n",
            "This database is also available through the UW CS ftp server:\n",
            "\n",
            "ftp ftp.cs.wisc.edu\n",
            "cd math-prog/cpo-dataset/machine-learn/WDBC/\n",
            "\n",
            ".. topic:: References\n",
            "\n",
            "   - W.N. Street, W.H. Wolberg and O.L. Mangasarian. Nuclear feature extraction \n",
            "     for breast tumor diagnosis. IS&T/SPIE 1993 International Symposium on \n",
            "     Electronic Imaging: Science and Technology, volume 1905, pages 861-870,\n",
            "     San Jose, CA, 1993.\n",
            "   - O.L. Mangasarian, W.N. Street and W.H. Wolberg. Breast cancer diagnosis and \n",
            "     prognosis via linear programming. Operations Research, 43(4), pages 570-577, \n",
            "     July-August 1995.\n",
            "   - W.H. Wolberg, W.N. Street, and O.L. Mangasarian. Machine learning techniques\n",
            "     to diagnose breast cancer from fine-needle aspirates. Cancer Letters 77 (1994) \n",
            "     163-171.\n"
          ],
          "name": "stdout"
        }
      ]
    },
    {
      "cell_type": "markdown",
      "metadata": {
        "id": "Vtc_nw0Fa-j3"
      },
      "source": [
        "<a id=\"initial_analysis\"></a>\n",
        "## 3. Análise Inicial"
      ]
    },
    {
      "cell_type": "markdown",
      "metadata": {
        "id": "pGfU-89sHgZe"
      },
      "source": [
        "A maior parte dos conjuntos de dados disponíveis do ```scikit-learn``` são conhecidos como *toy datasets*, usados normalmente para propósitos educacionais e para realizar benchmarks de algoritmos. Portanto, eles geralmente possuem dados **limpos e tratados** para a modelagem. Porém, note que em qualquer problema ou conjunto de dados \"real\", as etapas de limpeza, preparação e engenharia de variáveis devem ser previamente realizadas.\n",
        "\n",
        "Antes de começar a construir o modelo, existem algumas análises importantes e mais sutis que devem ser consideradas. Abaixo algumas delas:"
      ]
    },
    {
      "cell_type": "markdown",
      "metadata": {
        "id": "W_-k7_VsHgZf"
      },
      "source": [
        "### 3.1. Viés nos Dados\n",
        "As vezes, o processo de aquisição de dados pode estar sujeito a diferentes tipos de viéses. Algumas fontes comuns são:\n",
        "1. Medidas limitadas no tempo que não capturam a sazonalidade do fenômeno \n",
        "2. Restringir a pesquisa a grupos específicos, que não refletem o comportamento da população\n",
        "3. Relatar os dados em grupos categóricos enganosos\n",
        "\n",
        "Supondo que a presença de cancer é dependente da idade do indivíduo, uma preocupação pode ser: qual é a idade dos pacientes sujeitos ao diagnóstico? Eles pertencem ao mesmo grupo de indivíduos sob o qual o modelo final vai realizar previsões?\n",
        "\n",
        "Em geral, um bom entendimento dos seus dados e uma análise exploratória pode ajudar a entender e evitar a maior parte das fontes de viéses. As soluções adotadas podem variar de problema para problema e dependem do que você está tentando prever."
      ]
    },
    {
      "cell_type": "markdown",
      "metadata": {
        "id": "OXR6gfq7HgZf"
      },
      "source": [
        "### 3.2. Balanceamento de Classe\n",
        "Infelizmente, em problemas de classificação, nem sempre as classes aparecem em amostras igualmente distribuídas. Se estamos tentando prever algo como fraudes, é esperado que tais casos sejam muito mais raros que os genuínos (não-fraudes). Isto é um problema, pois a maior parte dos algoritmos de Aprendizado de Máquina trabalha melhor quando o número de observações em cada classe é aproximadamente igual. Isto se deve ao impacto do desbalanceamento na função de perda/custo do modelo e sua métrica de avaliação. Clique na imagem do vídeo abaixo para uma explicação mais detalhada.\n",
        "\n",
        "[![img](http://img.youtube.com/vi/XeJZbCT84Js/0.jpg)](https://www.youtube.com/watch?v=XeJZbCT84Js)\n",
        "\n",
        "Portanto, nestes casos, é importante atentar-se à sua métrica de avaliação, usando o F1-Score ou AUC, por exemplo. Para obter um dataset mais balanceado, existem algumas técnicas possíveis como: subamostragem, ou undersampling (amostrar um de cada N pontos da classe majoritária para treino do modelo); sobreamostragem, ou oversampling (replicar as observações da classe minoritária); SMOTE (Synthetic Minority Oversampling Technique) em que pontos artificiais são criados no espaço dos atributos."
      ]
    },
    {
      "cell_type": "markdown",
      "metadata": {
        "id": "HgF4hVu_HgZg"
      },
      "source": [
        "### 3.3. Número de Features e Observações\n",
        "Para qualquer problema de aprendizado supervisionado, existe um certo limiar para a razão entre o número de features/variáveis e observações para que o modelo possa ter uma boa performance. Essa razão depende tanto da qualidade dos dados quanto do modelo usado.\n",
        "\n",
        "Caso esta condição não seja satisfeita, deve-se descartar algumas das variáveis usando algum tipo de técnica de seleção de features (feature selection), usar modelos que lidam bem com uma quantidade grande de features, ou simplesmente obter mais observações. Para o dataset de câncer de mama, a razão obervações/features é de aproximadamente 22 (o que é satisfatório para os modelos desenvolvidos aqui).\n",
        "\n",
        "Embora mais dados seja sempre melhor, as vezes não é possível ou não vale a pena obter mais. Além disso, ao invés de coletar e rotular os dados manualmente, existem plataformas como o [Amazon Mechanical Turk](https://www.mturk.com) ou técnicas como síntese de dados artificiais (artificial data synthesis) que podem ser úteis.\n"
      ]
    },
    {
      "cell_type": "markdown",
      "metadata": {
        "id": "uAa4rhcza-j3"
      },
      "source": [
        "### 3.4. Sobreposição de Tempo e Vazamento de Dados\n",
        "Vazamento de dados é um grande problema ao construir modelos preditivos. Isto ocorre quando informação fora do dataset de treino é acidentalmente alimentado na fase de aprendizado (como a variável que está sendo prevista). Como os modelos de classificação são criados para fazer previsões sobre dados não vistos, não disponíveis ou futuros, deve-se garantir que estes não sejam fornecidos como entrada para as features do modelo no treino.\n",
        "\n",
        "Além disso, quando suas variáveis são dependentes no tempo, outro problema comum ocorre quando existe sobreposição. Isto é, o intervalo de tempo usado para calcular as features possui intersecção com o intervalo de tempo usado para calcular a variável resposta (target). Neste caso, o modelo não é causal, pois depende de informações sobre o futuro no momento da previsão.\n",
        "\n",
        "Uma evidência comum que pode indicar a existência de algum tipo de vazamento de dados ou sobreposição de tempo no modelo é o overfitting."
      ]
    },
    {
      "cell_type": "markdown",
      "metadata": {
        "id": "o7-J277Sa-j4"
      },
      "source": [
        "#### Exercício 3.1\n",
        "\n",
        "As classes estão balanceadas no dataset? Use a célula abaixo para ajudá-lo a responder a questão."
      ]
    },
    {
      "cell_type": "code",
      "metadata": {
        "colab": {
          "base_uri": "https://localhost:8080/"
        },
        "id": "cHA-IzD0S3GD",
        "outputId": "43123e47-b257-4091-9e38-c62b27796e5d"
      },
      "source": [
        "cancer.target_names"
      ],
      "execution_count": 3,
      "outputs": [
        {
          "output_type": "execute_result",
          "data": {
            "text/plain": [
              "array(['malignant', 'benign'], dtype='<U9')"
            ]
          },
          "metadata": {
            "tags": []
          },
          "execution_count": 3
        }
      ]
    },
    {
      "cell_type": "code",
      "metadata": {
        "exid": "3.1",
        "id": "DMp-wNxCa-j5",
        "colab": {
          "base_uri": "https://localhost:8080/"
        },
        "outputId": "fe361d35-7030-4ca2-9625-03b812eb7fe2"
      },
      "source": [
        "ntotal = cancer.target.size\n",
        "\n",
        "#Avalie o percentual das classes 0 e 1 \n",
        "perc_0 = cancer.target[cancer.target == 0].size / ntotal\n",
        "perc_1 = cancer.target[cancer.target == 1].size / ntotal\n",
        "\n",
        "print(perc_0)\n",
        "print(perc_1)"
      ],
      "execution_count": 4,
      "outputs": [
        {
          "output_type": "stream",
          "text": [
            "0.37258347978910367\n",
            "0.6274165202108963\n"
          ],
          "name": "stdout"
        }
      ]
    },
    {
      "cell_type": "markdown",
      "metadata": {
        "id": "glPRjWxESjqS"
      },
      "source": [
        "As classes não estão totalmente balanceadas, mas também não estão exageradamente desiguais: 37.26% das amostras estão classificadas como 0 (malignant), enquanto 62.74% estão classificadas como 1 (benign)."
      ]
    },
    {
      "cell_type": "markdown",
      "metadata": {
        "id": "TKS2ntzza-j9"
      },
      "source": [
        "<a id=\"split\"></a>\n",
        "## 4. Split Treino-Validação-Teste"
      ]
    },
    {
      "cell_type": "markdown",
      "metadata": {
        "id": "CKWqZqgLa-j-"
      },
      "source": [
        "### 4.1. Train, validation and test sets\n",
        "\n",
        "Ao criar um modelo de aprendizado supervisionado, nosso objetivo é aprender padrões em dados históricos para que estes possam ser aplicados para prever dados futuros e não disponíveis no momento. O problema nisto é que se torna difícil avaliar o quão bom o modelo vai performar com dados indisponíveis.\n",
        "\n",
        "Desta forma, é necessário também usar os dados históricos para avaliar o modelo. Isto traz outro problema visto que é fácil para um modelo realizar previsões sobre dados já vistos no treino. Portanto, relembrando as discussões da primeira aula, é necessário separar os registros em diferentes grupos. São eles conjunto de treino, validação e teste.\n",
        "\n",
        "* **Conjunto de treino**: as amostras usadas para realizar o fit do modelo. Ele aprende os padrões destes dados e ajusta seus parâmetros de acordo.\n",
        "* **Conjunto de validação**: as amostras usadas para providenciar uma avaliação não enviesada de um modelo que foi treinado usando o conjunto de treino. A avaliação se torna enviesada à medida que as caracteristicas do dataset de validação é incorporado na configuração do modelo.\n",
        "* **Conjunto de teste**: as amostras usadas para providenciar uma avaliação não enviesada do modelo final treinado no dataset de treino. Também chamado de *holdout set*.\n",
        "\n",
        "O dataset de treino é de mais fácil compreensão. Mas por que usar conjuntos de validação e teste?\n",
        "\n",
        "A resposta se resume aos hiperparâmetros. Uma vez que cada algoritmo (k-NN, regressão logística, árvores de decisão, etc) possui vários deles, deve-se testar diferentes combinações de seus valores para obter o melhor modelo possível. Para fazer isso, treina-se modelos com diferentes combinações dos hiperparâmetros no conjunto de treino e então eles são avaliados no conjunto de validação, escolhendo a combinação que resulta na melhor métrica. Consequentemente, o modelo final fica enviesado pelos dados do conjunto de validação, mesmo que eles não tenham sido usados na fase de treino propriamente dita. Desta forma, faz-se necessário a separação de um terceiro conjunto de dados, o de teste, sob o qual o modelo deve ser novamente avaliado para que uma métrica não enviesada da performance do modelo possa ser estabelecida."
      ]
    },
    {
      "cell_type": "markdown",
      "metadata": {
        "id": "_6JFzme_a-j_"
      },
      "source": [
        "### 4.2. Validação Cruzada (Cross Validation)\n",
        "\n",
        "Uma questão que pode ser levantada é sobre a quantidade de observações a ser colocada em cada conjunto. O que ocorre caso deixemos uma parte importante dos dados fora do dataset de treino de forma que o modelo não aprenda padrões úteis? Para ajudar nisso, existe a chamada validação cruzada (cross validation).\n",
        "\n",
        "**Cross validation** é uma técnica de split de treino e validação que assegura que cada observação é usada tanto para o treino quanto para a validação. Existe mais de uma maneira de realizá-la que será descrita abaixo.\n",
        "\n",
        "Atenção: a validação cruzada trata apenas da separação entre os conjuntos de treino e validação e assume que já exista um conjunto isolado de observações o dataset de teste."
      ]
    },
    {
      "cell_type": "markdown",
      "metadata": {
        "id": "cCIK-mMh0uiy"
      },
      "source": [
        "#### 4.2.1. K-Folds\n",
        "O método K-Folds consiste em dividir todas as obsverções em $k$ grupos (folds) aleatórios, treinar o modelo em $k-1$ grupos, validar no $k$-ésimo grupo, repetir isto até que todos os grupos tenham sido utilizados como validação e, finalmente, calcular a média da métrica de avaliação sobre todos os $k$ modelos treinados. Isto corresponde à avaliação final do seu modelo.\n",
        "\n",
        "A imagem abaixo mostra um exemplo de uma validação cruzada com 10 grupos (folds). A métrica de avaliação, neste caso, a acurácia, é avaliada 10 vezes para cada grupo e então tirado a média.\n",
        "\n",
        "![kfold](https://qph.fs.quoracdn.net/main-qimg-29c6f21ce298acfa228f37448f844ab8)"
      ]
    },
    {
      "cell_type": "markdown",
      "metadata": {
        "id": "WiSYWe3g0yjg"
      },
      "source": [
        "#### 4.2.2. K-Folds Estratificado\n",
        "K-Folds estratificado é similar ao K-Folds, com a distinção de que cada grupo tem a mesma distribuição da variável resposta. Isto é importante para problemas de classificação, onde a proporção das classes não é sempre igual. Suponha, por exemplo, que o dataset possua uma classe minoritária. É possível que todas as observações dela se concentrem em apenas um grupo, tornando impossível o processo de aprendizado do modelo.\n",
        "\n",
        "A imagem abaixo ilustra melhor o processo.\n",
        "\n",
        "<img src=\"https://s3-ap-south-1.amazonaws.com/av-blog-media/wp-content/uploads/2015/11/skfold.png\" alt=\"stratifiedkfold\" style=\"width: 600px;\"/>\n",
        "\n",
        "Em resumo, o dataset de treino é utilizado para realizar o fit do modelo, o dataset de validação é utilizado para avaliar diferentes modelos com hiperparâmetros diferentes e selecionar o melhor, e o dataset de teste é usado para providenciar a métrica de avaliação final não enviesada.\n",
        "\n",
        "A imagem abaixo resume o processo.\n",
        "\n",
        "![sets](https://sebastianraschka.com/images/faq/evaluate-a-model/evaluate_overview.png)"
      ]
    },
    {
      "cell_type": "markdown",
      "metadata": {
        "id": "DdApfy1ra-kA"
      },
      "source": [
        "### 4.3. Código em Python"
      ]
    },
    {
      "cell_type": "markdown",
      "metadata": {
        "id": "AdipCyGSa-kB"
      },
      "source": [
        "#### 4.3.1. Split de Treino e Teste\n",
        "Primeiramente separamos o conjunto de teste."
      ]
    },
    {
      "cell_type": "code",
      "metadata": {
        "colab": {
          "base_uri": "https://localhost:8080/"
        },
        "id": "8FtV4-yVa-kC",
        "outputId": "1a0f166f-537e-4a84-b702-cd35cdd21e3f"
      },
      "source": [
        "# Importar train_test_split\n",
        "from sklearn.model_selection import train_test_split\n",
        "\n",
        "# Setar seed para obter resultados reproduziveis\n",
        "seed = 10\n",
        "\n",
        "# Usar train_test_split para criar o conjunto de teste\n",
        "# random_state é o estado inicial usado para geração de números aleatórios\n",
        "# test_size define o tamanho do conjunto de teste\n",
        "# stratify é usado para garantir a mesma proporção da variável resposta nos conjuntos\n",
        "X_training, X_test, y_training, y_test = train_test_split(X, y, random_state=seed, test_size=0.25, stratify=y)\n",
        "\n",
        "print(\"Test set X\", X_test.shape)\n",
        "print(\"Test set y\", y_test.shape)"
      ],
      "execution_count": 5,
      "outputs": [
        {
          "output_type": "stream",
          "text": [
            "Test set X (143, 30)\n",
            "Test set y (143,)\n"
          ],
          "name": "stdout"
        }
      ]
    },
    {
      "cell_type": "markdown",
      "metadata": {
        "id": "FCMQ_FOMa-kH"
      },
      "source": [
        "#### 4.3.2. Split de Treino e Validação\n",
        "Então dividimos as obsevações resultantes do treino para separar novamente no conjunto de validação."
      ]
    },
    {
      "cell_type": "code",
      "metadata": {
        "colab": {
          "base_uri": "https://localhost:8080/"
        },
        "id": "6M97iIc3a-kI",
        "outputId": "dcd9ee34-0b30-4685-be93-325155552be6"
      },
      "source": [
        "# Mesmo procedimento, mas para o conjunto de trieno resultante\n",
        "X_train, X_val, y_train, y_val = train_test_split(X_training, y_training, random_state=seed,\n",
        "                                                  test_size=0.33, stratify=y_training)\n",
        "\n",
        "print(\"Train set X\", X_train.shape)\n",
        "print(\"Train set y\", y_train.shape)\n",
        "print(\"Validation set X\", X_val.shape)\n",
        "print(\"Validation set y\", y_val.shape)"
      ],
      "execution_count": 6,
      "outputs": [
        {
          "output_type": "stream",
          "text": [
            "Train set X (285, 30)\n",
            "Train set y (285,)\n",
            "Validation set X (141, 30)\n",
            "Validation set y (141,)\n"
          ],
          "name": "stdout"
        }
      ]
    },
    {
      "cell_type": "markdown",
      "metadata": {
        "id": "_g3mqVToa-kN"
      },
      "source": [
        "Usando a imagem abaixo como referência, em cada uma das variáveis, temos:\n",
        "\n",
        "- **X_test** e **y_test**: conjunto de teste (vermelho)\n",
        "- **X_training** e **y_training**: conjunto auxiliar de treino (verde superior) para o método de holdout (com validação cruzada)\n",
        "- **X_train** e **y_train**: conjunto de treino (verde inferior) para treino sem validação cruzada\n",
        "- **X_val** e **y_val**: conjunto de validação (amarelo) para avaliar os modelos sem validação cruzada\n",
        "\n",
        "<img src=\"https://cdn-images-1.medium.com/max/1200/1*4G__SV580CxFj78o9yUXuQ.png\" alt=\"cv\" style=\"width: 600px;\"/>"
      ]
    },
    {
      "cell_type": "markdown",
      "metadata": {
        "id": "oR1BIzAWa-kO"
      },
      "source": [
        "<a id=\"modeling\"></a>\n",
        "## 5. Modelagem"
      ]
    },
    {
      "cell_type": "markdown",
      "metadata": {
        "id": "VRvVVj6ya-kP"
      },
      "source": [
        "### 5.1. Árvores de Decisão (Decision Trees - DTs)\n",
        "Nesta subseção, vamos relembrar a teoria por trás das árvores de decisão e entrar um pouco mais em detalhes para entendermos seu funcionamento. Em seguida, utilizaremos este algoritmo da biblioteca ```scikit-learn``` para prever se o tumor é maligno ou não."
      ]
    },
    {
      "cell_type": "markdown",
      "metadata": {
        "id": "ImK_Cy8Aa-kP"
      },
      "source": [
        "#### 5.1.1. Teoria\n",
        "\n",
        "Relembrando os conceitos apresentados anteriormente, Árvores de Decisão são compostas de uma estrutura similar a árvores que auxiliam no processo de decisão (tanto para classificação quanto para regressão). Essencialmente, esse método aprende uma hierarquia de ```if/else``` que levam a uma decisão, mantendo o conjunto de perguntas o menor possível.\n",
        "\n",
        "No video a seguir, exemplifica-se o processo de criação de uma Árvore de Decisão"
      ]
    },
    {
      "cell_type": "markdown",
      "metadata": {
        "id": "VnaOsyN35Jsz"
      },
      "source": [
        "##### Exemplo 5.1 \n",
        "\n",
        "[![IMAGE ALT TEXT](http://img.youtube.com/vi/eKD5gxPPeY0/0.jpg)](http://www.youtube.com/watch?v=eKD5gxPPeY0 \"Decision Tree 1: how it works\")"
      ]
    },
    {
      "cell_type": "markdown",
      "metadata": {
        "id": "krgU-eiYa-kT"
      },
      "source": [
        "Vejamos abaixo a árvore de decisão final do vídeo:\n",
        "\n",
        "<img src=https://cdn-images-1.medium.com/max/1600/0*9W0mx4ffV2qhNnm0.jpg width='500'/>\n",
        "\n",
        "O resultado final é uma árvore com *nós de decisão* e *nós folha*. Um nó de decisão (como *Outlook*) possui uma ou mais ramificações (como Sunny, Overcast e Rain). Um nó folha (como Yes ou No) representa uma classificação ou decisão. O nó de decisão no topo da árvore corresponde ao melhor preditor e é chamado de nó raíz.\n",
        "\n",
        "Para descrever o problema na terminologia de aprendizado de máquina, poderíamos dizer que o modelo distingue entre duas classes (jogar ou não jogar - yes ou no) usando três features/variáveis: outlook, humidity e wind.\n",
        "\n",
        "O importante aqui é entender como o algoritmo funciona. Porém construí-lo manualmente seria difícil e perderia todo o sentido do aprendizado de máquina automático.\n",
        "\n",
        "Como pode-se imaginar, existem diferentes algoritmos para construir uma árvore de decisão, porém os principais seguem a mesma linha de raciocínio. Se você notar do vídeo, árvores de decisão utilizam a estratégia dividir para conquistar, pois ele divide o problema (dados de entrada) em pequenos outros problemas (subconjuntos de dados) recursivamente até atingir uma condição de parada e ramificar nos nós de decisão. Os algoritimos mais comuns são ```CART``` e ```ID3```.\n",
        "\n",
        ">**Condições de Parada**: uma árvore de decisão (DT) vai parar suas chamadas recursivas caso o nó atual atinja algum dos critérios de parada do modelo, definidos pelos seus hiperparâmetros. Alguns critérios mais conhecidos são, por exemplo, o ganho de informação (explicado em maior detalhe adiante), a profundidade da árvore e a quantidade de elementos nos nós\n",
        "\n",
        "Mas como o algoritmo escolhe quais features serão as primeiras a serem usadas? O critério mais comum que o algoritmo utiliza para selecionar qual feature será usada é baseada na **impureza** gerada ao selecionar a variável. Existem duas maneiras principais de se medir a impureza: ganho de informação (information gain, ou IG) e impureza Gini. Ao passo que o algoritmo ```CART``` usa o Gini, o ```ID3``` usa IG.\n",
        "\n",
        "A medida Gini depende de uma métrica chamada **Gini Index**, ou índice de Gini, calculada da seguinte maneira:\n",
        "\n",
        "$$\\textit{Gini_index}(t) = 1 - \\sum_{j=1}^{c}p_j(t)^2$$\n",
        "\n",
        "onde $c$ é o número de classes e $p_j$ é a fração de dados de classe $j$ no conjunto no nó de decisão $t$. Ele varia de 0 a 0.5 para tarefas de classificação binária, onde quanto menos melhor (menos impuro).\n",
        "\n",
        "A impureza de Gini é então calculado como a média ponderada dos índices dos $k$ nós criados pela divisão:\n",
        "\n",
        "$$\\textit{Gini_average} = \\sum_{t=1}^{k}p(t) \\; Gini\\_index(t)$$\n",
        "\n",
        "A medida **IG** depende de outra métrica chamada **entropia (H)** e pode ser obtida a partir das fórmulas abaixo:\n",
        "\n",
        "$$\\textit{Entropia} = H(S) = -\\sum_{j=1}^{c}p_j\\log p_j$$\n",
        "\n",
        "e\n",
        "\n",
        "$$\\textit{Information Gain} = IG(A,S) = H(S) -\\sum_{t\\epsilon T}p(t)H(t)$$\n",
        "\n",
        "onde $H(S)$ é a entropia do conjunto $S$, $T$ são os subconjuntos criados a partir da separação do conjunto $S$ pelo atributo $A$, $p(t)$ é a proporção do número de elementos em $t$ em relação ao número de elementos no conjunto $S$ e $H(t)$ é a entropia do subconjunto $t$. Ele varia de 0 a 1, onde quanto maior, melhor (maior ganho de informação).\n",
        "\n",
        "Independente do critério selecionado para o algoritmo, a DT pode ser generalizada como:\n",
        "\n",
        "```\n",
        "1. Calcular a impureza (entropia ou gini index) para o conjunto de dados\n",
        "2. Para cada atributo/feature:\n",
        "       1. Calcular a Entropia ou Gini_index para todos os valores categóricos\n",
        "       2. Obter a média da entropia de informação para o atributo corrente\n",
        "       3. Calcular IG ou Gini_average\n",
        "3. Selecionar o melhor atributo baseado no IG ou Gini_average.\n",
        "4. Repetir até atingir uma condição de parada.\n",
        "```\n",
        "\n",
        "Isto é basicamente como uma DT é implementada em Python. Como veremos nas próximas subseções, o ```scikit-learn``` fornece ambos os critérios Gini e IG como parâmetro da função ```DecisionTreeClassifier```."
      ]
    },
    {
      "cell_type": "markdown",
      "metadata": {
        "id": "eF9heQHja-kU"
      },
      "source": [
        "#### 5.1.2. Código em Python e Avaliação\n",
        "\n",
        "Usaremos o ```DecisionTreeClassifier``` do ```scikit-learn``` para construir nossos modelos de árvore.\n",
        "\n",
        "Primeiro, vamos importar tudo que precisamos."
      ]
    },
    {
      "cell_type": "code",
      "metadata": {
        "id": "fgjaYxFwa-kV"
      },
      "source": [
        "from sklearn.tree import DecisionTreeClassifier\n",
        "from sklearn.metrics import classification_report, confusion_matrix, roc_auc_score\n",
        "from sklearn.model_selection import cross_val_score \n",
        "\n",
        "%matplotlib inline\n",
        "import matplotlib.pyplot as plt\n",
        "import pandas as pd\n",
        "import numpy as np"
      ],
      "execution_count": 7,
      "outputs": []
    },
    {
      "cell_type": "markdown",
      "metadata": {
        "id": "YzpPTv4ya-kZ"
      },
      "source": [
        "Lembre que já realizamos o split dos diferentes conjuntos de dados. Então basta criarmos nosso modelo de árvore.\n",
        "\n",
        "As etapas básicas são:\n",
        "\n",
        "- Criar um objeto de árvore de decisão com hiperparâmetros definidos. Como a tarefa é de classificação, usaremos o ```DecisionTreeClassifier```. Você pode ver todos os argumentos disponíveis para o método [aqui](https://scikit-learn.org/stable/modules/generated/sklearn.tree.DecisionTreeClassifier.html).\n",
        "- Usar o método ```.fit()``` para treinar.\n",
        "- Usar o método ```.predict()``` para usar o modelo fitado para previsão.\n",
        "\n",
        "Alguns hiperparâmetros importantes aqui são:\n",
        "- **max_depth(default=None)**: A profundidade máxima da árvore. Se None, então todos os nós serão expandidos até que as folhas sejam puras ou até que todas as folhas contenham apenas min_samples_split amostras\n",
        "- **min_samples_split(default=2)**: O número mínimo de amostras necessárias para ramificar um nó interno\n",
        "- **min_samples_leaf(default=1)**: O número mínimo de amostras necessárias para ser um nó folha\n",
        "- **max_features(default=None)**: O número de features a ser considerado para realizar a melhor quebra\n",
        "- **random_state(default=None)**: semente usada para o gerador de números aleatórios\n",
        "\n",
        "Para começar, vamos construir o modelo com os valores padrões dos hiperparâmetros."
      ]
    },
    {
      "cell_type": "code",
      "metadata": {
        "colab": {
          "base_uri": "https://localhost:8080/",
          "height": 517
        },
        "id": "OwXxJEi1a-ka",
        "outputId": "777a02cf-7000-4560-c6b1-7971ad97ce5c"
      },
      "source": [
        "# DECISION TREE MODEL 1\n",
        "\n",
        "# Gerar um objeto árvore usando uma semente para resultados reproduzíveis\n",
        "tree_1 = DecisionTreeClassifier(random_state=seed)\n",
        "\n",
        "# Fitar o modelo usando o dataset de treino\n",
        "tree_1.fit(X_train, y_train)\n",
        "\n",
        "# Prever no dataset de validação\n",
        "y_pred = tree_1.predict(X_val)\n",
        "\n",
        "# Calcular e printar métricas\n",
        "print(\"Acurácia no conjunto de treino: {:.3f}\".format(tree_1.score(X_train, y_train)))\n",
        "print(\"Acurácia no conjunto de validação: {:.3f}\".format(tree_1.score(X_val, y_val)))\n",
        "print(classification_report(y_val, y_pred))\n",
        "\n",
        "print(confusion_matrix(y_val, y_pred))\n",
        "print(\"Área sob a curva ROC: {:.3f}\".format(roc_auc_score(y_val, y_pred)))\n",
        "\n",
        "# Plotar importância das features\n",
        "# Avalia quão importante é cada variável para as decisões que a árvore fornece\n",
        "# Corresponde a um número entre 0 e 1 para cada feature, onde 0 significa não usada e 1\n",
        "# \"perfeitamente prevê a resposta\". A importância das features sempre somam 1\n",
        "def plot_feature_importances_cancer(model):\n",
        "    n_features = cancer.data.shape[1]\n",
        "    plt.barh(range(n_features), model.feature_importances_, align='center')\n",
        "    plt.yticks(np.arange(n_features), cancer.feature_names)\n",
        "    plt.xlabel(\"Feature importance\")\n",
        "    plt.ylabel(\"Feature\")\n",
        "    plt.ylim(-1, n_features)\n",
        "    \n",
        "plot_feature_importances_cancer(tree_1)"
      ],
      "execution_count": 8,
      "outputs": [
        {
          "output_type": "stream",
          "text": [
            "Acurácia no conjunto de treino: 1.000\n",
            "Acurácia no conjunto de validação: 0.929\n",
            "              precision    recall  f1-score   support\n",
            "\n",
            "           0       0.88      0.94      0.91        53\n",
            "           1       0.96      0.92      0.94        88\n",
            "\n",
            "    accuracy                           0.93       141\n",
            "   macro avg       0.92      0.93      0.93       141\n",
            "weighted avg       0.93      0.93      0.93       141\n",
            "\n",
            "[[50  3]\n",
            " [ 7 81]]\n",
            "Área sob a curva ROC: 0.932\n"
          ],
          "name": "stdout"
        },
        {
          "output_type": "display_data",
          "data": {
            "image/png": "[encoded data removed]",
            "text/plain": [
              "<Figure size 432x288 with 1 Axes>"
            ]
          },
          "metadata": {
            "tags": [],
            "needs_background": "light"
          }
        }
      ]
    },
    {
      "cell_type": "markdown",
      "metadata": {
        "id": "ZGkKdAULa-kd"
      },
      "source": [
        "Já de cara, temos uma acurácia de 100% no dataset de treino e 92,3% no de validação, com um AUC de 0,932! Se você lembrar das aulas anteriores, vai perceber que isto é um claro indicativo de *overfitting*. Isto ocorre porque os valores padrões dos hiperparâmetros não limitam a árvore de crescer indefinidamente, fazendo com que o modelo consiga memorizar perfeitamente todos os pontos do conjunto de treino.\n",
        "\n",
        "Para evitar isto, podemos usar uma técnica chamada **pre-prunning**, que faz com que a árvore pare de crescer indefinidamente. Existem diferentes maneiras de realizar isto, mas a principal é de limitar o hiperparâmetro ```max_depth```, isto é limitar a profundidade máxima que a árvore pode alcançar.\n",
        "\n",
        "Vamos construir um outro modelo, mas agora setando ```max_depth = 4```, o que faz com que apenas três questões possam ser dispostas sucessivamente."
      ]
    },
    {
      "cell_type": "code",
      "metadata": {
        "colab": {
          "base_uri": "https://localhost:8080/",
          "height": 517
        },
        "id": "c6zFUyUOa-ke",
        "outputId": "c34b4e06-a2ac-4efc-8095-48df9147c24b"
      },
      "source": [
        "# DECISION TREE MODEL 2\n",
        "\n",
        "# Gerar um objeto árvore usando uma semente para resultados reproduzíveis\n",
        "tree_2 = DecisionTreeClassifier(random_state=seed, max_depth=4)\n",
        "\n",
        "# Fitar o modelo usando o dataset de treino\n",
        "tree_2.fit(X_train,y_train)\n",
        "\n",
        "# Prever no dataset de validação\n",
        "y_pred = tree_2.predict(X_val)\n",
        "\n",
        "# Calcular e printar métricas\n",
        "print(\"Acurácia no conjunto de treino: {:.3f}\".format(tree_2.score(X_train, y_train)))\n",
        "print(\"Acurácia no conjunto de validação: {:.3f}\".format(tree_2.score(X_val, y_val)))\n",
        "print(classification_report(y_val, y_pred))\n",
        "print(confusion_matrix(y_val, y_pred))\n",
        "print(\"Área sob a curva ROC: {:.3f}\".format(roc_auc_score(y_val, y_pred)))\n",
        "\n",
        "# Plotar importância das variáveis\n",
        "plot_feature_importances_cancer(tree_2)"
      ],
      "execution_count": 9,
      "outputs": [
        {
          "output_type": "stream",
          "text": [
            "Acurácia no conjunto de treino: 0.986\n",
            "Acurácia no conjunto de validação: 0.929\n",
            "              precision    recall  f1-score   support\n",
            "\n",
            "           0       0.89      0.92      0.91        53\n",
            "           1       0.95      0.93      0.94        88\n",
            "\n",
            "    accuracy                           0.93       141\n",
            "   macro avg       0.92      0.93      0.92       141\n",
            "weighted avg       0.93      0.93      0.93       141\n",
            "\n",
            "[[49  4]\n",
            " [ 6 82]]\n",
            "Área sob a curva ROC: 0.928\n"
          ],
          "name": "stdout"
        },
        {
          "output_type": "display_data",
          "data": {
            "image/png": "[encoded data removed]",
            "text/plain": [
              "<Figure size 432x288 with 1 Axes>"
            ]
          },
          "metadata": {
            "tags": [],
            "needs_background": "light"
          }
        }
      ]
    },
    {
      "cell_type": "markdown",
      "metadata": {
        "id": "MN4oxhVza-ki"
      },
      "source": [
        "Vemos que o novo conjunto de hiperparâmetros diminui tanto a acurácia do conjunto de treino quanto de validação. Porém a diferença notável é que ambos estão mais próximos, indicando um modelo menos sobreajustado (overfitted), ou seja, a performance em dados já vistos é um pouco mais similar à performance em dados novos.\n",
        "\n",
        "É possível melhorar ainda mais a performance? Podemos manualmente tentar diferentes combinações e escolher aquela que garante a melhor métrica. Porém isto é lento e não escalável. Para ajudar nesta tarefa, existem técnicas automáticas como o *grid-search* (busca em grade) para encontrar o melhor conjunto de valores de hiperparâmetros."
      ]
    },
    {
      "cell_type": "code",
      "metadata": {
        "colab": {
          "base_uri": "https://localhost:8080/"
        },
        "id": "hm4bR0Eua-kj",
        "outputId": "f3e34adf-92d3-44eb-dc7a-3d73a3f3fb18"
      },
      "source": [
        "# DECISION TREE MODEL 3 (com GridSearch)\n",
        "\n",
        "from sklearn.model_selection import StratifiedKFold\n",
        "from sklearn.model_selection import GridSearchCV\n",
        "\n",
        "# Definir os possiveis valores para cada hiperparametro para serem explorados\n",
        "params = {'max_depth': [2, 3, 4, 5, 6, 7, 8, 9],\n",
        "          'min_samples_split': [2, 3, 4, 5, 6],\n",
        "          'min_samples_leaf': [1, 2, 3]}\n",
        "\n",
        "# Criar objeto com o DecisionTreeClassifier\n",
        "tree_3 = DecisionTreeClassifier(random_state=seed)\n",
        "\n",
        "# Criar objeto KFold com StratifiedKFold para validação cruzada\n",
        "skf = StratifiedKFold(n_splits=3, shuffle=True, random_state=seed)\n",
        "\n",
        "# Criar um objeto de grade de busca com GridSearchCV\n",
        "grid_search = GridSearchCV(tree_3, param_grid=params, scoring='roc_auc',\n",
        "                           cv=skf.split(X_training, y_training))\n",
        "\n",
        "# Treinar o modelo com o grid search\n",
        "grid_search.fit(X_training, y_training)\n",
        "\n",
        "# Printar a melhor combinação de hiperparâmetros\n",
        "print('Melhores hiperparâmetros:')\n",
        "print(grid_search.best_params_)"
      ],
      "execution_count": 10,
      "outputs": [
        {
          "output_type": "stream",
          "text": [
            "Melhores hiperparâmetros:\n",
            "{'max_depth': 4, 'min_samples_leaf': 3, 'min_samples_split': 2}\n"
          ],
          "name": "stdout"
        }
      ]
    },
    {
      "cell_type": "code",
      "metadata": {
        "colab": {
          "base_uri": "https://localhost:8080/",
          "height": 517
        },
        "id": "rTKcAC26a-kp",
        "scrolled": false,
        "outputId": "79deeed5-9c01-44fe-9674-2fdb6554b551"
      },
      "source": [
        "# Gera uma árvore com as melhores combinações de hiperparâmetros\n",
        "tree_3 = DecisionTreeClassifier(random_state=seed, max_depth=grid_search.best_params_['max_depth'],\n",
        "                                min_samples_split=grid_search.best_params_['min_samples_split'],\n",
        "                                min_samples_leaf=grid_search.best_params_['min_samples_leaf'])\n",
        "\n",
        "# Fita o modelo com o dataset de treino\n",
        "tree_3.fit(X_train, y_train)\n",
        "\n",
        "# Usa o modelo para prever o conjunto de validação\n",
        "y_pred = tree_3.predict(X_val)\n",
        "\n",
        "# Calcular e printar métricas\n",
        "print(\"Acurácia no conjunto de treino: {:.3f}\".format(tree_3.score(X_train, y_train)))\n",
        "print(\"Acurácia no conjunto de validação: {:.3f}\".format(tree_3.score(X_val, y_val)))\n",
        "print(classification_report(y_val, y_pred))\n",
        "print(confusion_matrix(y_val, y_pred))\n",
        "print(\"Área sob a curva ROC: {:.3f}\".format(roc_auc_score(y_val, y_pred)))\n",
        "\n",
        "# Plotar importância das variáveis\n",
        "plot_feature_importances_cancer(tree_3)"
      ],
      "execution_count": 11,
      "outputs": [
        {
          "output_type": "stream",
          "text": [
            "Acurácia no conjunto de treino: 0.972\n",
            "Acurácia no conjunto de validação: 0.943\n",
            "              precision    recall  f1-score   support\n",
            "\n",
            "           0       0.91      0.94      0.93        53\n",
            "           1       0.97      0.94      0.95        88\n",
            "\n",
            "    accuracy                           0.94       141\n",
            "   macro avg       0.94      0.94      0.94       141\n",
            "weighted avg       0.94      0.94      0.94       141\n",
            "\n",
            "[[50  3]\n",
            " [ 5 83]]\n",
            "Área sob a curva ROC: 0.943\n"
          ],
          "name": "stdout"
        },
        {
          "output_type": "display_data",
          "data": {
            "image/png": "[encoded data removed]",
            "text/plain": [
              "<Figure size 432x288 with 1 Axes>"
            ]
          },
          "metadata": {
            "tags": [],
            "needs_background": "light"
          }
        }
      ]
    },
    {
      "cell_type": "markdown",
      "metadata": {
        "id": "pWOfIMdIa-kv"
      },
      "source": [
        "Vemos que usando Grid Search, o hiperparâmetro ```min_samples_leaf``` foi alteardo de 1 para 3 automaticamente, o que proporcionou melhores métricas para o modelo final."
      ]
    },
    {
      "cell_type": "markdown",
      "metadata": {
        "id": "dS1PWUaoa-kw"
      },
      "source": [
        "### 5.2. Regressão Logística"
      ]
    },
    {
      "cell_type": "markdown",
      "metadata": {
        "id": "XSNAbQksa-kx"
      },
      "source": [
        "#### 5.2.1. Teoria\n",
        "Regressão logística é um método estatístico para prever classes binárias. O resultado do modelo pode ser interpretado como uma probabilidade da amostra corresponder à classe positiva.\n",
        "\n",
        "O modelo é uma ligeira modificação da regressão linear onde a variável resposta é categórica em natureza e o output é passado por uma função logística."
      ]
    },
    {
      "cell_type": "markdown",
      "metadata": {
        "id": "sqnDv_w5a-ky"
      },
      "source": [
        "**Equação da Regressão Logística**\n",
        "<center>\n",
        "$y = \\beta_{0} + \\beta_{1}x_{1} + \\beta_{2}x_{2}+ ... + \\beta_{n}x_{n}$\n",
        "</center>\n",
        "\n",
        "Onde $y$ é a variável dependente (ou resposta) e $x_1$, $x_2$ ... até $x_n$ são as variáveis independentes (ou explanatórias).\n",
        "\n",
        "<br>\n",
        "\n",
        "**Função Sigmoide/Logística**\n",
        "<center>\n",
        "$p = \\frac{1}{1+e^{-y}}$\n",
        "</center>\n",
        "\n",
        "Aplicando a função sigmoide na regressão linear, obtêm-se a regressão logística:\n",
        "<center>\n",
        "$p = \\frac{1}{1+e^{-(\\beta_{0} + \\beta_{1}x_{1} + \\beta_{2}x_{2}+ ... + \\beta_{n}x_{n})}}$\n",
        "</center>"
      ]
    },
    {
      "cell_type": "markdown",
      "metadata": {
        "id": "p51gQAzsa-kz"
      },
      "source": [
        "**Regressão Linear x Regressão Logística**\n",
        "\n",
        "Ao passo que a variável resposta da regressão linear não tem restrição de valores, a regressão logística tem sua saída limitada entre 0 e 1. Desta maneira, enquanto a primeira é interessante para problemas como previsão de preço de casas, a segunda é útil para problemas de classificação, onde a variável resposta pode ser interpretada como uma probabilidade (no caso do dataset em questão nesta aula, a probabilidade de que um câncer seja maligno). "
      ]
    },
    {
      "cell_type": "markdown",
      "metadata": {
        "id": "Xh3Fk8mta-k2"
      },
      "source": [
        "**Vantagens**\n",
        "\n",
        "Dado sua natureza simples e eficiente, não necessita poder computacional muito grande, é de fácil implementação, altamente interpretável e portanto é muito utilizada.\n",
        "\n",
        "**Desvantagens**\n",
        "\n",
        "Não consegue lidar com uma quantidade muito grande de variáveis categóricas. É vulnerável ao overfitting. Não lida com relações não-lineares entre variável explanatória e variável resposta. Não performa bem com features altamente correlacionadas entre si."
      ]
    },
    {
      "cell_type": "markdown",
      "metadata": {
        "id": "nFoQ_nBEa-k3"
      },
      "source": [
        "#### 5.2.2. Código em Python e Avaliação"
      ]
    },
    {
      "cell_type": "code",
      "metadata": {
        "colab": {
          "base_uri": "https://localhost:8080/"
        },
        "id": "HH-COILXa-k5",
        "outputId": "11ce09d1-d681-42e3-8f3e-083b97772779"
      },
      "source": [
        "from sklearn.linear_model import LogisticRegression\n",
        "\n",
        "# Treino do modelo\n",
        "# O otimizador 'liblinear' é utilizado para um conjunto de dados pequeno\n",
        "logreg = LogisticRegression(solver='liblinear').fit(X_train, y_train)\n",
        "print(\"Acurácia no conjunto de treino: {:.3f}\".format(logreg.score(X_train, y_train)))\n",
        "print(\"Acurácia no conjunto de validação: {:.3f}\".format(logreg.score(X_val, y_val)))"
      ],
      "execution_count": 12,
      "outputs": [
        {
          "output_type": "stream",
          "text": [
            "Acurácia no conjunto de treino: 0.958\n",
            "Acurácia no conjunto de validação: 0.950\n"
          ],
          "name": "stdout"
        }
      ]
    },
    {
      "cell_type": "markdown",
      "metadata": {
        "id": "22zCHrX2a-lA"
      },
      "source": [
        "Olhando para as métricas, a Regressão Logística performa muito bem para esta tarefa."
      ]
    },
    {
      "cell_type": "code",
      "metadata": {
        "colab": {
          "base_uri": "https://localhost:8080/"
        },
        "id": "KP3pJj_Oa-lB",
        "outputId": "88cee3b1-0fdc-4359-fb2d-6e5452cdc1a0"
      },
      "source": [
        "from sklearn.metrics import classification_report\n",
        "\n",
        "print(classification_report(y_val, logreg.predict(X_val)))"
      ],
      "execution_count": 13,
      "outputs": [
        {
          "output_type": "stream",
          "text": [
            "              precision    recall  f1-score   support\n",
            "\n",
            "           0       0.94      0.92      0.93        53\n",
            "           1       0.96      0.97      0.96        88\n",
            "\n",
            "    accuracy                           0.95       141\n",
            "   macro avg       0.95      0.95      0.95       141\n",
            "weighted avg       0.95      0.95      0.95       141\n",
            "\n"
          ],
          "name": "stdout"
        }
      ]
    },
    {
      "cell_type": "code",
      "metadata": {
        "colab": {
          "base_uri": "https://localhost:8080/",
          "height": 295
        },
        "id": "QFBUH4qNa-lE",
        "outputId": "5efdfba9-2fce-4633-ce0c-ceeccf6e17bb"
      },
      "source": [
        "from sklearn.metrics import roc_auc_score\n",
        "from sklearn.metrics import roc_curve\n",
        "import matplotlib.pyplot as plt\n",
        "%matplotlib inline\n",
        "\n",
        "logit_roc_auc = roc_auc_score(y_val, logreg.predict(X_val))\n",
        "fpr, tpr, thresholds = roc_curve(y_val, logreg.predict_proba(X_val)[:,1])\n",
        "plt.figure()\n",
        "plt.plot(fpr, tpr, label='Regressão Logística (área = %0.2f)' % logit_roc_auc)\n",
        "plt.plot([0, 1], [0, 1],'r--')\n",
        "plt.xlabel('Taxa de Falsos Positivos')\n",
        "plt.ylabel('Taxa de Verdadeiros Positivos')\n",
        "plt.title('Curva ROC')\n",
        "plt.legend(loc=\"lower right\")\n",
        "plt.show()"
      ],
      "execution_count": 14,
      "outputs": [
        {
          "output_type": "display_data",
          "data": {
            "image/png": "[encoded data removed]",
            "text/plain": [
              "<Figure size 432x288 with 1 Axes>"
            ]
          },
          "metadata": {
            "tags": [],
            "needs_background": "light"
          }
        }
      ]
    },
    {
      "cell_type": "markdown",
      "metadata": {
        "id": "O20Hww2fa-lJ"
      },
      "source": [
        "Regularização é um processo de adição de informação (penalidade) em funções de custo/perda de forma a evitar o overfitting na aprendizagem do modelo. Na regressão logística, o hiperparâmetro que controla a força da regularização é chamado C, e valores maiores correspondem a menos regularização.\n",
        "\n",
        "Em outras palavras, quando se usa altos valores do hiperparâmetro C, a regressão logística tenta fitar o dataset de treino o melhor possível, independente da magnitude que seus parâmetros adquiram; já com valores baixos de C, o modelo é penalizado por valores altos de parâmetros aprendidos."
      ]
    },
    {
      "cell_type": "markdown",
      "metadata": {
        "id": "NlGNA-zza-lK"
      },
      "source": [
        "<center>\n",
        "\n",
        "![alt](https://cdn.analyticsvidhya.com/wp-content/uploads/2017/06/Qc281.jpg)\n",
        "\n",
        "\n",
        "Limiares de decisão para diferentes valores de C\n",
        "</center>"
      ]
    },
    {
      "cell_type": "markdown",
      "metadata": {
        "id": "6yUzHmH8a-lK"
      },
      "source": [
        "A imagem à esquerda corresponde ao limiar de decisão (conjunto de pontos onde o modelo indica uma probabilidade igual de ser tanto da classe positiva quanto da negativa) do modelo ao ser treinado com uma alta regularização (portanto, um valor baixo de C). É possível ver um underfitting uma vez que o modelo não é capaz de captar o padrão curvo das amostras positivas no espaço das variáveis, resultando em várias previsões erradas.\n",
        "\n",
        "A imagem da direita corresponde ao limiar de decisão do modelo ao ser treinado com uma baixa regularização (portanto, um alto valor de C). Neste caso, o overfitting ocorre claramente, pois o modelo tenta delinear perfeitamente todos os pontos, sendo sujeito ao ruído e variância dos dados."
      ]
    },
    {
      "cell_type": "markdown",
      "metadata": {
        "id": "zacj335Ca-lL"
      },
      "source": [
        "O valor padrão de C=1 já fornece uma boa performance com uma acurácia de aproximadamente 95% em ambos os conjuntos de treino e validação. Vamos verificar o comportamento do modelo ao alterar este hiperparâmetro."
      ]
    },
    {
      "cell_type": "code",
      "metadata": {
        "colab": {
          "base_uri": "https://localhost:8080/"
        },
        "id": "EhUFFgi6a-lM",
        "outputId": "2bc8abca-274c-43b2-fc9c-c5b3d1f582b1"
      },
      "source": [
        "logreg10 = LogisticRegression(C=100).fit(X_train, y_train)\n",
        "print(\"Acurácia no conjunto de treino: {:.3f}\".format(logreg10.score(X_train, y_train)))\n",
        "print(\"Acurácia no conjunto de validação: {:.3f}\".format(logreg10.score(X_val, y_val)))"
      ],
      "execution_count": 15,
      "outputs": [
        {
          "output_type": "stream",
          "text": [
            "Acurácia no conjunto de treino: 0.951\n",
            "Acurácia no conjunto de validação: 0.957\n"
          ],
          "name": "stdout"
        },
        {
          "output_type": "stream",
          "text": [
            "/usr/local/lib/python3.7/dist-packages/sklearn/linear_model/_logistic.py:940: ConvergenceWarning: lbfgs failed to converge (status=1):\n",
            "STOP: TOTAL NO. of ITERATIONS REACHED LIMIT.\n",
            "\n",
            "Increase the number of iterations (max_iter) or scale the data as shown in:\n",
            "    https://scikit-learn.org/stable/modules/preprocessing.html\n",
            "Please also refer to the documentation for alternative solver options:\n",
            "    https://scikit-learn.org/stable/modules/linear_model.html#logistic-regression\n",
            "  extra_warning_msg=_LOGISTIC_SOLVER_CONVERGENCE_MSG)\n"
          ],
          "name": "stderr"
        }
      ]
    },
    {
      "cell_type": "code",
      "metadata": {
        "colab": {
          "base_uri": "https://localhost:8080/"
        },
        "id": "IE40YvUMa-lO",
        "outputId": "e27bf448-78b7-4470-e83a-5c778ff69254"
      },
      "source": [
        "print(classification_report(y_val, logreg10.predict(X_val)))"
      ],
      "execution_count": 16,
      "outputs": [
        {
          "output_type": "stream",
          "text": [
            "              precision    recall  f1-score   support\n",
            "\n",
            "           0       0.94      0.94      0.94        53\n",
            "           1       0.97      0.97      0.97        88\n",
            "\n",
            "    accuracy                           0.96       141\n",
            "   macro avg       0.95      0.95      0.95       141\n",
            "weighted avg       0.96      0.96      0.96       141\n",
            "\n"
          ],
          "name": "stdout"
        }
      ]
    },
    {
      "cell_type": "markdown",
      "metadata": {
        "id": "01iO1xpRa-lS"
      },
      "source": [
        "Com um C=100 não vemos uma diferença significativa nos resultados, o que indica que diminuir ainda mais a regularização (aumentar a complexidade do modelo) não deve ajudar.\n",
        "\n",
        "Vamos agora investigar o que ocorre ao aumentar a regularização (diminuir C) e consequentemente diminuir a complexidade do modelo:"
      ]
    },
    {
      "cell_type": "code",
      "metadata": {
        "colab": {
          "base_uri": "https://localhost:8080/"
        },
        "id": "J_H5QYpka-lS",
        "outputId": "5c6f34e3-7dde-4cc4-e804-89ae0fb77ebf"
      },
      "source": [
        "logreg001 = LogisticRegression(C=0.01,solver='liblinear').fit(X_train, y_train)\n",
        "print(\"Acurácia no conjunto de treino: {:.3f}\".format(logreg001.score(X_train, y_train)))\n",
        "print(\"Acurácia no conjunto de validação: {:.3f}\".format(logreg001.score(X_val, y_val)))"
      ],
      "execution_count": 17,
      "outputs": [
        {
          "output_type": "stream",
          "text": [
            "Acurácia no conjunto de treino: 0.951\n",
            "Acurácia no conjunto de validação: 0.936\n"
          ],
          "name": "stdout"
        }
      ]
    },
    {
      "cell_type": "markdown",
      "metadata": {
        "id": "OktYmpNka-lZ"
      },
      "source": [
        "Vemos uma queda na acurácia do conjunto de validação, o que indica um pequeno underfit."
      ]
    },
    {
      "cell_type": "markdown",
      "metadata": {
        "id": "O8F5tdu7a-lb"
      },
      "source": [
        "Como a busca manual pelo melhor valor do hiperparâmetro C seria muito trabalhosa, podemos novamente usar novamente o ```GriSeachCV```."
      ]
    },
    {
      "cell_type": "code",
      "metadata": {
        "id": "KgXgz_FQa-lc"
      },
      "source": [
        "from sklearn.model_selection import GridSearchCV\n",
        "import numpy as np\n",
        "\n",
        "# Generate a range with different values for C parameter\n",
        "grid = {\"C\": np.arange(1,150,5)}\n",
        "\n",
        "logreg_cv = GridSearchCV(LogisticRegression(solver='liblinear'), grid, cv=10)\n",
        "logreg_cv.fit(X_train, y_train)\n",
        "\n",
        "print(\"Melhores hiperparâmetros: \", logreg_cv.best_params_)\n",
        "print(\"Acurácia:\", logreg_cv.best_score_)"
      ],
      "execution_count": null,
      "outputs": []
    },
    {
      "cell_type": "markdown",
      "metadata": {
        "id": "3Tck-CyC_NWU"
      },
      "source": [
        "De quem é essa acurácia retornada pelo Grid Search?"
      ]
    },
    {
      "cell_type": "code",
      "metadata": {
        "id": "UUW-Xyee-4sB"
      },
      "source": [
        "logreg16 = LogisticRegression(C=16,solver='liblinear').fit(X_train, y_train)\n",
        "print(\"Acurácia no conjunto de treino: {:.3f}\".format(logreg16.score(X_train, y_train)))\n",
        "print(\"Acurácia no conjunto de validação: {:.3f}\".format(logreg16.score(X_val, y_val)))"
      ],
      "execution_count": null,
      "outputs": []
    },
    {
      "cell_type": "markdown",
      "metadata": {
        "id": "cU8Ifgl3a-ll"
      },
      "source": [
        "### 5.3. Métodos Compostos (*Ensemble Methods*)"
      ]
    },
    {
      "cell_type": "markdown",
      "metadata": {
        "id": "bmUmaeLPHgZr"
      },
      "source": [
        "#### 5.3.1. Teoria\n",
        "\n",
        "Métodos Compostos, como o nome sugere, são métodos em que são combinados diferentes modelos mais simples (*weak learners*) para produzir um modelo de maior capacidade preditiva (*strong learner*). Pensando no universo das árvores de decisão, o principio por trás desses métodos é o de que a união de diversas árvores menores possui uma capacidade preditiva melhor que uma grande árvore (mais complexa).\n",
        "\n",
        "Para entender um pouco melhor este principio, é importante conhecer o *trade off* entre o viés e a variância:\n",
        "\n",
        "> **Viés (*bias*)**: É a tendência de o modelo aprender consistentemente uma generalização incorreta. Em outras palavras, o modelo não consegue capturar as relações corretas entre as variáveis e o objeto a ser predito. Portanto, quando o viés é alto o modelo não consegue aprender (*underfitting*).\n",
        "\n",
        "> **Variância**: A variância é a sensibilidade de um modelo ao ser usado com outros datasets diferentes do treinamento. Se o modelo é muito sensível aos dados de treinamento, ou seja, identificou tão bem a relação entre os dados de treinamento que quando colocado em teste irá errar justamente a variação que existe entre os datasets.\n",
        "\n",
        "De maneira mais didática, podemos ilustrar estes conceitos com as imagens abaixo:\n",
        "\n",
        "<center>\n",
        "    \n",
        "![alt](https://miro.medium.com/max/914/1*1kOlhkPVgb5upFUaRYbjIQ.png)\n",
        "\n",
        "   \n",
        "</center>\n",
        "Combinação entre o viés e a variancia\n",
        "\n",
        "<center>\n",
        "    \n",
        "![alt](https://miro.medium.com/max/1560/1*Ah1N6gqkA0zZfpSoS9erAA.png)\n",
        "\n",
        "Predições com alto viés e alta variância\n",
        "</center>\n",
        "\n",
        "Dessa forma, nota-se que um bom modelo deve performar com um baixo viés e uma baixa variância, ou seja, ser capaz de identificar e generalizar padrões.\n",
        "\n",
        "Modelos muito simples, com baixa complexidade são mais sucetiveis a apresentarem um alto viés, ou seja, não aprenderem as relações existentes nos dados. Por outro lado, modelos consideravelmente complexos (muitas variaveis preditoras ou árvores de decisão extensas) podem gerar resultados com alta variância, ou seja, podem aprender padrões que podem não ser reais e consequentemente não apresentar uma capacidade de generalização. Esse trade-off entre a variância e o viés é representado na imagem abaixo:\n",
        "\n",
        "<center>\n",
        "    \n",
        "![alt](https://miro.medium.com/max/490/0*UDp6phojWvlixHO9)\n",
        "\n",
        "*Trade-off* entre o viés (*bias*) e variancia\n",
        "</center>\n",
        "\n",
        "Nota-se que o erro total do modelo é soma do viés com a variância e que conforme o modelo vai “aprendendo” (model complexity aumenta) temos um momento de baixa e logo depois o erro volta a crescer.\n",
        "\n",
        "É muito comum modelos que aprendem muito bem no conjunto de treino, mas acabam apresentando *Overfitting*. Isso faz com que o modelo esteja do lado direito desse diagrama, entretanto, o ideal é que fique mais próximo ao meio. Então para diminuir a variância acrescentamos um pouquinhos de viés, assim ele “desaprende” o suficiente para conseguir generalizar e ser usado além dos dados de treino.\n",
        "\n",
        "Retornando à questão inicial da seção, este *trade-off* ilustra que aumentar a complexidade de um modelo pode implicar em uma perda de performance de predição. Portanto, quando temos diversas variaveis a disposição, por exemplo, utilizar uma unica árvore de decisão pode gerar um modelo excessivamente complexo. \n",
        "\n",
        "Nesse sentido, os métodos compostos (*ensemble methods*) buscam combinar modelos mais simples (também conhecidos como *base models*) para construir um modelo composto com melhor capacidade de predição. Cada *base model* possui certas especificidades que o fazem performar melhor sob determinadas circunstâncias. No momento em que combinamos estes modelos (que por serem simples demais podem não performar bem por si mesmos) passamos a cobrir uma maior variedade de situações, explorando as vantagens de cada *base model* e complementando seus eventuais pontos de fragilidade. A ideia é similar a utilizar pequenas peças (*base models*) para construir um modelo composto muito mais robusto (*strong learner*) \n",
        "\n",
        "As três principais formas de gerar os modelos compostos são: \n",
        "\n",
        "> **Bagging**: Método em que são combinados *weak learners* (normalmente homogêneos, mesmo algoritmo), organizados de maneira paralela e independente, sendo o *output* final determinado por um processo de ponderação dos *outputs* de cada *learner*.\n",
        "<center>\n",
        "    \n",
        "![alt](https://miro.medium.com/max/3630/1*7XVde-bMixpKf8mj61qhJQ@2x.png)\n",
        "\n",
        "   \n",
        "</center>\n",
        "\n",
        "> **Boosting**:  Método em que são combinados *weak learners* (normalmente homogêneos, mesmo algoritmo), organizados de maneira sequêncial e adaptativa, ou seja, cada *learner* é escolhido de modo a compensar os eventuais erros do anterior, sendo combinados de uma maneira deterministica para produzir o *output* final.\n",
        "<center>\n",
        "    \n",
        "![alt](https://miro.medium.com/max/3630/1*VGSoqefx3Rz5Pws6qpLwOQ@2x.png)\n",
        "\n",
        "</center>\n",
        "    \n",
        "> **Stacking**: Método em que são combinados *weak learners* (normalmente heterogêneos, algoritmos diferentes), organizados de maneira paralela, de modo que seus *outputs* são utilizados para treinar um meta-modelo que finalmente produz o *output* final.\n",
        "<center>\n",
        "    \n",
        "![alt](https://miro.medium.com/max/700/1*ZucZsXkOwrpY2XaPh6teRw@2x.png)\n",
        "\n",
        " </center>\n",
        "\n",
        "A escolha do método a ser utilizado depende da especificidade do problema e da relação entre as variáveis e o objeto a ser predito. Em geral, testam-se os diferentes algoritmos e escolhe-se aquele que apresentou a melhor performance e capacidade de generalização. Caso queira complementar o aprendizado, recomenda-se a leitura dos artigos:  [1](https://medium.com/ml-research-lab/ensemble-learning-the-heart-of-machine-learning-b4f59a5f9777),[2](https://towardsdatascience.com/ensemble-methods-in-machine-learning-what-are-they-and-why-use-them-68ec3f9fef5f), [3](https://towardsdatascience.com/basic-ensemble-learning-random-forest-adaboost-gradient-boosting-step-by-step-explained-95d49d1e2725#:~:text=Random%20forest%20is%20an,tree%20as%20the%20individual%20model.)\n",
        "<center>\n",
        "    \n",
        "![alt](https://miro.medium.com/max/700/1*P0ns6A56MtpGFMQ2g47IYA.png)\n",
        "\n",
        " </center>\n",
        "\n",
        "Os diferentes métodos de composição são a base de alguns dos modelos mais utilizados na indústria. O algoritmo de *Random Forest*, por exemplo, utiliza o método de *Bagging*, enquanto o *AdaBoost* e o *XGBoost* utilizam o método de *Boosting*. \n",
        "\n",
        "Na próxima seção iremos utilizar o *XGBoost (Extreme Gradient Boosting)* para tentar resolver o nosso problema de diagnóstico, portanto, é importante que o conceito de *boosting* seja bem compreendido. No video abaixo explora-se um pouco mais no detalhe este método:\n",
        "\n",
        "[![IMAGE ALT TEXT](http://img.youtube.com/vi/GM3CDQfQ4sw/0.jpg)](http://www.youtube.com/watch?v=GM3CDQfQ4sw \"Decision Tree 1: how it works\")\n",
        "\n",
        "Caso queira se aprofundar ainda mais, assista a esses outros vídeos: [1](https://www.youtube.com/watch?v=ErDgauqnTHk) ou [2](https://www.youtube.com/watch?v=jxuNLH5dXCs).\n"
      ]
    },
    {
      "cell_type": "markdown",
      "metadata": {
        "id": "8D8V-HiOa-lu"
      },
      "source": [
        "#### 5.3.2. Código em Python e Avaliação\n",
        "\n",
        "O primeiro passo a se fazer é instalar a biblioteca do xgboost."
      ]
    },
    {
      "cell_type": "code",
      "metadata": {
        "colab": {
          "base_uri": "https://localhost:8080/"
        },
        "id": "xo0dDVsOa-lv",
        "outputId": "2c10be64-45fd-4b40-a3a5-33d9e797655d"
      },
      "source": [
        "import sys\n",
        "!{sys.executable} -m pip install xgboost"
      ],
      "execution_count": 20,
      "outputs": [
        {
          "output_type": "stream",
          "text": [
            "Requirement already satisfied: xgboost in /usr/local/lib/python3.7/dist-packages (0.90)\n",
            "Requirement already satisfied: scipy in /usr/local/lib/python3.7/dist-packages (from xgboost) (1.4.1)\n",
            "Requirement already satisfied: numpy in /usr/local/lib/python3.7/dist-packages (from xgboost) (1.19.5)\n"
          ],
          "name": "stdout"
        }
      ]
    },
    {
      "cell_type": "markdown",
      "metadata": {
        "id": "cRCIl8CLa-l1"
      },
      "source": [
        "Em seguida, importamos o modelo junto com algumas métricas de avaliação."
      ]
    },
    {
      "cell_type": "code",
      "metadata": {
        "id": "hp2hVkK1a-l2"
      },
      "source": [
        "import xgboost as xgb\n",
        "from sklearn.metrics import classification_report, confusion_matrix, roc_auc_score\n",
        "\n",
        "%matplotlib inline\n",
        "import matplotlib.pyplot as plt\n",
        "import pandas as pd"
      ],
      "execution_count": 21,
      "outputs": []
    },
    {
      "cell_type": "markdown",
      "metadata": {
        "id": "hk7nCHJ4a-l8"
      },
      "source": [
        "Vamos então treinar nosso primeiro modelo de xgboost.\n",
        "\n",
        "As etapas básicas são:\n",
        "- Criar um objeto modelo xgboost com seus hiperparâmetros (como estamos tratando de um problema de classificação, usaremos o ```XGBClassifier```). Você pode ver todos os hiperparâmetros disponíveis [aqui](https://xgboost.readthedocs.io/en/latest/python/python_api.html#xgboost.XGBClassifier) e mais detalhes sobre cada um deles [aqui](https://xgboost.readthedocs.io/en/latest/parameter.html#parameters-for-tree-booster).\n",
        "- Usar o método ```.fit()``` para treinar o modelo.\n",
        "- Usar o método ```.predict()``` para usar o modelo para prever novos dados.\n",
        "\n",
        "Alguns hiperparâmetros importantes que usaremos nessa aula são:\n",
        "- **objective \\[default=reg:squarederror\\]**: define o tipo de problema e a função objetivo a ser usada\n",
        "- **eval_metric \\[default according to objective\\]**: métrica de avaliação a ser usada junto com o conjunto de validação\n",
        "- **colsample_bytree \\[default=1\\]**: percentual de colunas a ser usado em cada árvore\n",
        "- **learning_rate \\[default=0.3\\]**: tamanho do passo de atualização no aprendizado\n",
        "- **max_depth \\[default=6\\]**: máxima profundidade de cada árvore\n",
        "- **alpha \\[default=0\\]**: termo de regularização L1 nos pesos (quanto maior, mais regularização)\n",
        "- **n_estimators \\[default=100\\]**: número de árvores para treinar\n",
        "\n",
        "Vamos primeiramente definir apenas ```objective``` e ```eval_metric``` de forma que o modelo seja treinado com o restante dos hiperparâmetros em seus valores padrão."
      ]
    },
    {
      "cell_type": "code",
      "metadata": {
        "colab": {
          "base_uri": "https://localhost:8080/",
          "height": 533
        },
        "id": "MWrvSP-ba-l9",
        "scrolled": false,
        "outputId": "26b20b37-9fa4-4425-add4-3649ea42dcc0"
      },
      "source": [
        "# XGBoost 1\n",
        "\n",
        "# Criar um objeto XGBClassifier\n",
        "xgb_model_1 = xgb.XGBClassifier(objective=\"binary:logistic\", random_state=seed, eval_metric=\"auc\",use_label_encoder=False)\n",
        "\n",
        "# Treinar o modelo usando o conjunto de treino\n",
        "xgb_model_1.fit(X_train,y_train)\n",
        "\n",
        "# Prever usando o conjunto de validação\n",
        "y_pred = xgb_model_1.predict(X_val)\n",
        "\n",
        "# Calcular e printar algumas métricas\n",
        "print(\"Acurácia no conjunto de treino: {:.3f}\".format(xgb_model_1.score(X_train, y_train)))\n",
        "print(\"Acurácia no conjunto de validação: {:.3f}\".format(xgb_model_1.score(X_val, y_val)))\n",
        "print(classification_report(y_val, y_pred))\n",
        "print(confusion_matrix(y_val, y_pred))\n",
        "print(\"Área abaixo da curva ROC: {:.3f}\".format(roc_auc_score(y_val, y_pred)))\n",
        "\n",
        "# Plotar a importância das variáveis\n",
        "xgb.plot_importance(xgb_model_1)\n",
        "plt.show()"
      ],
      "execution_count": 22,
      "outputs": [
        {
          "output_type": "stream",
          "text": [
            "Acurácia no conjunto de treino: 1.000\n",
            "Acurácia no conjunto de validação: 0.957\n",
            "              precision    recall  f1-score   support\n",
            "\n",
            "           0       0.93      0.96      0.94        53\n",
            "           1       0.98      0.95      0.97        88\n",
            "\n",
            "    accuracy                           0.96       141\n",
            "   macro avg       0.95      0.96      0.95       141\n",
            "weighted avg       0.96      0.96      0.96       141\n",
            "\n",
            "[[51  2]\n",
            " [ 4 84]]\n",
            "Área abaixo da curva ROC: 0.958\n"
          ],
          "name": "stdout"
        },
        {
          "output_type": "display_data",
          "data": {
            "image/png": "[encoded data removed]",
            "text/plain": [
              "<Figure size 432x288 with 1 Axes>"
            ]
          },
          "metadata": {
            "tags": [],
            "needs_background": "light"
          }
        }
      ]
    },
    {
      "cell_type": "markdown",
      "metadata": {
        "id": "-chpJcLaa-mE"
      },
      "source": [
        "Como podemos ver, o modelo obteve acurácia de 100% no dataset de treino e 95,7% no dataset de validação, indicando um overfit no treino, embora ainda sim com ótima performance no segundo."
      ]
    },
    {
      "cell_type": "markdown",
      "metadata": {
        "id": "xuvVXx5Ta-mL"
      },
      "source": [
        "Vejamos agora como usar a Cross Validation com o XGBoost. As principais diferenças do que acabamos de fazer são:\n",
        "- Criar uma ```DMatrix```, estrutura de dados interna para o xgboost que otimiza a memória usada e velocidade de treino\n",
        "- Usar o ```StratifiedKFold``` para criar os grupos para a validação cruzada, passando o número de splits ```n_splits```\n",
        "- Usar o método ```xgb.cv``` para realizar a validação cruzada. Internamente, isto é realizado a cada iteração de boosting, portanto também é retornado o número ótimo de árvores."
      ]
    },
    {
      "cell_type": "code",
      "metadata": {
        "colab": {
          "base_uri": "https://localhost:8080/",
          "height": 516
        },
        "id": "rG930jPfa-mN",
        "outputId": "ba72fc99-95e5-4150-90d6-8dc20a1a441b"
      },
      "source": [
        "# XGBoost with Cross Validation\n",
        "\n",
        "from sklearn.model_selection import StratifiedKFold\n",
        "\n",
        "# Criar a DMatrix\n",
        "data_dmatrix = xgb.DMatrix(data=X_training, label=y_training)\n",
        "\n",
        "# Criar modelo com o XGBClassifier\n",
        "xgb_model_cv = xgb.XGBClassifier(objective=\"binary:logistic\", random_state=seed, eval_metric=\"auc\",\n",
        "                                 colsample_bytree=0.3, learning_rate=0.1, max_depth=4, alpha=5, n_estimators=10,use_label_encoder=False)\n",
        "\n",
        "# Salvar parâmetros em uma variável\n",
        "params = xgb_model_cv.get_xgb_params()\n",
        "\n",
        "# Criar objeto StratifiedKFold e rodar validação cruzada\n",
        "skf = StratifiedKFold(n_splits=3, shuffle=True, random_state=seed)\n",
        "cv_results = xgb.cv(dtrain=data_dmatrix, params=params, folds=skf, num_boost_round=5000,\n",
        "                    early_stopping_rounds=10, metrics=\"auc\", stratified=True, seed=seed)\n",
        "\n",
        "# Ajustar o melhor número de árvores em n_estimators\n",
        "xgb_model_cv.set_params(n_estimators=cv_results.shape[0])\n",
        "\n",
        "# Treinar o modelo com os datasets de treino + validação\n",
        "xgb_model_cv.fit(X_training, y_training)\n",
        "\n",
        "# Printar a AUC média nos datasets de treino e teste\n",
        "print(\"AUC média no dataset de treino: {:.3f} +/- {:.3f}\".format(cv_results.loc[cv_results.shape[0]-1, 'train-auc-mean'],\n",
        "                                                                 cv_results.loc[cv_results.shape[0]-1, 'train-auc-std']))\n",
        "print(\"AUC média no dataset de teste: {:.3f} +/- {:.3f}\".format(cv_results.loc[cv_results.shape[0]-1, 'test-auc-mean'],\n",
        "                                                                cv_results.loc[cv_results.shape[0]-1, 'test-auc-std']))\n",
        "\n",
        "# Plotar importância das variáveis\n",
        "xgb.plot_importance(xgb_model_cv)\n",
        "plt.show()\n",
        "\n",
        "# Mostrar as últimas iterações da validação cruzada\n",
        "cv_results.tail()"
      ],
      "execution_count": 23,
      "outputs": [
        {
          "output_type": "stream",
          "text": [
            "AUC média no dataset de treino: 1.000 +/- 0.000\n",
            "AUC média no dataset de teste: 0.990 +/- 0.007\n"
          ],
          "name": "stdout"
        },
        {
          "output_type": "display_data",
          "data": {
            "image/png": "[encoded data removed]",
            "text/plain": [
              "<Figure size 432x288 with 1 Axes>"
            ]
          },
          "metadata": {
            "tags": [],
            "needs_background": "light"
          }
        },
        {
          "output_type": "execute_result",
          "data": {
            "text/html": [
              "<div>\n",
              "<style scoped>\n",
              "    .dataframe tbody tr th:only-of-type {\n",
              "        vertical-align: middle;\n",
              "    }\n",
              "\n",
              "    .dataframe tbody tr th {\n",
              "        vertical-align: top;\n",
              "    }\n",
              "\n",
              "    .dataframe thead th {\n",
              "        text-align: right;\n",
              "    }\n",
              "</style>\n",
              "<table border=\"1\" class=\"dataframe\">\n",
              "  <thead>\n",
              "    <tr style=\"text-align: right;\">\n",
              "      <th></th>\n",
              "      <th>train-auc-mean</th>\n",
              "      <th>train-auc-std</th>\n",
              "      <th>test-auc-mean</th>\n",
              "      <th>test-auc-std</th>\n",
              "    </tr>\n",
              "  </thead>\n",
              "  <tbody>\n",
              "    <tr>\n",
              "      <th>42</th>\n",
              "      <td>0.999947</td>\n",
              "      <td>0.000043</td>\n",
              "      <td>0.989753</td>\n",
              "      <td>0.006610</td>\n",
              "    </tr>\n",
              "    <tr>\n",
              "      <th>43</th>\n",
              "      <td>0.999947</td>\n",
              "      <td>0.000043</td>\n",
              "      <td>0.989895</td>\n",
              "      <td>0.006705</td>\n",
              "    </tr>\n",
              "    <tr>\n",
              "      <th>44</th>\n",
              "      <td>0.999965</td>\n",
              "      <td>0.000050</td>\n",
              "      <td>0.989895</td>\n",
              "      <td>0.006875</td>\n",
              "    </tr>\n",
              "    <tr>\n",
              "      <th>45</th>\n",
              "      <td>0.999965</td>\n",
              "      <td>0.000050</td>\n",
              "      <td>0.990001</td>\n",
              "      <td>0.006733</td>\n",
              "    </tr>\n",
              "    <tr>\n",
              "      <th>46</th>\n",
              "      <td>0.999965</td>\n",
              "      <td>0.000050</td>\n",
              "      <td>0.990071</td>\n",
              "      <td>0.006752</td>\n",
              "    </tr>\n",
              "  </tbody>\n",
              "</table>\n",
              "</div>"
            ],
            "text/plain": [
              "    train-auc-mean  train-auc-std  test-auc-mean  test-auc-std\n",
              "42        0.999947       0.000043       0.989753      0.006610\n",
              "43        0.999947       0.000043       0.989895      0.006705\n",
              "44        0.999965       0.000050       0.989895      0.006875\n",
              "45        0.999965       0.000050       0.990001      0.006733\n",
              "46        0.999965       0.000050       0.990071      0.006752"
            ]
          },
          "metadata": {
            "tags": []
          },
          "execution_count": 23
        }
      ]
    },
    {
      "cell_type": "markdown",
      "metadata": {
        "id": "Rwag1PQfa-mS"
      },
      "source": [
        "Em seguida, vamos realizar o grid search para encontrar o melhor conjunto de valores para os hiperparâmetros."
      ]
    },
    {
      "cell_type": "code",
      "metadata": {
        "colab": {
          "base_uri": "https://localhost:8080/",
          "height": 0
        },
        "id": "OnKJafk6a-mT",
        "outputId": "88b35274-0628-4903-e22d-e0c007571f85"
      },
      "source": [
        "# XGBoost com Cross Validation\n",
        "\n",
        "from sklearn.model_selection import GridSearchCV\n",
        "\n",
        "# Define um conjunto de possíveis valores para os hiperparâmetros\n",
        "params = {'learning_rate': [0.1, 0.2, 0.3],\n",
        "          'alpha': [5, 10, 15],\n",
        "          'colsample_bytree': [0.1, 0.3, 0.5, 0.7, 1.0],\n",
        "          'max_depth': [3, 4, 5]}\n",
        "\n",
        "# Cria o modelo\n",
        "xgb_model_cv_gs = xgb.XGBClassifier(objective=\"binary:logistic\", random_state=seed,\n",
        "                                    eval_metric=\"auc\", n_estimators=10,use_label_encoder=False)\n",
        "\n",
        "# Cria o grid search com validação cruzada estratificada\n",
        "skf = StratifiedKFold(n_splits=3, shuffle=True, random_state=seed)\n",
        "grid_search = GridSearchCV(xgb_model_cv_gs, param_grid=params, scoring='roc_auc',\n",
        "                           cv=skf.split(X_training, y_training))\n",
        "\n",
        "# Treina o modelo e printa os melhores hiperparâmetros\n",
        "grid_search.fit(X_training, y_training)\n",
        "print('\\n Melhores hiperparâmetros:')\n",
        "print(grid_search.best_params_)\n",
        "\n",
        "# Obtém os resultados da validação cruzada\n",
        "cv_results = pd.DataFrame(grid_search.cv_results_)\n",
        "print(\"Acurácia média no conjunto de validação: {:.3f} +/- {:.3f}\".format(\n",
        "  cv_results[cv_results.rank_test_score == 1].mean_test_score.values[0],\n",
        "  cv_results[cv_results.rank_test_score == 1].std_test_score.values[0])\n",
        ")\n",
        "\n",
        "# Atribui os melhores valores para os hiperparâmetros\n",
        "xgb_model_cv_gs.set_params(learning_rate = grid_search.best_params_['learning_rate'],\n",
        "                           alpha = grid_search.best_params_['alpha'],\n",
        "                           colsample_bytree = grid_search.best_params_['colsample_bytree'],\n",
        "                           max_depth = grid_search.best_params_['max_depth'])\n",
        "\n",
        "# Treina o modelo usando os melhores hiperparâmetros\n",
        "xgb_model_cv_gs.fit(X_training, y_training)\n",
        "\n",
        "# Plota a importância das variáveis\n",
        "xgb.plot_importance(xgb_model_cv_gs)\n",
        "plt.show()"
      ],
      "execution_count": 24,
      "outputs": [
        {
          "output_type": "stream",
          "text": [
            "\n",
            " Melhores hiperparâmetros:\n",
            "{'alpha': 5, 'colsample_bytree': 0.5, 'learning_rate': 0.2, 'max_depth': 3}\n",
            "Acurácia média no conjunto de validação: 0.987 +/- 0.009\n"
          ],
          "name": "stdout"
        },
        {
          "output_type": "display_data",
          "data": {
            "image/png": "[encoded data removed]",
            "text/plain": [
              "<Figure size 432x288 with 1 Axes>"
            ]
          },
          "metadata": {
            "tags": [],
            "needs_background": "light"
          }
        }
      ]
    },
    {
      "cell_type": "markdown",
      "metadata": {
        "id": "b7R8KM81WfVF"
      },
      "source": [
        "Tudo muito legal! Só não entendi muito bem a seleção do algoritmo de base para o XGBoost. Pela definição do atributo `objective`, parece que foi escolhido uma regressão logística. Porém, outros atributos, como `colsample_bytree` e `max_depth` indicam que há uma DT. \n",
        "\n",
        "Será que estes dois modelos são utilizados em conjunto? Ou o XGBoost tem um funcionamento baseado em árvore e o `objective` não define o algoritmo de base, mas sim o resultado esperado? Fica a dúvida."
      ]
    },
    {
      "cell_type": "markdown",
      "metadata": {
        "id": "ir9Nebgza-mb"
      },
      "source": [
        "<a id=\"eval\"></a>\n",
        "## 6. Avaliação dos Modelos"
      ]
    },
    {
      "cell_type": "markdown",
      "metadata": {
        "id": "0hVlC2mta-md"
      },
      "source": [
        "#### Exercício 6.1 \n",
        "\n",
        "Baseado na AUC de todos os modelos treinados, qual você escolheria como seu classificador final?"
      ]
    },
    {
      "cell_type": "code",
      "metadata": {
        "exid": "6.1",
        "id": "V0EwddEGa-me",
        "colab": {
          "base_uri": "https://localhost:8080/"
        },
        "outputId": "b1dd3ab1-3dae-46e0-a082-f4cc4c6a14c6"
      },
      "source": [
        "AUC_Arvore  = roc_auc_score(y_val, tree_3.predict(X_val))\n",
        "AUC_RegLog  = roc_auc_score(y_val, logreg16.predict(X_val))\n",
        "AUC_XGBoost = roc_auc_score(y_val, xgb_model_cv_gs.predict(X_val))\n",
        "\n",
        "print(\"AUC Arvore: {:.3f}\".format(AUC_Arvore))\n",
        "print(\"AUC RegLog: {:.3f}\".format(AUC_RegLog))\n",
        "print(\"AUC XGBoost: {:.3f}\".format(AUC_XGBoost))"
      ],
      "execution_count": 25,
      "outputs": [
        {
          "output_type": "stream",
          "text": [
            "AUC Arvore: 0.943\n",
            "AUC RegLog: 0.970\n",
            "AUC XGBoost: 0.994\n"
          ],
          "name": "stdout"
        }
      ]
    },
    {
      "cell_type": "markdown",
      "metadata": {
        "id": "Z5W_6G6_eVnb"
      },
      "source": [
        "Escolheria o XGBoost, visto que é ele que apresenta a maior AUC."
      ]
    },
    {
      "cell_type": "markdown",
      "metadata": {
        "id": "VPf-21UBa-mi"
      },
      "source": [
        "Como falsos positivos e falsos negativos possuem significados reais completamente diferentes, existe sempre um trade-off entre eles. Tende-se normalmente a minimizar mais um em detrimento de outro de acordo com aquilo que vemos que tem mais impacto.\n",
        "\n",
        "#### Exercício 6.2  \n",
        "\n",
        "No caso do problema de câncer de mama tratado aqui, sabendo que uma classe positiva (valor 1) é um tecido diagnosticado como benigno. Qual é o significado de um falso positivo? E de um falso negativo?"
      ]
    },
    {
      "cell_type": "markdown",
      "metadata": {
        "id": "g4-oSyHsHgZu"
      },
      "source": [
        "Um falso positivo indica que um tecido maligno (0) foi classificado como beningo (1). Já um falso negatico significa exatamente o contrário: um tecido benigno (1) foi classificado como maligno (0)."
      ]
    },
    {
      "cell_type": "markdown",
      "metadata": {
        "id": "_tpDir97a-mj"
      },
      "source": [
        "#### Exercício 6.3 \n",
        "\n",
        "Baseado na resposta anterior, que tipo de erro é preferível minimizar (falsos positivos ou falsos negativos) e por que?"
      ]
    },
    {
      "cell_type": "markdown",
      "metadata": {
        "id": "jZgj-Q27gMAq"
      },
      "source": [
        "Nesse contexto, falsos negativo fazem com que sejam contabilizados mais tecidos malignos do que realmente existem. Falsos positivos, pelo contrário, fazem com que sejam contabilizados menos tecidos malignos do que de fato existem.\n",
        "\n",
        "Na primeira situação, o potencial da doença é maximizado pelo diagnóstico. Isso por gerar uma série de problemas, como preocupações excessivas por parte do paciente e até tratamentos desnecessários. Contudo, o segundo cenário minimiza o potencial destrutivo da doença, o que certamente é um caminho mais perigoso: o tratamento pode ser postergado de forma equivocada ou até realizado de forma mais branda que a necessária e, quando for constatado a real dimensão do problema, pode ser tarde demais para remediar.\n",
        "\n",
        "Portanto, fica claro que é muito mais interessante minimizar os falsos positivos."
      ]
    },
    {
      "cell_type": "markdown",
      "metadata": {
        "id": "Y85oq_OZa-mk"
      },
      "source": [
        "#### Exercício 6.4 \n",
        "\n",
        "Com base na resposta anterior, escolha entre os modelos treinados, aquele que melhor satisfaz sua decisão."
      ]
    },
    {
      "cell_type": "markdown",
      "metadata": {
        "id": "gbuN7kjGkBG0"
      },
      "source": [
        "Para este caso, três métricas podem ser avaliadas:\n",
        "1. **Precisão**, dada por TP / (TP + FN)\n",
        "2. **Taxa de Verdadeiro Negativo**, ou especificidade, ou ainda *recall da classe negativa*, dada por TNR = TN / (TN + FP)\n",
        "3. **Taxa de Falso Positivos**, dada por FPR = FP / (FP + TN) ou FPR = 1 - TNR.\n",
        "\n",
        "Para minimizar os falsos positivos, a precisão e a TNR devem ser maximizadas, ou a FPR deve ser minimizada.\n",
        "\n",
        "Fazendo uso da precisão, estamos avaliando somente a taxa de sucesso das previsões positivas. Utilizando a TNR ou a FPR, avaliamos a taxa de sucesso ou fracasso, respectivamente, em prever negativos, que é o cerne da questão.\n"
      ]
    },
    {
      "cell_type": "code",
      "metadata": {
        "id": "zLvxnp2Xa-ml",
        "colab": {
          "base_uri": "https://localhost:8080/"
        },
        "outputId": "a2fed7c0-a93d-4be6-8615-1206216c21ed"
      },
      "source": [
        "# obter as predições de todos os modelos, para o conjunto de validação\n",
        "y_pred_dict = {'tree': tree_3.predict(X_test), \n",
        "               'logreg': logreg16.predict(X_test),\n",
        "               'xgb': xgb_model_cv_gs.predict(X_test)}\n",
        "\n",
        "especificidade = dict()\n",
        "\n",
        "# calcular a especifidade para cada modelo\n",
        "for key, y_pred in zip(y_pred_dict.keys(), y_pred_dict.values()):\n",
        "  tn, fp, fn, tp = confusion_matrix(y_test, y_pred).ravel()  \n",
        "  especificidade[key] = tn / (tn + fp)\n",
        "\n",
        "print(especificidade)"
      ],
      "execution_count": 26,
      "outputs": [
        {
          "output_type": "stream",
          "text": [
            "{'tree': 0.8679245283018868, 'logreg': 0.9056603773584906, 'xgb': 0.9245283018867925}\n"
          ],
          "name": "stdout"
        }
      ]
    },
    {
      "cell_type": "markdown",
      "metadata": {
        "id": "I1AUoEdp5RI4"
      },
      "source": [
        "Podemos observar, novamente, que o XGBoost fornece a maior especificidade. Sendo assim, além de melhor AUC, ele também é o que apresenta menor indice de falsos positivos. Portanto, com certeza é o melhor modelo a ser escolhido para minimizar os falsos positivos."
      ]
    },
    {
      "cell_type": "markdown",
      "metadata": {
        "id": "EWRs-N9La-mo"
      },
      "source": [
        "Aqui vamos apresentar uma possível solução.\n",
        "\n",
        "Por um lado, se tivermos um falso positivo, estamos diagnosticando um tecido maligno como benigno. Isto é, estamos dizendo ao paciente que está tudo bem, enquanto na verdade não está. Neste caso, a pessoa vai provavelmente postergar um diagnóstico futuro, o que pode fazer com que a doença piore e que o tratamento seja mais drástico.\n",
        "\n",
        "De outro lado, se tivermos um falso negativo, estamos diagnosticando um tecido benigno como maligno. Em outras palavras, estamos dizendo ao paciente que ele está com câncer, quando na verdade não está. Neste caso, a pessoa sofrerá problemas de ansiedade, tendo um impacto negativo na sua saúde mental, e também estará sujeito a tratamentos como biopsia, em que uma parte ou todo o tecido será removido.\n",
        "\n",
        "Decidir que tipo de erro é uma questão delicada. Mas aqui focaremos em minimizar a quantidade de falsos positivos. Isto é, queremos maximizar a **precisão** (*precision*), ou seja, maximizar a taxa de acerto quando prevemos que o paciente tem um tecido maligno.\n",
        "\n",
        "<img src=https://cdn-images-1.medium.com/max/1200/1*uR09zTlPgIj5PvMYJZScVg.png width=500/>"
      ]
    },
    {
      "cell_type": "code",
      "metadata": {
        "id": "6xpM6kbua-mo",
        "colab": {
          "base_uri": "https://localhost:8080/"
        },
        "outputId": "bf4ec51b-d6e0-4281-fa8f-f3c2285c2adb"
      },
      "source": [
        "from sklearn.metrics import precision_score\n",
        "\n",
        "# Realizar as previsões no dataset de teste\n",
        "y_tree_pred   = tree_3.predict(X_test)\n",
        "y_logreg_pred = logreg_cv.best_estimator_.predict(X_test)\n",
        "y_xgb_pred    = xgb_model_cv_gs.predict(X_test)\n",
        "\n",
        "# Printar a precisão de cada algoritmo\n",
        "print(precision_score(y_test, y_tree_pred))\n",
        "print(precision_score(y_test, y_logreg_pred))\n",
        "print(precision_score(y_test, y_xgb_pred))"
      ],
      "execution_count": 27,
      "outputs": [
        {
          "output_type": "stream",
          "text": [
            "0.9247311827956989\n",
            "0.9456521739130435\n",
            "0.9555555555555556\n"
          ],
          "name": "stdout"
        }
      ]
    },
    {
      "cell_type": "markdown",
      "metadata": {
        "id": "eHD_hdv-a-mt"
      },
      "source": [
        "Como a regressão logística e o modelo XGBoost dão performances similares, podemos usar outro critério de desempate. Se o modelo precisa rodar o mais rápido possível, poderíamos avaliar o tempo que cada um deles demora para realizar a classificação (em um diagnóstico médico, pode não fazer tanta diferença se os resultados ficarem prontos em 0,10 ou 0,15 segundos, mas isto pode com certeza fazer diferença para aplicações como carros autônomos).\n",
        "\n",
        "Se for necessário, por exemplo, a aprovação de um diretor para implementar o modelo desenvolvido, pode ser mais interessante o uso de um algoritmo que seja facilmente explanável e interpretável de forma que ele possa entender como o modelo está tomando as decisões. Isto é o que chamamos de **interpretabilidade de modelos**, e é considerado uma questão importante no momento em que um cientista de dados está reportando seus resultados a pessoas que não domimam muito o assunto."
      ]
    },
    {
      "cell_type": "markdown",
      "metadata": {
        "id": "ncjXP4HYa-mt"
      },
      "source": [
        "#### Exercício 6.5\n",
        "\n",
        "Para este exercício, você vai seguir as instruções fornecidas e preencher os campos para construir seus próprios modelos e escolher entre o melhor deles. Para isso, usaremos dados de doadores prévios de sangue para prever quem doará novamente em Março de 2007. O dataset se chama *transfusion.csv*. Ele consiste de:\n",
        "- Recency: meses desde a última doação\n",
        "- Frequency: número total de doações antes de Março de 2007\n",
        "- \"Monetary\": valor total de sangue doado\n",
        "- Time: meses desde a primeira doação\n",
        "- donated: variável resposta binária indicando se a pessoa doou sangue em Março de 2007 (1 = doou, 0 = não doou)\n",
        "\n",
        "**Obs.:** este é um dataset mais \"real\" no sentindo em que os pontos não são facilmente separáveis por um modelo. Desta forma, em alguns algoritmos, variar os hiperparâmetros pode não ter uma influência significativa na performance. Sinta-se a vontade para brincar com as variáveis e fazer feature engineering e selection."
      ]
    },
    {
      "cell_type": "code",
      "metadata": {
        "colab": {
          "base_uri": "https://localhost:8080/"
        },
        "id": "--xTM5rOnMLY",
        "outputId": "b3bdf186-3f6c-461c-ffb1-761f524aefff"
      },
      "source": [
        "from google.colab import drive\n",
        "drive.mount('/content/drive')"
      ],
      "execution_count": 28,
      "outputs": [
        {
          "output_type": "stream",
          "text": [
            "Mounted at /content/drive\n"
          ],
          "name": "stdout"
        }
      ]
    },
    {
      "cell_type": "code",
      "metadata": {
        "exid": "6.5.1",
        "id": "67PMHgBYa-mu",
        "colab": {
          "base_uri": "https://localhost:8080/"
        },
        "outputId": "0788d572-eebe-4bcf-d610-9bb76b907383"
      },
      "source": [
        "import numpy as np\n",
        "\n",
        "data = np.genfromtxt('/content/drive/MyDrive/Programa Ciência de Dados/Entrega 4 - Classificacao/Dados/transfusion.csv', delimiter=';', skip_header=1)"
      ],
      "execution_count": 29,
      "outputs": [
        {
          "output_type": "stream",
          "text": [
            "X (748, 4)\n",
            "y (748,)\n"
          ],
          "name": "stdout"
        }
      ]
    },
    {
      "cell_type": "markdown",
      "metadata": {
        "id": "f-F71XPwcJZL"
      },
      "source": [
        "##### Feature engineering"
      ]
    },
    {
      "cell_type": "code",
      "metadata": {
        "id": "MboNURo6WWs1"
      },
      "source": [
        "trans = pd.DataFrame(data).rename(columns={\n",
        "    0:'Recency',\n",
        "    1:'Frequency',\n",
        "    2:'Monetary',\n",
        "    3:'Time',\n",
        "    4:'Donated'\n",
        "})"
      ],
      "execution_count": 426,
      "outputs": []
    },
    {
      "cell_type": "code",
      "metadata": {
        "colab": {
          "base_uri": "https://localhost:8080/"
        },
        "id": "JJvm2K99WTQs",
        "outputId": "ef5f5f3d-69c4-4cc8-d656-6bc6fb8ef7fb"
      },
      "source": [
        "trans[['Donated']].value_counts(normalize=True)"
      ],
      "execution_count": 353,
      "outputs": [
        {
          "output_type": "execute_result",
          "data": {
            "text/plain": [
              "Donated\n",
              "0.0        0.762032\n",
              "1.0        0.237968\n",
              "dtype: float64"
            ]
          },
          "metadata": {
            "tags": []
          },
          "execution_count": 353
        }
      ]
    },
    {
      "cell_type": "markdown",
      "metadata": {
        "id": "7cqK4MIxXpWE"
      },
      "source": [
        "Percebemos que a classe está bem desbalanceada. Portanto, a utilização de técnicas de validação cruzada estratificada é uma abordagem a ser considerada."
      ]
    },
    {
      "cell_type": "code",
      "metadata": {
        "colab": {
          "base_uri": "https://localhost:8080/",
          "height": 111
        },
        "id": "f_bw6bkfoxAw",
        "outputId": "8d9f343b-00a0-4bdb-8c0c-4c3c51c26016"
      },
      "source": [
        "trans.head(2)"
      ],
      "execution_count": 132,
      "outputs": [
        {
          "output_type": "execute_result",
          "data": {
            "text/html": [
              "<div>\n",
              "<style scoped>\n",
              "    .dataframe tbody tr th:only-of-type {\n",
              "        vertical-align: middle;\n",
              "    }\n",
              "\n",
              "    .dataframe tbody tr th {\n",
              "        vertical-align: top;\n",
              "    }\n",
              "\n",
              "    .dataframe thead th {\n",
              "        text-align: right;\n",
              "    }\n",
              "</style>\n",
              "<table border=\"1\" class=\"dataframe\">\n",
              "  <thead>\n",
              "    <tr style=\"text-align: right;\">\n",
              "      <th></th>\n",
              "      <th>Recency</th>\n",
              "      <th>Frequency</th>\n",
              "      <th>Monetary</th>\n",
              "      <th>Time</th>\n",
              "      <th>Donated</th>\n",
              "    </tr>\n",
              "  </thead>\n",
              "  <tbody>\n",
              "    <tr>\n",
              "      <th>0</th>\n",
              "      <td>2.0</td>\n",
              "      <td>50.0</td>\n",
              "      <td>12500.0</td>\n",
              "      <td>98.0</td>\n",
              "      <td>1.0</td>\n",
              "    </tr>\n",
              "    <tr>\n",
              "      <th>1</th>\n",
              "      <td>0.0</td>\n",
              "      <td>13.0</td>\n",
              "      <td>3250.0</td>\n",
              "      <td>28.0</td>\n",
              "      <td>1.0</td>\n",
              "    </tr>\n",
              "  </tbody>\n",
              "</table>\n",
              "</div>"
            ],
            "text/plain": [
              "   Recency  Frequency  Monetary  Time  Donated\n",
              "0      2.0       50.0   12500.0  98.0      1.0\n",
              "1      0.0       13.0    3250.0  28.0      1.0"
            ]
          },
          "metadata": {
            "tags": []
          },
          "execution_count": 132
        }
      ]
    },
    {
      "cell_type": "code",
      "metadata": {
        "colab": {
          "base_uri": "https://localhost:8080/",
          "height": 267
        },
        "id": "9xfpUpADx18N",
        "outputId": "cf298602-b6ae-4629-b048-b1a11911022e"
      },
      "source": [
        "fig, axs = plt.subplots(1, 2)\n",
        "\n",
        "trans[['Monetary']].plot.hist(ax=axs[0])\n",
        "trans[['Frequency']].plot.hist(ax=axs[1])\n",
        "\n",
        "fig.set_size_inches(8,4)"
      ],
      "execution_count": 130,
      "outputs": [
        {
          "output_type": "display_data",
          "data": {
            "image/png": "[encoded data removed]",
            "text/plain": [
              "<Figure size 576x288 with 2 Axes>"
            ]
          },
          "metadata": {
            "tags": [],
            "needs_background": "light"
          }
        }
      ]
    },
    {
      "cell_type": "code",
      "metadata": {
        "colab": {
          "base_uri": "https://localhost:8080/"
        },
        "id": "jFh_hf4Rzahs",
        "outputId": "d5bde8f8-f052-4483-d368-de88ae5dfff5"
      },
      "source": [
        "np.unique(trans.Monetary / trans.Frequency)"
      ],
      "execution_count": 134,
      "outputs": [
        {
          "output_type": "execute_result",
          "data": {
            "text/plain": [
              "array([250.])"
            ]
          },
          "metadata": {
            "tags": []
          },
          "execution_count": 134
        }
      ]
    },
    {
      "cell_type": "markdown",
      "metadata": {
        "id": "31MH7KW8zNvC"
      },
      "source": [
        "Percebe-se também que a Frequency e a Monetary são diretamente proporcionais, e a proporção é de 250. Ou seja, o doador recebe um valor de 250 para cada doação que realiza.\n",
        "\n",
        "Sendo assim, uma das duas variáveis não precisa estar presente no dataset, visto que tem exatamente mesmo compontamento."
      ]
    },
    {
      "cell_type": "code",
      "metadata": {
        "id": "TlMleozp0qRX"
      },
      "source": [
        "trans = trans.drop('Monetary', axis=1)"
      ],
      "execution_count": 427,
      "outputs": []
    },
    {
      "cell_type": "markdown",
      "metadata": {
        "id": "GajfQi5LcPv9"
      },
      "source": [
        "Além disso, as variáveis Frequency e Time não dizem muita coisa sozinhas. \n",
        "\n",
        "Por exemplo, um paciente que começou a doar há pouco tempo (Time baixo) provavelmente doou poucas vezes (Frequency baixo). Já uma paciente que começou há mais tempo (Time mais alto), pode ter doado um número maior de vezes (Frequency mais alto). \n",
        "\n",
        "Analisando estas duas variáveis isoladas, pode parecer que o segundo paciente está mais propenso a uma nova doação do que o primeiro.\n",
        "\n",
        "Contudo, o paciente que doa há pouco tempo pode estar sendo mais aitvo do que o que doa há mais tempo. Essa atividade pode ser medida pela frequência em relação ao tempo, dada por Activity = Frequency / (Time - Recency).\n",
        "\n",
        "Considerando esta nova variável, pode-se concluir que o primeiro paciente, mais ativo, tem mais chace de doar novamente do que o segundo paciente. Portanto, cabe trocar a variávei Frequency pela variável Activity."
      ]
    },
    {
      "cell_type": "code",
      "metadata": {
        "colab": {
          "base_uri": "https://localhost:8080/"
        },
        "id": "jX3gECFKfWBO",
        "outputId": "d8f714d0-5fbc-4049-abb9-682501ec7302"
      },
      "source": [
        "Activity = trans.Frequency / (trans.Time - trans.Recency)\n",
        "Activity"
      ],
      "execution_count": 428,
      "outputs": [
        {
          "output_type": "execute_result",
          "data": {
            "text/plain": [
              "0      0.520833\n",
              "1      0.464286\n",
              "2      0.470588\n",
              "3      0.465116\n",
              "4      0.315789\n",
              "         ...   \n",
              "743    0.133333\n",
              "744    0.064516\n",
              "745    0.076923\n",
              "746         inf\n",
              "747         inf\n",
              "Length: 748, dtype: float64"
            ]
          },
          "metadata": {
            "tags": []
          },
          "execution_count": 428
        }
      ]
    },
    {
      "cell_type": "markdown",
      "metadata": {
        "id": "9z86MdQG1EA_"
      },
      "source": [
        "Ao calcular a variável Activity, obtivemos alguns valores inf. Isto ocorre pois devem haver casos em que as variáveis Time e Recency tem o mesmo valor, ou em que a variáveis Frequency é zero. Vamos chamar este grupo de pacientes de G1."
      ]
    },
    {
      "cell_type": "code",
      "metadata": {
        "colab": {
          "base_uri": "https://localhost:8080/"
        },
        "id": "ShL1jj4d1YSI",
        "outputId": "c311f316-fe99-4119-ddc9-899084cfd9d3"
      },
      "source": [
        "print('Qtd de valores inf em Acticity: {:d}'.format(Activity[Activity == float('inf')].size))\n",
        "\n",
        "g1 = trans[trans.Time == trans.Recency]\n",
        "print('Qtd de amostras em que Time = Recency: {:d}'.format(g1.iloc[:, 0].size))"
      ],
      "execution_count": 161,
      "outputs": [
        {
          "output_type": "stream",
          "text": [
            "Qtd de valores inf em Acticity: 192\n",
            "Qtd de amostras em que Time = Recency: 192\n"
          ],
          "name": "stdout"
        }
      ]
    },
    {
      "cell_type": "code",
      "metadata": {
        "colab": {
          "base_uri": "https://localhost:8080/"
        },
        "id": "tA9pUUiN3BCe",
        "outputId": "dc8825f4-f335-49de-bdb9-dbde1f26030b"
      },
      "source": [
        "g1.Frequency.unique().astype('int')"
      ],
      "execution_count": 162,
      "outputs": [
        {
          "output_type": "execute_result",
          "data": {
            "text/plain": [
              "array([4, 2, 1, 5])"
            ]
          },
          "metadata": {
            "tags": []
          },
          "execution_count": 162
        }
      ]
    },
    {
      "cell_type": "markdown",
      "metadata": {
        "id": "8C3NG0ON3VEE"
      },
      "source": [
        "Nestas amostras temos, portanto, pacientes que doaram pela última vez no mesmo mês em que iniciaram as doações. Cursiosamente, alguns desses pacientes doram mais de uma vez (até 5!), aparentemente no mesmo mês."
      ]
    },
    {
      "cell_type": "code",
      "metadata": {
        "colab": {
          "base_uri": "https://localhost:8080/"
        },
        "id": "NBBNv0Ei4MDK",
        "outputId": "030c8346-03cb-48e9-bf7c-df6fb80b33d0"
      },
      "source": [
        "g1[['Donated']].value_counts(normalize=True)"
      ],
      "execution_count": 164,
      "outputs": [
        {
          "output_type": "execute_result",
          "data": {
            "text/plain": [
              "Donated\n",
              "0.0        0.864583\n",
              "1.0        0.135417\n",
              "dtype: float64"
            ]
          },
          "metadata": {
            "tags": []
          },
          "execution_count": 164
        }
      ]
    },
    {
      "cell_type": "markdown",
      "metadata": {
        "id": "G-Z2NJGV4Vbw"
      },
      "source": [
        "Este grupo de pacientes apresenta chance de repetir a doação em Março de 2017 consideravelmente menor. Enquanto a porcentagem dos que repetiram a doações ficou em 23,8%, no G1 ela caiu para 13,54%. Ou seja, os pacientes deste grupo tendem a doar menos que os demais."
      ]
    },
    {
      "cell_type": "code",
      "metadata": {
        "colab": {
          "base_uri": "https://localhost:8080/",
          "height": 297
        },
        "id": "AFCu2dDWujii",
        "outputId": "6e0bde0e-268c-4095-da3e-553f1398784d"
      },
      "source": [
        "trans[['Recency', 'Frequency', 'Donated']][(trans.Time == trans.Recency)].groupby(['Donated', 'Frequency']).count()"
      ],
      "execution_count": 186,
      "outputs": [
        {
          "output_type": "execute_result",
          "data": {
            "text/html": [
              "<div>\n",
              "<style scoped>\n",
              "    .dataframe tbody tr th:only-of-type {\n",
              "        vertical-align: middle;\n",
              "    }\n",
              "\n",
              "    .dataframe tbody tr th {\n",
              "        vertical-align: top;\n",
              "    }\n",
              "\n",
              "    .dataframe thead th {\n",
              "        text-align: right;\n",
              "    }\n",
              "</style>\n",
              "<table border=\"1\" class=\"dataframe\">\n",
              "  <thead>\n",
              "    <tr style=\"text-align: right;\">\n",
              "      <th></th>\n",
              "      <th></th>\n",
              "      <th>Recency</th>\n",
              "    </tr>\n",
              "    <tr>\n",
              "      <th>Donated</th>\n",
              "      <th>Frequency</th>\n",
              "      <th></th>\n",
              "    </tr>\n",
              "  </thead>\n",
              "  <tbody>\n",
              "    <tr>\n",
              "      <th rowspan=\"4\" valign=\"top\">0.0</th>\n",
              "      <th>1.0</th>\n",
              "      <td>138</td>\n",
              "    </tr>\n",
              "    <tr>\n",
              "      <th>2.0</th>\n",
              "      <td>26</td>\n",
              "    </tr>\n",
              "    <tr>\n",
              "      <th>4.0</th>\n",
              "      <td>1</td>\n",
              "    </tr>\n",
              "    <tr>\n",
              "      <th>5.0</th>\n",
              "      <td>1</td>\n",
              "    </tr>\n",
              "    <tr>\n",
              "      <th rowspan=\"3\" valign=\"top\">1.0</th>\n",
              "      <th>1.0</th>\n",
              "      <td>20</td>\n",
              "    </tr>\n",
              "    <tr>\n",
              "      <th>2.0</th>\n",
              "      <td>5</td>\n",
              "    </tr>\n",
              "    <tr>\n",
              "      <th>4.0</th>\n",
              "      <td>1</td>\n",
              "    </tr>\n",
              "  </tbody>\n",
              "</table>\n",
              "</div>"
            ],
            "text/plain": [
              "                   Recency\n",
              "Donated Frequency         \n",
              "0.0     1.0            138\n",
              "        2.0             26\n",
              "        4.0              1\n",
              "        5.0              1\n",
              "1.0     1.0             20\n",
              "        2.0              5\n",
              "        4.0              1"
            ]
          },
          "metadata": {
            "tags": []
          },
          "execution_count": 186
        }
      ]
    },
    {
      "cell_type": "code",
      "metadata": {
        "colab": {
          "base_uri": "https://localhost:8080/"
        },
        "id": "DhgFxSeE_aZi",
        "outputId": "40317b06-0a67-47e4-9d7d-ad1feab7bdbb"
      },
      "source": [
        "trans[['Donated']][(trans.Time == trans.Recency) & (trans.Recency > 4)].value_counts(normalize=False)"
      ],
      "execution_count": 354,
      "outputs": [
        {
          "output_type": "execute_result",
          "data": {
            "text/plain": [
              "Donated\n",
              "0.0        102\n",
              "1.0          7\n",
              "dtype: int64"
            ]
          },
          "metadata": {
            "tags": []
          },
          "execution_count": 354
        }
      ]
    },
    {
      "cell_type": "markdown",
      "metadata": {
        "id": "MvwMzF2JBALq"
      },
      "source": [
        "Entre os pacientes do G1 que doaram a 5 meses ou mais, probabilidade de repetição da doação cai ainda mais: 6,42%!. Contudo, este subgrupo representa apenas 56,77% do total.\n",
        "\n",
        "Mesmo assim, pode-se dizer que a probabilidade dos pacientes do G1 realizarem uma nova doação é baixa. Portanto, faz sentido que a Activity deles também seja baixa. \n",
        "\n",
        "Portanto, substituiremos os valores inf de Activity por 0."
      ]
    },
    {
      "cell_type": "code",
      "metadata": {
        "id": "5s24BCwDCDNl"
      },
      "source": [
        "Activity.replace(float('inf'), 0, inplace=True)"
      ],
      "execution_count": 429,
      "outputs": []
    },
    {
      "cell_type": "code",
      "metadata": {
        "colab": {
          "base_uri": "https://localhost:8080/",
          "height": 497
        },
        "id": "tGAZnHn7ElUs",
        "outputId": "32187d9e-bc37-4a0f-9633-22bbf74b2eb9"
      },
      "source": [
        "import seaborn as sns\n",
        "\n",
        "trans2 = trans.copy()\n",
        "trans2['Activity'] = Activity\n",
        "\n",
        "fig, axs = plt.subplots(2,2)\n",
        "\n",
        "sns.boxplot(y='Activity', x='Donated', data=trans2, ax=axs[0][0], showfliers=False)\n",
        "sns.boxplot(y='Frequency', x='Donated', data=trans2, ax=axs[0][1], showfliers=False)\n",
        "sns.boxplot(y='Recency', x='Donated', data=trans2, ax=axs[1][0], showfliers=False)\n",
        "sns.boxplot(y='Time', x='Donated', data=trans2, ax=axs[1][1], showfliers=True)\n",
        "\n",
        "axs[1][0].grid(True)\n",
        "\n",
        "fig.set_size_inches(8,8)\n",
        "plt.show()"
      ],
      "execution_count": 430,
      "outputs": [
        {
          "output_type": "display_data",
          "data": {
            "image/png": "[encoded data removed]",
            "text/plain": [
              "<Figure size 576x576 with 4 Axes>"
            ]
          },
          "metadata": {
            "tags": [],
            "needs_background": "light"
          }
        }
      ]
    },
    {
      "cell_type": "markdown",
      "metadata": {
        "id": "BBq6bS5iHlny"
      },
      "source": [
        "Pelos gráficos, podemos perceber que:\n",
        "* A variável Recency parece boa para a previsão: se está abaixo de 5, há maior chance de positivos.\n",
        "* A variável Time, contudo, é péssima para previsão: seu comportamento é muito parecido para ambos os casos, positivo e negativo.\n",
        "* As variáveis Frequency e Activity tem um comportamento semelhante, no sentido de que o terceiro quartil dos casos negativos tem interseção com o primeiro quartil dos casos positivos. Além disso, tem compostamentos distintos para os casos positivo e negativo\n",
        "\n",
        "Portanto, a variável Time pode ser desconsiderada."
      ]
    },
    {
      "cell_type": "code",
      "metadata": {
        "id": "F2d_5jfbKOe9"
      },
      "source": [
        "trans2.drop('Time', axis=1, inplace=True)"
      ],
      "execution_count": 431,
      "outputs": []
    },
    {
      "cell_type": "code",
      "metadata": {
        "colab": {
          "base_uri": "https://localhost:8080/"
        },
        "id": "Kim3cnZwKVxQ",
        "outputId": "598e00c3-7daa-4aff-ccbb-89f24c7953a9"
      },
      "source": [
        "trans2[trans2.Recency <= 5][['Donated']].value_counts(normalize=True)"
      ],
      "execution_count": 432,
      "outputs": [
        {
          "output_type": "execute_result",
          "data": {
            "text/plain": [
              "Donated\n",
              "0.0        0.627072\n",
              "1.0        0.372928\n",
              "dtype: float64"
            ]
          },
          "metadata": {
            "tags": []
          },
          "execution_count": 432
        }
      ]
    },
    {
      "cell_type": "markdown",
      "metadata": {
        "id": "miWouHELfWoH"
      },
      "source": [
        "Ainda, observa-se que a variável Recency, isolada, também não é um bom indicativo para prever a doação futura. \n",
        "\n",
        "Alguns doadores de sangue mantém uma periodicidade nas doações, ou seja, fazem uma doação a cada X meses. O valor médio desta periodicidade pode ser dado pelo inverso da Activity ((Time - Recency) / Frequency). Cabe avaliar, portanto, se o intervalo de tempo entre a data de análise, Março de 2007, e a data da última doação (Recency) corresponde à periodicidade do paciente."
      ]
    },
    {
      "cell_type": "code",
      "metadata": {
        "colab": {
          "base_uri": "https://localhost:8080/"
        },
        "id": "DrcZcbl6tnTq",
        "outputId": "38a23a22-9177-4773-cdd9-a1e3c8bd4920"
      },
      "source": [
        "Period = 1 / trans2.Activity\n",
        "trans2[(Period <= trans2.Recency + 5) & (Period >= trans2.Recency - 5)][['Donated']].value_counts(normalize=True)"
      ],
      "execution_count": 433,
      "outputs": [
        {
          "output_type": "execute_result",
          "data": {
            "text/plain": [
              "Donated\n",
              "0.0        0.58042\n",
              "1.0        0.41958\n",
              "dtype: float64"
            ]
          },
          "metadata": {
            "tags": []
          },
          "execution_count": 433
        }
      ]
    },
    {
      "cell_type": "code",
      "metadata": {
        "colab": {
          "base_uri": "https://localhost:8080/",
          "height": 282
        },
        "id": "od91E2JCR4sU",
        "outputId": "45ce7edc-a8e6-454d-b86e-835464c781c5"
      },
      "source": [
        "Period[Period != float('inf')].hist(bins=30)"
      ],
      "execution_count": 400,
      "outputs": [
        {
          "output_type": "execute_result",
          "data": {
            "text/plain": [
              "<matplotlib.axes._subplots.AxesSubplot at 0x7f9a6505f290>"
            ]
          },
          "metadata": {
            "tags": []
          },
          "execution_count": 400
        },
        {
          "output_type": "display_data",
          "data": {
            "image/png": "[encoded data removed]",
            "text/plain": [
              "<Figure size 432x288 with 1 Axes>"
            ]
          },
          "metadata": {
            "tags": [],
            "needs_background": "light"
          }
        }
      ]
    },
    {
      "cell_type": "markdown",
      "metadata": {
        "id": "hAPfYvlLtakC"
      },
      "source": [
        ""
      ]
    },
    {
      "cell_type": "markdown",
      "metadata": {
        "id": "mcjblVAKa-mx"
      },
      "source": [
        "Na célula a seguir, complete o código para realizar o split treino, validação e teste."
      ]
    },
    {
      "cell_type": "code",
      "metadata": {
        "colab": {
          "base_uri": "https://localhost:8080/"
        },
        "id": "JERp0PpLS_bf",
        "outputId": "4f14f155-8a65-4358-89fc-824778b3be95"
      },
      "source": [
        "# Separar a variável resposta\n",
        "X = np.delete(data, -1, 1)\n",
        "y = data[:, [-1]].ravel()\n",
        "\n",
        "print(\"X\", X.shape)\n",
        "print(\"y\", y.shape)"
      ],
      "execution_count": 420,
      "outputs": [
        {
          "output_type": "stream",
          "text": [
            "X (748, 4)\n",
            "y (748,)\n"
          ],
          "name": "stdout"
        }
      ]
    },
    {
      "cell_type": "code",
      "metadata": {
        "id": "TvK8yIvkTGiq"
      },
      "source": [
        "X = trans2[['Recency', 'Activity']].values\n",
        "y = trans[['Donated']].values"
      ],
      "execution_count": 562,
      "outputs": []
    },
    {
      "cell_type": "code",
      "metadata": {
        "exid": "6.5.2",
        "id": "9Jh45uFWa-my",
        "colab": {
          "base_uri": "https://localhost:8080/"
        },
        "outputId": "8c16c2cd-5a4b-4e5e-b7c6-c3f38969e994"
      },
      "source": [
        "from sklearn.model_selection import train_test_split\n",
        "\n",
        "seed = 1\n",
        "\n",
        "#Construa os Datasets de Treino e Teste\n",
        "X_training, X_test, y_training, y_test = train_test_split(X, y, random_state=seed, test_size=0.25, stratify=y)\n",
        "\n",
        "print(\"Conjunto de teste X\", X_test.shape)\n",
        "print(\"Conjunto de teste y\", y_test.shape)\n",
        "\n",
        "#Construa o Dataset de Validação\n",
        "X_train, X_val, y_train, y_val = train_test_split(X_training, y_training, random_state=seed,\n",
        "                         test_size=0.33, stratify=y_training)\n",
        "\n",
        "print(\"Conjunto de treino X\", X_train.shape)\n",
        "print(\"Conjunto de treino y\", y_train.shape)\n",
        "print(\"Conjunto de validação X\", X_val.shape)\n",
        "print(\"Conjunto de validação y\", y_val.shape)"
      ],
      "execution_count": 564,
      "outputs": [
        {
          "output_type": "stream",
          "text": [
            "Conjunto de teste X (187, 2)\n",
            "Conjunto de teste y (187, 1)\n",
            "Conjunto de treino X (375, 2)\n",
            "Conjunto de treino y (375, 1)\n",
            "Conjunto de validação X (186, 2)\n",
            "Conjunto de validação y (186, 1)\n"
          ],
          "name": "stdout"
        }
      ]
    },
    {
      "cell_type": "markdown",
      "metadata": {
        "id": "3q2ExDaZsqhD"
      },
      "source": [
        "##### DT"
      ]
    },
    {
      "cell_type": "markdown",
      "metadata": {
        "id": "NDMeKhFva-m5"
      },
      "source": [
        "Agora, use a célula abaixo para treinar uma árvore de decisão. Brinque com os hiperparâmetros para ver a influência de cada um na performance final. Atente-se para as métricas de avaliação para evitar o overfit."
      ]
    },
    {
      "cell_type": "code",
      "metadata": {
        "exid": "6.5.3",
        "id": "npw5so4Wa-m7",
        "colab": {
          "base_uri": "https://localhost:8080/",
          "height": 517
        },
        "outputId": "0134314c-727e-4ea5-d34e-07722785c810"
      },
      "source": [
        "from sklearn.tree import DecisionTreeClassifier\n",
        "from sklearn.metrics import classification_report, confusion_matrix, roc_auc_score\n",
        "from sklearn.model_selection import cross_val_score\n",
        "\n",
        "# Árvore de decisão\n",
        "\n",
        "# Gerar um objeto árvore\n",
        "tree = DecisionTreeClassifier(\n",
        "    random_state=seed, \n",
        "    max_depth=3, \n",
        "    min_samples_split=2,\n",
        "    min_samples_leaf=1)\n",
        "\n",
        "# Fitar o modelo usando o dataset de treino\n",
        "tree.fit(X_train, y_train)\n",
        "\n",
        "# Prever no dataset de validação\n",
        "y_pred_tree = tree.predict(X_val)\n",
        "\n",
        "# Calcular e printar métricas\n",
        "print(\"Acurácia no conjunto de treino: {:.3f}\".format(tree.score(X_train, y_train)))\n",
        "print(\"Acurácia no conjunto de validação: {:.3f}\".format(tree.score(X_val, y_val)))\n",
        "print(classification_report(y_val, y_pred_tree))\n",
        "print(confusion_matrix(y_val, y_pred_tree))\n",
        "print(\"AUC: {:.3f}\".format(roc_auc_score(y_val, y_pred_tree)))\n",
        "\n",
        "def plot_feature_importances_cancer(model):\n",
        "    n_features = 2\n",
        "    plt.barh(range(n_features), model.feature_importances_, align='center')\n",
        "    plt.yticks(np.arange(n_features), ['Recency', 'Activity', 'Frequency'])\n",
        "    plt.xlabel(\"Feature importance\")\n",
        "    plt.ylabel(\"Feature\")\n",
        "    plt.ylim(-1, n_features)\n",
        "    \n",
        "plot_feature_importances_cancer(tree)"
      ],
      "execution_count": 567,
      "outputs": [
        {
          "output_type": "stream",
          "text": [
            "Acurácia no conjunto de treino: 0.803\n",
            "Acurácia no conjunto de validação: 0.780\n",
            "              precision    recall  f1-score   support\n",
            "\n",
            "         0.0       0.83      0.89      0.86       142\n",
            "         1.0       0.54      0.43      0.48        44\n",
            "\n",
            "    accuracy                           0.78       186\n",
            "   macro avg       0.69      0.66      0.67       186\n",
            "weighted avg       0.77      0.78      0.77       186\n",
            "\n",
            "[[126  16]\n",
            " [ 25  19]]\n",
            "AUC: 0.660\n"
          ],
          "name": "stdout"
        },
        {
          "output_type": "display_data",
          "data": {
            "image/png": "[encoded data removed]",
            "text/plain": [
              "<Figure size 432x288 with 1 Axes>"
            ]
          },
          "metadata": {
            "tags": [],
            "needs_background": "light"
          }
        }
      ]
    },
    {
      "cell_type": "markdown",
      "metadata": {
        "id": "iJSRpsbH9zmD"
      },
      "source": [
        "Em teste manuais na mesma célula, percebeu-se que a alteração de nenhum dos três hiperparâmetros experimentados teve efeito significativo sobre o valor da acurácia ou da AUC. Portanto, não vale a pena fazer uma investigação mais profunda com o Grid Search."
      ]
    },
    {
      "cell_type": "markdown",
      "metadata": {
        "id": "35okeucRst3S"
      },
      "source": [
        "##### RegLog"
      ]
    },
    {
      "cell_type": "markdown",
      "metadata": {
        "id": "xfVHl9gWa-nA"
      },
      "source": [
        "Construa agora um modelo de regressão logística, tentando diferentes hiperparâmetros."
      ]
    },
    {
      "cell_type": "code",
      "metadata": {
        "exid": "6.5.4",
        "id": "boiKrwh9a-nA",
        "colab": {
          "base_uri": "https://localhost:8080/"
        },
        "outputId": "75a7a2f9-9bf9-457f-ed7a-0ae93bdb2a35"
      },
      "source": [
        "# Regressão logística\n",
        "\n",
        "from sklearn.linear_model import LogisticRegression\n",
        "\n",
        "logreg = LogisticRegression(C=1)\n",
        "\n",
        "logreg.fit(X_train, y_train)\n",
        "\n",
        "y_pred_logreg = logreg.predict(X_val)\n",
        "\n",
        "print(\"Acurácia no dataset de treino: {:.3f}\".format(logreg.score(X_train, y_train)))\n",
        "print(\"Acurácia no dataset de validação: {:.3f}\".format(logreg.score(X_val, y_val)))\n",
        "print(classification_report(y_val, y_pred_logreg))\n",
        "print(confusion_matrix(y_val, y_pred_tree))\n",
        "print(\"AUC: {:.3f}\".format(roc_auc_score(y_val, y_pred_tree)))"
      ],
      "execution_count": 540,
      "outputs": [
        {
          "output_type": "stream",
          "text": [
            "Acurácia no dataset de treino: 0.771\n",
            "Acurácia no dataset de validação: 0.763\n",
            "              precision    recall  f1-score   support\n",
            "\n",
            "         0.0       0.77      0.98      0.86       142\n",
            "         1.0       0.50      0.07      0.12        44\n",
            "\n",
            "    accuracy                           0.76       186\n",
            "   macro avg       0.64      0.52      0.49       186\n",
            "weighted avg       0.71      0.76      0.69       186\n",
            "\n",
            "[[126  16]\n",
            " [ 25  19]]\n",
            "AUC: 0.660\n"
          ],
          "name": "stdout"
        },
        {
          "output_type": "stream",
          "text": [
            "/usr/local/lib/python3.7/dist-packages/sklearn/utils/validation.py:760: DataConversionWarning: A column-vector y was passed when a 1d array was expected. Please change the shape of y to (n_samples, ), for example using ravel().\n",
            "  y = column_or_1d(y, warn=True)\n"
          ],
          "name": "stderr"
        }
      ]
    },
    {
      "cell_type": "markdown",
      "metadata": {
        "id": "gEoCcbC9-WSG"
      },
      "source": [
        "Aqui, também verificou-se que a alteração do hiperparâmetro de regularização (C) não foi afetiva na otimização das métricas de acurácia e AUC. Portanto, não cabe a utilização do Search Grid."
      ]
    },
    {
      "cell_type": "markdown",
      "metadata": {
        "id": "PNdI4D_SswP1"
      },
      "source": [
        "##### XGBoost"
      ]
    },
    {
      "cell_type": "markdown",
      "metadata": {
        "id": "wKFTSJrEa-nD"
      },
      "source": [
        "Como último modelo, treine um XGBoost, novamente alterando os hiperparâmetros e avaliando seu efeito."
      ]
    },
    {
      "cell_type": "code",
      "metadata": {
        "exid": "6.5.5",
        "id": "aE9rEpDDa-nD",
        "colab": {
          "base_uri": "https://localhost:8080/"
        },
        "outputId": "ce7fef35-8911-471e-e433-7fff47c4feb0"
      },
      "source": [
        "# XGBOOST\n",
        "import xgboost as xgb\n",
        "\n",
        "xgb_model = xgb.XGBClassifier(objective=\"binary:logistic\", random_state=seed, eval_metric=\"auc\", use_label_encoder=False,\n",
        "                              colsample_bytree=1, learning_rate=0.2, max_depth=3, alpha=5, n_estimators=10)\n",
        "\n",
        "xgb_model.fit(X_train, y_train)\n",
        "\n",
        "y_pred_xgb = xgb_model.predict(X_val)\n",
        "\n",
        "print(\"Acurácia no dataset de treino: {:.3f}\".format(xgb_model.score(X_train, y_train)))\n",
        "print(\"Acurácia no dataset de validação: {:.3f}\".format(xgb_model.score(X_val, y_val)))\n",
        "print(classification_report(y_val, y_pred_xgb))\n",
        "print(confusion_matrix(y_val, y_pred_xgb))\n",
        "print(\"AUC: {:.3f}\".format(roc_auc_score(y_val, y_pred_xgb)))"
      ],
      "execution_count": 530,
      "outputs": [
        {
          "output_type": "stream",
          "text": [
            "Acurácia no dataset de treino: 0.811\n",
            "Acurácia no dataset de validação: 0.790\n",
            "              precision    recall  f1-score   support\n",
            "\n",
            "         0.0       0.82      0.94      0.87       142\n",
            "         1.0       0.61      0.32      0.42        44\n",
            "\n",
            "    accuracy                           0.79       186\n",
            "   macro avg       0.71      0.63      0.65       186\n",
            "weighted avg       0.77      0.79      0.76       186\n",
            "\n",
            "[[133   9]\n",
            " [ 30  14]]\n",
            "AUC: 0.627\n"
          ],
          "name": "stdout"
        },
        {
          "output_type": "stream",
          "text": [
            "/usr/local/lib/python3.7/dist-packages/sklearn/preprocessing/_label.py:235: DataConversionWarning: A column-vector y was passed when a 1d array was expected. Please change the shape of y to (n_samples, ), for example using ravel().\n",
            "  y = column_or_1d(y, warn=True)\n",
            "/usr/local/lib/python3.7/dist-packages/sklearn/preprocessing/_label.py:268: DataConversionWarning: A column-vector y was passed when a 1d array was expected. Please change the shape of y to (n_samples, ), for example using ravel().\n",
            "  y = column_or_1d(y, warn=True)\n"
          ],
          "name": "stderr"
        }
      ]
    },
    {
      "cell_type": "markdown",
      "metadata": {
        "id": "SkCN-sKCG85-"
      },
      "source": [
        "Para o XGBoost, a alteração dos hiperparâmetros `max_depth` e `colsample_bytree` de 4 para 6 e de 0.3 para 1.0, respectivamente, foram as alterações que otimizaram as métricas de avaliação. \n",
        "\n",
        "Mesmo assim, apesar de termos uma acurácia de 80% para o dataset de validação, temos uma AUC muito baixa, de 0.627, o que indica que o modelo ainda erra bastante. De fato, analisando a matriz de confusão, notamos que o recall é bem baixo: 0.30. Ou seja, o modelo apresenta alto índice de falsos negativos."
      ]
    },
    {
      "cell_type": "markdown",
      "metadata": {
        "id": "Kl50JT4ma-nH"
      },
      "source": [
        "Avalie todos os modelos construídos no dataset de teste e escolha aquele que melhor performa de acordo com sua métrica de avalição escolhida (não há necessidade de manter a métrica usada. Sinta-se livre para escolher qualquer outra). Explique brevemente a razão da escolha da métrica."
      ]
    },
    {
      "cell_type": "markdown",
      "metadata": {
        "id": "gGtz6SKNDZaL"
      },
      "source": [
        "##### Avaliação"
      ]
    },
    {
      "cell_type": "markdown",
      "metadata": {
        "id": "fYNQQJcD_pN6"
      },
      "source": [
        "Do ponto de vista do banco de sangue, uma projeção pessimista (com excesso de falsos negativos) podem trazer tanta dor de cabeça quanto uma projeção demais otimista (com muitos falsos positivos). No primeiro caso, poderia haver esforçoes desnecessário em camapanhas publicitárias, por exemplo, resultado em gastos excessivos. No último caso, a dispinibilidade de sangue no banco ao final do período avaliado seria menor do que a esperada, prejudicando as projeções do banco para utilização do sange coletado.\n",
        "\n",
        "Sendo assim, seria interessante minimizar ambos os erros do modelo: falsos negativos e falsos positivos. Utilizaremos, portanto, a métrica que nos fornece uma avaliação do índice de acertos das previsões, sem considerar o tipo de erro: a acurácia. "
      ]
    },
    {
      "cell_type": "code",
      "metadata": {
        "exid": "6.5.6",
        "id": "gBEj09ORa-nI",
        "colab": {
          "base_uri": "https://localhost:8080/"
        },
        "outputId": "7fab2ea2-33a2-443c-e835-bcb21fce4306"
      },
      "source": [
        "#Defina a métrica e avalie os modelos\n",
        "print(\"Acurácia do DT: {:.3f}\".format(tree.score(X_val, y_val)))\n",
        "print(\"Acurácia da RegLog: {:.3f}\".format(logreg.score(X_val, y_val)))\n",
        "print(\"Acurácia do XGBoost: {:.3f}\".format(xgb_model.score(X_val, y_val)))"
      ],
      "execution_count": 38,
      "outputs": [
        {
          "output_type": "stream",
          "text": [
            "Acurácia do DT: 0.785\n",
            "Acurácia da RegLog: 0.780\n",
            "Acurácia do XGBoost: 0.801\n"
          ],
          "name": "stdout"
        }
      ]
    },
    {
      "cell_type": "markdown",
      "metadata": {
        "id": "JYDmz_uaGcz-"
      },
      "source": [
        "Novamente, é o XGBoost quem apresenta a melhor métrica de avaliação e, consequentemente, ele seria o modelo escolhido para essa aplicação."
      ]
    },
    {
      "cell_type": "markdown",
      "metadata": {
        "id": "KCvTenGga-nN"
      },
      "source": [
        "<a id=\"multiclass\"></a>\n",
        "## 7. Classificação Multiclasse"
      ]
    },
    {
      "cell_type": "markdown",
      "metadata": {
        "id": "XALKaGTva-nO"
      },
      "source": [
        "### 7.1. Definição do Problema"
      ]
    },
    {
      "cell_type": "markdown",
      "metadata": {
        "id": "X9cYvb-oa-nP"
      },
      "source": [
        "Primeiramente, cabe distinguirmos os conceitos de classificação multiclasse e multirótulo (multilabel).\n",
        "\n",
        "* **Classificação multiclasse** corresponde a uma classificação em mais de duas classes. Exemplos: classificar um conjunto de imagem de frutas que podem ser laranjas, maçãs ou peras. Classificação multiclasse assume que cada amostra pertence a uma e apenas uma classe (isto é, são mutualmente excludentes). Uma laranja não pode ser uma pera ao mesmo tempo.\n",
        "\n",
        "* **Classificação multilabel** atribui a cada amostra um conjunto diferente de rótulos. Isto pode ser pensado como prever propriedades de um ponto de dado que não sejam mutualmente excludentes. Exemplos: gêneros de filmes e tópicos de um documento. Um filme pode ser tanto comédia como romance e um texto pode falar tanto sobre política quanto sobre educação."
      ]
    },
    {
      "cell_type": "markdown",
      "metadata": {
        "id": "SrrUscxDa-nS"
      },
      "source": [
        "Muitos dos algoritmos usados para classificação binária também servem para classificação multiclasse (e também para tarefas de regressão).\n",
        "\n",
        "Outros algoritmos, como Suport Vector Machines (SVM) ou preditores lineares (como a regressão logística), são estritamente para problemas binários. Entretanto, existem diferentes estratégias para realizar uma classificação multiclasse com preditores binários."
      ]
    },
    {
      "cell_type": "markdown",
      "metadata": {
        "id": "zTsfaWg5a-nT"
      },
      "source": [
        "* Um contra todos (One-Versus-All) é uma estratégia em que um classificador é treinado para cada classe no dataset (a classe correspondente é tratada como positiva e todas as outras, negativas). Então, a amostra é fornecida como input para todos os classificadores e aquele que retorna a maior probabilidade é escolhido como previsão.\n",
        "\n",
        "* Um contra um (One-Versus-One) é uma estratégia que treina diferentes modelos para cada par de classes. Desta forma, se existem N classes, são necessários, $\\frac{N(N-1)}{2}$ preditores. Uma das vantagens é que cada classificador precisa apenas ser treinado em um subconjunto do dataset de treino. Para a previsão, todos os $\\frac{N(N-1)}{2}$ são utilizados e a classe com a maior quantidade de previsões positivas é tomada como a previsão final."
      ]
    },
    {
      "cell_type": "markdown",
      "metadata": {
        "id": "LQ1r2G2Ka-nT"
      },
      "source": [
        "A grande vantagem do ```scikitlearn``` é que ele detecta quando tenta-se usar um classificador binário para uma tarefa multiclasse. Neste caso, usa-se automáticamente a estratégia OvA (exceto para o algoritmo SVM)"
      ]
    },
    {
      "cell_type": "markdown",
      "metadata": {
        "id": "ulv_F84Ka-nU"
      },
      "source": [
        "### 7.2. Código"
      ]
    },
    {
      "cell_type": "markdown",
      "metadata": {
        "id": "FIPtwR3Qa-nU"
      },
      "source": [
        "Para treinar nosso estimador multiclasse, vamos usar o dataset MNIST, que contém imagens de dígitos numéricos de 0 a 9 escritos a mão.\n",
        "\n",
        "Este conjunto de dados é largamente conhecido e utilizado. O objetivo é prever o digito a partir da imagem fornecida."
      ]
    },
    {
      "cell_type": "markdown",
      "metadata": {
        "id": "EpcYbgpxa-nV"
      },
      "source": [
        "<center>\n",
        "\n",
        "![MNIST](https://miro.medium.com/max/584/1*2lSjt9YKJn9sxK7DSeGDyw.jpeg)\n",
        "\n",
        "</center>"
      ]
    },
    {
      "cell_type": "code",
      "metadata": {
        "id": "a3JbEUG0a-nX"
      },
      "source": [
        "from sklearn.datasets import load_digits\n",
        "from sklearn.model_selection import train_test_split\n",
        "\n",
        "digits = load_digits()\n",
        "\n",
        "X_train, X_test, y_train, y_test = train_test_split(\n",
        "  digits.data, digits.target, stratify=digits.target, random_state=42\n",
        ")"
      ],
      "execution_count": 39,
      "outputs": []
    },
    {
      "cell_type": "markdown",
      "metadata": {
        "id": "D94U2vj-3OK0"
      },
      "source": [
        "Note que as imagens tem dimensão 8x8 pixels, o que corresponde a 64 variáveis/features diferentes (onde cada pixel é uma variável independente diferente). E quanto maior o valor da variável, mais claro é o tom daquele pixel."
      ]
    },
    {
      "cell_type": "code",
      "metadata": {
        "id": "dR7AESgDuX_B",
        "colab": {
          "base_uri": "https://localhost:8080/",
          "height": 401
        },
        "outputId": "d18c7cec-9d9a-4606-bf9b-980e1dc91df6"
      },
      "source": [
        "import matplotlib.pyplot as plt\n",
        "\n",
        "%matplotlib inline\n",
        "\n",
        "# Mostrar exemplo de amostra\n",
        "print(X_test[5].reshape(8, -1))\n",
        "_ = plt.imshow(X_test[5].reshape(8, -1), cmap='gray')"
      ],
      "execution_count": 40,
      "outputs": [
        {
          "output_type": "stream",
          "text": [
            "[[ 0.  0.  0.  8. 12.  1.  0.  0.]\n",
            " [ 0.  0.  1. 15. 12.  1.  0.  0.]\n",
            " [ 0.  0.  6. 16.  3.  0.  0.  0.]\n",
            " [ 0.  0.  7. 16.  1.  0.  0.  0.]\n",
            " [ 0.  1. 16. 16. 14.  5.  0.  0.]\n",
            " [ 0.  1. 12. 16.  6. 14.  9.  0.]\n",
            " [ 0.  0.  2. 16.  6. 10. 15.  0.]\n",
            " [ 0.  0.  0.  6. 16. 16. 11.  0.]]\n"
          ],
          "name": "stdout"
        },
        {
          "output_type": "display_data",
          "data": {
            "image/png": "[encoded data removed]",
            "text/plain": [
              "<Figure size 432x288 with 1 Axes>"
            ]
          },
          "metadata": {
            "tags": [],
            "needs_background": "light"
          }
        }
      ]
    },
    {
      "cell_type": "markdown",
      "metadata": {
        "id": "EKsNX8Lya-na"
      },
      "source": [
        "Inicialmente usaremos um modelo linear chamado SGD, que utiliza como treinamento o método de gradiente descendente (o mesmo usado para treinar redes neurais), mas a escolha pode ser qualquer outra."
      ]
    },
    {
      "cell_type": "code",
      "metadata": {
        "id": "xk70GWpRa-nb",
        "colab": {
          "base_uri": "https://localhost:8080/"
        },
        "outputId": "244b7229-1743-40cc-f47e-2ee0fed7775a"
      },
      "source": [
        "from sklearn.linear_model import SGDClassifier\n",
        "\n",
        "sgd_clf = SGDClassifier(random_state=42)\n",
        "sgd_clf.fit(X_train, y_train)"
      ],
      "execution_count": 41,
      "outputs": [
        {
          "output_type": "execute_result",
          "data": {
            "text/plain": [
              "SGDClassifier(alpha=0.0001, average=False, class_weight=None,\n",
              "              early_stopping=False, epsilon=0.1, eta0=0.0, fit_intercept=True,\n",
              "              l1_ratio=0.15, learning_rate='optimal', loss='hinge',\n",
              "              max_iter=1000, n_iter_no_change=5, n_jobs=None, penalty='l2',\n",
              "              power_t=0.5, random_state=42, shuffle=True, tol=0.001,\n",
              "              validation_fraction=0.1, verbose=0, warm_start=False)"
            ]
          },
          "metadata": {
            "tags": []
          },
          "execution_count": 41
        }
      ]
    },
    {
      "cell_type": "code",
      "metadata": {
        "id": "pD3MljWIa-nf",
        "colab": {
          "base_uri": "https://localhost:8080/"
        },
        "outputId": "587021a3-9e78-42ad-d4e0-66a3c58c5429"
      },
      "source": [
        "# Testar uma previsão\n",
        "print('Resposta: ', y_test[5])\n",
        "print('Previsão: ', sgd_clf.predict(X_test[5].reshape(1,-1))[0])"
      ],
      "execution_count": 42,
      "outputs": [
        {
          "output_type": "stream",
          "text": [
            "Resposta:  6\n",
            "Previsão:  6\n"
          ],
          "name": "stdout"
        }
      ]
    },
    {
      "cell_type": "markdown",
      "metadata": {
        "id": "F69Fe3uKa-nk"
      },
      "source": [
        "Simples, não? O código já encapsula e abstrai todo a implementação da estratégia de classificação multiclasse usando um preditor binário. Por trás do treino, a biblioteca do ```scikit-learn``` treinou 10 modelos diferentes e os usou para realizar a previsão.\n",
        "\n",
        "Você pode usar a função ```decision_function()``` para retornar todos os scores da previsão das 10 classes."
      ]
    },
    {
      "cell_type": "code",
      "metadata": {
        "id": "GO1AB6Ywa-nl",
        "colab": {
          "base_uri": "https://localhost:8080/"
        },
        "outputId": "f2327ee8-97dd-43b5-c28d-2a2986aa4aae"
      },
      "source": [
        "digit_score = sgd_clf.decision_function(X_test[5].reshape(1, -1))\n",
        "digit_score"
      ],
      "execution_count": 43,
      "outputs": [
        {
          "output_type": "execute_result",
          "data": {
            "text/plain": [
              "array([[-6742.120961  ,  -447.94292282, -2433.29785652, -2155.72020851,\n",
              "        -2140.16728557, -3803.14479006,  1175.23077843, -4393.05258444,\n",
              "        -1151.87377463, -3802.06363924]])"
            ]
          },
          "metadata": {
            "tags": []
          },
          "execution_count": 43
        }
      ]
    },
    {
      "cell_type": "markdown",
      "metadata": {
        "id": "5dQTn4a3a-nq"
      },
      "source": [
        "Nele é possível ver que o maior score realmente pertence à classe 6."
      ]
    },
    {
      "cell_type": "markdown",
      "metadata": {
        "id": "-jlwXUYEa-nq"
      },
      "source": [
        "Caso deseje forçar o ```scikitlearn``` a usar uma estratégia ou outra, você pode usar as classes ```OneVsOneClassifier``` ou ```OneVsRestClassifier```.\n",
        "\n",
        "Basta criar uma instância da classe que implementa a estratégia desejada passando um preditor binário como argumento do método construtor da classe. Abaixo um exemplo que cria um classificador multiclasse usando a estratégia OvO e o preditor SGD."
      ]
    },
    {
      "cell_type": "code",
      "metadata": {
        "id": "NavQE_hta-nr",
        "colab": {
          "base_uri": "https://localhost:8080/"
        },
        "outputId": "b57b6baa-061c-41c7-da1f-7d27e93779fb"
      },
      "source": [
        "from sklearn.multiclass import OneVsOneClassifier\n",
        "\n",
        "ovo_clf = OneVsOneClassifier(SGDClassifier(random_state=42))\n",
        "ovo_clf.fit(X_train, y_train)\n",
        "ovo_clf.predict(X_test[5].reshape(1, -1))\n",
        "len(ovo_clf.estimators_)"
      ],
      "execution_count": 44,
      "outputs": [
        {
          "output_type": "execute_result",
          "data": {
            "text/plain": [
              "45"
            ]
          },
          "metadata": {
            "tags": []
          },
          "execution_count": 44
        }
      ]
    },
    {
      "cell_type": "markdown",
      "metadata": {
        "id": "XrM_ZNlfa-ny"
      },
      "source": [
        "Podemos ver que o número de estimadores treinados corresponde à formula\n",
        "\n",
        "$\\frac{(10(10-1))}{2}$ = 45"
      ]
    },
    {
      "cell_type": "markdown",
      "metadata": {
        "id": "J4bX07SVa-ny"
      },
      "source": [
        "Vamos agora treinar um modelo de floresta aleatória (random forest)\n"
      ]
    },
    {
      "cell_type": "code",
      "metadata": {
        "id": "n07Ncr0ba-nz",
        "colab": {
          "base_uri": "https://localhost:8080/"
        },
        "outputId": "00bf09a7-931e-492a-f076-fbc723fb2099"
      },
      "source": [
        "from sklearn.ensemble import RandomForestClassifier\n",
        "\n",
        "forest_clf = RandomForestClassifier(random_state=42)\n",
        "forest_clf.fit(X_train, y_train)\n",
        "forest_clf.predict(X_test[5].reshape(1, -1))"
      ],
      "execution_count": 45,
      "outputs": [
        {
          "output_type": "execute_result",
          "data": {
            "text/plain": [
              "array([6])"
            ]
          },
          "metadata": {
            "tags": []
          },
          "execution_count": 45
        }
      ]
    },
    {
      "cell_type": "markdown",
      "metadata": {
        "id": "CGuL39KUa-n2"
      },
      "source": [
        "Neste caso, como o Random Forest é um algoritmo que implementa a classificação multiclasse por natureza, não há a necessidade de rodar uma das estratégias OvA ou OvO. \n",
        "\n",
        "Você pode chamar a função ```predict_proba()``` para obter a lista de probabilidades que o classificador atribuiu para cada instância e cada classe."
      ]
    },
    {
      "cell_type": "code",
      "metadata": {
        "id": "zcnFQ2jsa-n3",
        "colab": {
          "base_uri": "https://localhost:8080/"
        },
        "outputId": "6fbc0d76-23b3-4b45-b7ca-e9c3eed8165f"
      },
      "source": [
        "forest_clf.predict_proba(X_test[5].reshape(1, -1))"
      ],
      "execution_count": 46,
      "outputs": [
        {
          "output_type": "execute_result",
          "data": {
            "text/plain": [
              "array([[0.  , 0.04, 0.01, 0.01, 0.01, 0.03, 0.87, 0.  , 0.02, 0.01]])"
            ]
          },
          "metadata": {
            "tags": []
          },
          "execution_count": 46
        }
      ]
    },
    {
      "cell_type": "markdown",
      "metadata": {
        "id": "tToPHGa8a-n-"
      },
      "source": [
        "Podemos ver que o preditor é suficientemente confiante de sua previsão, atribuindo aproximadamente 90% de probabilidade da amostra ser um dígito 6."
      ]
    },
    {
      "cell_type": "markdown",
      "metadata": {
        "id": "rSLw97iMa-n_"
      },
      "source": [
        "### 7.3. Avaliação do Modelo"
      ]
    },
    {
      "cell_type": "markdown",
      "metadata": {
        "id": "XHM7mKhDa-oB"
      },
      "source": [
        "Agora, podemos analisar a performance do preditor usando as funções ```cross_val_score()``` e ```confusion_matrix()```"
      ]
    },
    {
      "cell_type": "code",
      "metadata": {
        "id": "R14k_TNBa-oC",
        "colab": {
          "base_uri": "https://localhost:8080/"
        },
        "outputId": "9ca00e78-c83a-4d36-9a92-ea98e6b9dc49"
      },
      "source": [
        "from sklearn.model_selection import cross_val_predict\n",
        "from sklearn.metrics import confusion_matrix\n",
        "\n",
        "y_train_pred = cross_val_predict(sgd_clf, X_train, y_train, cv=3)\n",
        "conf_mx = confusion_matrix(y_train, y_train_pred)\n",
        "conf_mx"
      ],
      "execution_count": 47,
      "outputs": [
        {
          "output_type": "execute_result",
          "data": {
            "text/plain": [
              "array([[132,   0,   0,   0,   0,   1,   0,   0,   0,   0],\n",
              "       [  0, 125,   1,   3,   2,   0,   1,   0,   3,   1],\n",
              "       [  0,   1, 129,   0,   0,   0,   0,   0,   2,   1],\n",
              "       [  0,   0,   0, 127,   0,   3,   0,   2,   4,   1],\n",
              "       [  0,   3,   0,   0, 131,   0,   0,   1,   1,   0],\n",
              "       [  0,   2,   0,   1,   1, 128,   1,   1,   0,   2],\n",
              "       [  0,   1,   0,   0,   0,   1, 134,   0,   0,   0],\n",
              "       [  0,   0,   0,   2,   1,   0,   0, 129,   1,   1],\n",
              "       [  0,  10,   0,   8,   0,   0,   1,   0, 112,   0],\n",
              "       [  0,   4,   0,   8,   0,   1,   0,   3,   4, 115]])"
            ]
          },
          "metadata": {
            "tags": []
          },
          "execution_count": 47
        }
      ]
    },
    {
      "cell_type": "markdown",
      "metadata": {
        "id": "zRdU5A_ia-oF"
      },
      "source": [
        "Como estamos tratando com 10 classes, a quantidade de métricas acaba dificultando a visualização. Uma maneira mais visual de avaliar neste caso é vendo a matriz como imagem."
      ]
    },
    {
      "cell_type": "code",
      "metadata": {
        "id": "f3e0mpuXa-oG",
        "colab": {
          "base_uri": "https://localhost:8080/",
          "height": 275
        },
        "outputId": "16b292b4-32ad-41f5-e55d-3adb700889b4"
      },
      "source": [
        "plt.matshow(conf_mx,cmap=plt.cm.gray)\n",
        "plt.show()"
      ],
      "execution_count": 48,
      "outputs": [
        {
          "output_type": "display_data",
          "data": {
            "image/png": "[encoded data removed]",
            "text/plain": [
              "<Figure size 288x288 with 1 Axes>"
            ]
          },
          "metadata": {
            "tags": [],
            "needs_background": "light"
          }
        }
      ]
    },
    {
      "cell_type": "markdown",
      "metadata": {
        "id": "rsZ9I0q2a-oK"
      },
      "source": [
        "Como a grande maioria dos valores se encontra na diagonal principal, as previsões estão corretas e pode-se concluir que o \n",
        "desempenho do modelo está bom."
      ]
    },
    {
      "cell_type": "markdown",
      "metadata": {
        "id": "ukmp7epea-oK"
      },
      "source": [
        "#### Exercício 7.1\n",
        "\n",
        "Implemente um modelo SVM para a tarefa de multiclassificação e imprima o número de estimadores criados usando a estratégia OvA."
      ]
    },
    {
      "cell_type": "code",
      "metadata": {
        "exid": "7.1",
        "id": "JxQRIgL0a-oM",
        "colab": {
          "base_uri": "https://localhost:8080/"
        },
        "outputId": "d834a7d7-6eb2-4d7c-eca4-42f9373e086f"
      },
      "source": [
        "from sklearn.svm import SVC\n",
        "from sklearn.multiclass import OneVsOneClassifier\n",
        "\n",
        "ova_clf = OneVsOneClassifier(SVC(gamma='auto'))\n",
        "ova_clf.fit(X_train, y_train)\n",
        "\n",
        "print(y_test[20])\n",
        "print(ova_clf.predict(X_test[20].reshape(1, -1))[0])\n",
        "\n",
        "n_estimadores = len(ova_clf.estimators_)\n",
        "print(n_estimadores)"
      ],
      "execution_count": 49,
      "outputs": [
        {
          "output_type": "stream",
          "text": [
            "9\n",
            "9\n",
            "45\n"
          ],
          "name": "stdout"
        }
      ]
    },
    {
      "cell_type": "markdown",
      "metadata": {
        "id": "VCTZvFT1a-oQ"
      },
      "source": [
        "___"
      ]
    },
    {
      "cell_type": "markdown",
      "metadata": {
        "id": "rRLNIjISa-oS"
      },
      "source": [
        "<a id=\"digdeeper\"></a>\n",
        "## 8. Dig Deeper\n",
        "\n",
        "* [Multi-Class Text Classification with Scikit-Learn](https://towardsdatascience.com/multi-class-text-classification-with-scikit-learn-12f1e60e0a9f)\n",
        "* [Music Genre Classification with Python](https://towardsdatascience.com/music-genre-classification-with-python-c714d032f0d8)\n",
        "* [XGBoost Algorithm: Long May She Reign!](https://towardsdatascience.com/https-medium-com-vishalmorde-xgboost-algorithm-long-she-may-rein-edd9f99be63d)\n",
        "* [Fine-tuning XGBoost in Python like a boss](https://towardsdatascience.com/fine-tuning-xgboost-in-python-like-a-boss-b4543ed8b1e)\n",
        "* [An interesting and intuitive view of AUC and ROC curve](https://towardsdatascience.com/an-interesting-and-intuitive-view-of-auc-5f6498d87328)"
      ]
    },
    {
      "cell_type": "code",
      "metadata": {
        "id": "Vv7cBbgrHgZ6",
        "colab": {
          "base_uri": "https://localhost:8080/",
          "height": 561
        },
        "outputId": "e260100b-413f-471e-eaef-426842714d36"
      },
      "source": [
        "# LEMBRE-SE DE SALVAR O NOTEBOOK ANTES DE EXECUTAR ESSA CÉLULA\n",
        "token = '<SEU TOKEN AQUI>' # seu token aqui\n",
        " \n",
        "# Não altere o código \tabaixo\n",
        "import requests as req\n",
        "exec(req.get('https://api.vai.academy/submissioncode').text)"
      ],
      "execution_count": 50,
      "outputs": [
        {
          "output_type": "error",
          "ename": "KeyboardInterrupt",
          "evalue": "ignored",
          "traceback": [
            "\u001b[0;31m---------------------------------------------------------------------------\u001b[0m",
            "\u001b[0;31mKeyboardInterrupt\u001b[0m                         Traceback (most recent call last)",
            "\u001b[0;32m/usr/local/lib/python3.7/dist-packages/ipykernel/kernelbase.py\u001b[0m in \u001b[0;36m_input_request\u001b[0;34m(self, prompt, ident, parent, password)\u001b[0m\n\u001b[1;32m    728\u001b[0m             \u001b[0;32mtry\u001b[0m\u001b[0;34m:\u001b[0m\u001b[0;34m\u001b[0m\u001b[0;34m\u001b[0m\u001b[0m\n\u001b[0;32m--> 729\u001b[0;31m                 \u001b[0mident\u001b[0m\u001b[0;34m,\u001b[0m \u001b[0mreply\u001b[0m \u001b[0;34m=\u001b[0m \u001b[0mself\u001b[0m\u001b[0;34m.\u001b[0m\u001b[0msession\u001b[0m\u001b[0;34m.\u001b[0m\u001b[0mrecv\u001b[0m\u001b[0;34m(\u001b[0m\u001b[0mself\u001b[0m\u001b[0;34m.\u001b[0m\u001b[0mstdin_socket\u001b[0m\u001b[0;34m,\u001b[0m \u001b[0;36m0\u001b[0m\u001b[0;34m)\u001b[0m\u001b[0;34m\u001b[0m\u001b[0;34m\u001b[0m\u001b[0m\n\u001b[0m\u001b[1;32m    730\u001b[0m             \u001b[0;32mexcept\u001b[0m \u001b[0mException\u001b[0m\u001b[0;34m:\u001b[0m\u001b[0;34m\u001b[0m\u001b[0;34m\u001b[0m\u001b[0m\n",
            "\u001b[0;32m/usr/local/lib/python3.7/dist-packages/jupyter_client/session.py\u001b[0m in \u001b[0;36mrecv\u001b[0;34m(self, socket, mode, content, copy)\u001b[0m\n\u001b[1;32m    802\u001b[0m         \u001b[0;32mtry\u001b[0m\u001b[0;34m:\u001b[0m\u001b[0;34m\u001b[0m\u001b[0;34m\u001b[0m\u001b[0m\n\u001b[0;32m--> 803\u001b[0;31m             \u001b[0mmsg_list\u001b[0m \u001b[0;34m=\u001b[0m \u001b[0msocket\u001b[0m\u001b[0;34m.\u001b[0m\u001b[0mrecv_multipart\u001b[0m\u001b[0;34m(\u001b[0m\u001b[0mmode\u001b[0m\u001b[0;34m,\u001b[0m \u001b[0mcopy\u001b[0m\u001b[0;34m=\u001b[0m\u001b[0mcopy\u001b[0m\u001b[0;34m)\u001b[0m\u001b[0;34m\u001b[0m\u001b[0;34m\u001b[0m\u001b[0m\n\u001b[0m\u001b[1;32m    804\u001b[0m         \u001b[0;32mexcept\u001b[0m \u001b[0mzmq\u001b[0m\u001b[0;34m.\u001b[0m\u001b[0mZMQError\u001b[0m \u001b[0;32mas\u001b[0m \u001b[0me\u001b[0m\u001b[0;34m:\u001b[0m\u001b[0;34m\u001b[0m\u001b[0;34m\u001b[0m\u001b[0m\n",
            "\u001b[0;32m/usr/local/lib/python3.7/dist-packages/zmq/sugar/socket.py\u001b[0m in \u001b[0;36mrecv_multipart\u001b[0;34m(self, flags, copy, track)\u001b[0m\n\u001b[1;32m    582\u001b[0m         \"\"\"\n\u001b[0;32m--> 583\u001b[0;31m         \u001b[0mparts\u001b[0m \u001b[0;34m=\u001b[0m \u001b[0;34m[\u001b[0m\u001b[0mself\u001b[0m\u001b[0;34m.\u001b[0m\u001b[0mrecv\u001b[0m\u001b[0;34m(\u001b[0m\u001b[0mflags\u001b[0m\u001b[0;34m,\u001b[0m \u001b[0mcopy\u001b[0m\u001b[0;34m=\u001b[0m\u001b[0mcopy\u001b[0m\u001b[0;34m,\u001b[0m \u001b[0mtrack\u001b[0m\u001b[0;34m=\u001b[0m\u001b[0mtrack\u001b[0m\u001b[0;34m)\u001b[0m\u001b[0;34m]\u001b[0m\u001b[0;34m\u001b[0m\u001b[0;34m\u001b[0m\u001b[0m\n\u001b[0m\u001b[1;32m    584\u001b[0m         \u001b[0;31m# have first part already, only loop while more to receive\u001b[0m\u001b[0;34m\u001b[0m\u001b[0;34m\u001b[0m\u001b[0;34m\u001b[0m\u001b[0m\n",
            "\u001b[0;32mzmq/backend/cython/socket.pyx\u001b[0m in \u001b[0;36mzmq.backend.cython.socket.Socket.recv\u001b[0;34m()\u001b[0m\n",
            "\u001b[0;32mzmq/backend/cython/socket.pyx\u001b[0m in \u001b[0;36mzmq.backend.cython.socket.Socket.recv\u001b[0;34m()\u001b[0m\n",
            "\u001b[0;32mzmq/backend/cython/socket.pyx\u001b[0m in \u001b[0;36mzmq.backend.cython.socket._recv_copy\u001b[0;34m()\u001b[0m\n",
            "\u001b[0;32m/usr/local/lib/python3.7/dist-packages/zmq/backend/cython/checkrc.pxd\u001b[0m in \u001b[0;36mzmq.backend.cython.checkrc._check_rc\u001b[0;34m()\u001b[0m\n",
            "\u001b[0;31mKeyboardInterrupt\u001b[0m: ",
            "\nDuring handling of the above exception, another exception occurred:\n",
            "\u001b[0;31mKeyboardInterrupt\u001b[0m                         Traceback (most recent call last)",
            "\u001b[0;32m<ipython-input-50-cca556fdff1a>\u001b[0m in \u001b[0;36m<module>\u001b[0;34m()\u001b[0m\n\u001b[1;32m      4\u001b[0m \u001b[0;31m# Não altere o código   abaixo\u001b[0m\u001b[0;34m\u001b[0m\u001b[0;34m\u001b[0m\u001b[0;34m\u001b[0m\u001b[0m\n\u001b[1;32m      5\u001b[0m \u001b[0;32mimport\u001b[0m \u001b[0mrequests\u001b[0m \u001b[0;32mas\u001b[0m \u001b[0mreq\u001b[0m\u001b[0;34m\u001b[0m\u001b[0;34m\u001b[0m\u001b[0m\n\u001b[0;32m----> 6\u001b[0;31m \u001b[0mexec\u001b[0m\u001b[0;34m(\u001b[0m\u001b[0mreq\u001b[0m\u001b[0;34m.\u001b[0m\u001b[0mget\u001b[0m\u001b[0;34m(\u001b[0m\u001b[0;34m'https://api.vai.academy/submissioncode'\u001b[0m\u001b[0;34m)\u001b[0m\u001b[0;34m.\u001b[0m\u001b[0mtext\u001b[0m\u001b[0;34m)\u001b[0m\u001b[0;34m\u001b[0m\u001b[0;34m\u001b[0m\u001b[0m\n\u001b[0m",
            "\u001b[0;32m<string>\u001b[0m in \u001b[0;36m<module>\u001b[0;34m()\u001b[0m\n",
            "\u001b[0;32m/usr/local/lib/python3.7/dist-packages/google/colab/auth.py\u001b[0m in \u001b[0;36mauthenticate_user\u001b[0;34m(clear_output)\u001b[0m\n\u001b[1;32m    149\u001b[0m     \u001b[0mcontext_manager\u001b[0m \u001b[0;34m=\u001b[0m \u001b[0m_output\u001b[0m\u001b[0;34m.\u001b[0m\u001b[0mtemporary\u001b[0m \u001b[0;32mif\u001b[0m \u001b[0mclear_output\u001b[0m \u001b[0;32melse\u001b[0m \u001b[0m_noop\u001b[0m\u001b[0;34m\u001b[0m\u001b[0;34m\u001b[0m\u001b[0m\n\u001b[1;32m    150\u001b[0m     \u001b[0;32mwith\u001b[0m \u001b[0mcontext_manager\u001b[0m\u001b[0;34m(\u001b[0m\u001b[0;34m)\u001b[0m\u001b[0;34m:\u001b[0m\u001b[0;34m\u001b[0m\u001b[0;34m\u001b[0m\u001b[0m\n\u001b[0;32m--> 151\u001b[0;31m       \u001b[0m_gcloud_login\u001b[0m\u001b[0;34m(\u001b[0m\u001b[0;34m)\u001b[0m\u001b[0;34m\u001b[0m\u001b[0;34m\u001b[0m\u001b[0m\n\u001b[0m\u001b[1;32m    152\u001b[0m     \u001b[0m_install_adc\u001b[0m\u001b[0;34m(\u001b[0m\u001b[0;34m)\u001b[0m\u001b[0;34m\u001b[0m\u001b[0;34m\u001b[0m\u001b[0m\n\u001b[1;32m    153\u001b[0m     \u001b[0mcolab_tpu_addr\u001b[0m \u001b[0;34m=\u001b[0m \u001b[0m_os\u001b[0m\u001b[0;34m.\u001b[0m\u001b[0menviron\u001b[0m\u001b[0;34m.\u001b[0m\u001b[0mget\u001b[0m\u001b[0;34m(\u001b[0m\u001b[0;34m'COLAB_TPU_ADDR'\u001b[0m\u001b[0;34m,\u001b[0m \u001b[0;34m''\u001b[0m\u001b[0;34m)\u001b[0m\u001b[0;34m\u001b[0m\u001b[0;34m\u001b[0m\u001b[0m\n",
            "\u001b[0;32m/usr/local/lib/python3.7/dist-packages/google/colab/auth.py\u001b[0m in \u001b[0;36m_gcloud_login\u001b[0;34m()\u001b[0m\n\u001b[1;32m     93\u001b[0m     \u001b[0;31m# https://github.com/jupyter/notebook/issues/3159\u001b[0m\u001b[0;34m\u001b[0m\u001b[0;34m\u001b[0m\u001b[0;34m\u001b[0m\u001b[0m\n\u001b[1;32m     94\u001b[0m     \u001b[0mprompt\u001b[0m \u001b[0;34m=\u001b[0m \u001b[0mprompt\u001b[0m\u001b[0;34m.\u001b[0m\u001b[0mrstrip\u001b[0m\u001b[0;34m(\u001b[0m\u001b[0;34m)\u001b[0m\u001b[0;34m\u001b[0m\u001b[0;34m\u001b[0m\u001b[0m\n\u001b[0;32m---> 95\u001b[0;31m     \u001b[0mcode\u001b[0m \u001b[0;34m=\u001b[0m \u001b[0mget_code\u001b[0m\u001b[0;34m(\u001b[0m\u001b[0mprompt\u001b[0m \u001b[0;34m+\u001b[0m \u001b[0;34m' '\u001b[0m\u001b[0;34m)\u001b[0m\u001b[0;34m\u001b[0m\u001b[0;34m\u001b[0m\u001b[0m\n\u001b[0m\u001b[1;32m     96\u001b[0m     \u001b[0mgcloud_process\u001b[0m\u001b[0;34m.\u001b[0m\u001b[0mcommunicate\u001b[0m\u001b[0;34m(\u001b[0m\u001b[0mcode\u001b[0m\u001b[0;34m.\u001b[0m\u001b[0mstrip\u001b[0m\u001b[0;34m(\u001b[0m\u001b[0;34m)\u001b[0m\u001b[0;34m)\u001b[0m\u001b[0;34m\u001b[0m\u001b[0;34m\u001b[0m\u001b[0m\n\u001b[1;32m     97\u001b[0m   \u001b[0;32mfinally\u001b[0m\u001b[0;34m:\u001b[0m\u001b[0;34m\u001b[0m\u001b[0;34m\u001b[0m\u001b[0m\n",
            "\u001b[0;32m/usr/local/lib/python3.7/dist-packages/ipykernel/kernelbase.py\u001b[0m in \u001b[0;36mraw_input\u001b[0;34m(self, prompt)\u001b[0m\n\u001b[1;32m    702\u001b[0m             \u001b[0mself\u001b[0m\u001b[0;34m.\u001b[0m\u001b[0m_parent_ident\u001b[0m\u001b[0;34m,\u001b[0m\u001b[0;34m\u001b[0m\u001b[0;34m\u001b[0m\u001b[0m\n\u001b[1;32m    703\u001b[0m             \u001b[0mself\u001b[0m\u001b[0;34m.\u001b[0m\u001b[0m_parent_header\u001b[0m\u001b[0;34m,\u001b[0m\u001b[0;34m\u001b[0m\u001b[0;34m\u001b[0m\u001b[0m\n\u001b[0;32m--> 704\u001b[0;31m             \u001b[0mpassword\u001b[0m\u001b[0;34m=\u001b[0m\u001b[0;32mFalse\u001b[0m\u001b[0;34m,\u001b[0m\u001b[0;34m\u001b[0m\u001b[0;34m\u001b[0m\u001b[0m\n\u001b[0m\u001b[1;32m    705\u001b[0m         )\n\u001b[1;32m    706\u001b[0m \u001b[0;34m\u001b[0m\u001b[0m\n",
            "\u001b[0;32m/usr/local/lib/python3.7/dist-packages/ipykernel/kernelbase.py\u001b[0m in \u001b[0;36m_input_request\u001b[0;34m(self, prompt, ident, parent, password)\u001b[0m\n\u001b[1;32m    732\u001b[0m             \u001b[0;32mexcept\u001b[0m \u001b[0mKeyboardInterrupt\u001b[0m\u001b[0;34m:\u001b[0m\u001b[0;34m\u001b[0m\u001b[0;34m\u001b[0m\u001b[0m\n\u001b[1;32m    733\u001b[0m                 \u001b[0;31m# re-raise KeyboardInterrupt, to truncate traceback\u001b[0m\u001b[0;34m\u001b[0m\u001b[0;34m\u001b[0m\u001b[0;34m\u001b[0m\u001b[0m\n\u001b[0;32m--> 734\u001b[0;31m                 \u001b[0;32mraise\u001b[0m \u001b[0mKeyboardInterrupt\u001b[0m\u001b[0;34m\u001b[0m\u001b[0;34m\u001b[0m\u001b[0m\n\u001b[0m\u001b[1;32m    735\u001b[0m             \u001b[0;32melse\u001b[0m\u001b[0;34m:\u001b[0m\u001b[0;34m\u001b[0m\u001b[0;34m\u001b[0m\u001b[0m\n\u001b[1;32m    736\u001b[0m                 \u001b[0;32mbreak\u001b[0m\u001b[0;34m\u001b[0m\u001b[0;34m\u001b[0m\u001b[0m\n",
            "\u001b[0;31mKeyboardInterrupt\u001b[0m: "
          ]
        }
      ]
    }
  ]
}